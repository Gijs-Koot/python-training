{
 "cells": [
  {
   "cell_type": "markdown",
   "metadata": {
    "slideshow": {
     "slide_type": "slide"
    }
   },
   "source": [
    "## Today\n",
    "\n",
    "0. Recap of important functions from basic Python\n",
    "    * .. and some new ones\n",
    "1. Learning about `numpy` and `matplotlib`\n",
    "    * Plotting, functions and arrays\n",
    "2. `pandas`\n",
    "    * Using `DataFrames`\n",
    "\n",
    "---\n",
    "\n",
    "* https://tomaugspurger.github.io/modern-1.html\n",
    "* https://www.reddit.com/r/Python/"
   ]
  },
  {
   "cell_type": "markdown",
   "metadata": {
    "slideshow": {
     "slide_type": "subslide"
    }
   },
   "source": [
    "## Exercise\n",
    "\n",
    "* Calculate\n",
    "\n",
    "$$1 + \\frac{1}{2} + \\frac{1}{4} + \\frac{1}{8} + \\frac{1}{2^4} + \\frac{1}{2^5} + \\dots + \\frac{1}{2^{100}}$$\n",
    "\n",
    "* Write a function that calculates the sum above for any given `n` (instead of ending at 100)"
   ]
  },
  {
   "cell_type": "code",
   "execution_count": null,
   "metadata": {
    "collapsed": true,
    "slideshow": {
     "slide_type": "fragment"
    }
   },
   "outputs": [],
   "source": [
    "## solution\n",
    "\n"
   ]
  },
  {
   "cell_type": "markdown",
   "metadata": {
    "collapsed": true,
    "slideshow": {
     "slide_type": "slide"
    }
   },
   "source": [
    "### Lambda functions\n",
    "\n",
    "* A way to write simple functions on one line\n",
    "* Compact way of writing, no `return` needed\n",
    "* Doesn't need a name\n",
    "\n",
    "`sorted([3, 4, 1], key=lambda x: -x)`\n",
    "\n",
    "### Comprehensions\n",
    "\n",
    "* Filter and transform a `list`, `dict` or `set` on one line\n",
    "* No loops need, you can include `if` as well\n",
    "\n",
    "`[x ** 2 for x in range(1, 4)]`"
   ]
  },
  {
   "cell_type": "code",
   "execution_count": 1,
   "metadata": {
    "collapsed": false,
    "slideshow": {
     "slide_type": "subslide"
    }
   },
   "outputs": [
    {
     "data": {
      "text/plain": [
       "6"
      ]
     },
     "execution_count": 1,
     "metadata": {},
     "output_type": "execute_result"
    }
   ],
   "source": [
    "add_two = lambda x: x + 2\n",
    "\n",
    "add_two(4)"
   ]
  },
  {
   "cell_type": "code",
   "execution_count": 3,
   "metadata": {
    "collapsed": false,
    "slideshow": {
     "slide_type": "fragment"
    }
   },
   "outputs": [
    {
     "data": {
      "text/plain": [
       "[2, 3, 4, 5, 6, 7, 8, 9, 10, 11]"
      ]
     },
     "execution_count": 3,
     "metadata": {},
     "output_type": "execute_result"
    }
   ],
   "source": [
    "[add_two(x) for x in range(0, 10)]"
   ]
  },
  {
   "cell_type": "code",
   "execution_count": 27,
   "metadata": {
    "collapsed": false,
    "slideshow": {
     "slide_type": "fragment"
    }
   },
   "outputs": [],
   "source": [
    "d = {\n",
    "    i: add_two(i) for i in range(6) if i > 3\n",
    "}"
   ]
  },
  {
   "cell_type": "markdown",
   "metadata": {
    "slideshow": {
     "slide_type": "slide"
    }
   },
   "source": [
    "### Importing packages\n",
    "\n",
    "* Make packages (that are already installed) available\n",
    "* You can give them your own name with `as`\n",
    "* You can import subparts with `from .. import ..`"
   ]
  },
  {
   "cell_type": "code",
   "execution_count": 33,
   "metadata": {
    "collapsed": false,
    "slideshow": {
     "slide_type": "fragment"
    }
   },
   "outputs": [
    {
     "data": {
      "text/plain": [
       "datetime.datetime(2016, 12, 2, 16, 16, 4, 619362)"
      ]
     },
     "execution_count": 33,
     "metadata": {},
     "output_type": "execute_result"
    }
   ],
   "source": [
    "# import datetime\n",
    "# from datetime import datetime\n",
    "\n",
    "datetime.datetime.now()"
   ]
  },
  {
   "cell_type": "code",
   "execution_count": 39,
   "metadata": {
    "collapsed": false,
    "slideshow": {
     "slide_type": "subslide"
    }
   },
   "outputs": [
    {
     "data": {
      "text/plain": [
       "(65,\n",
       " {'Adj_Close': '808.200012',\n",
       "  'Close': '808.200012',\n",
       "  'Date': '2016-08-11',\n",
       "  'High': '813.880005',\n",
       "  'Low': '806.00',\n",
       "  'Open': '810.469971',\n",
       "  'Symbol': 'GOOGL',\n",
       "  'Volume': '1282300'},\n",
       " list,\n",
       " dict)"
      ]
     },
     "execution_count": 39,
     "metadata": {},
     "output_type": "execute_result"
    }
   ],
   "source": [
    "## importing packages works with import or from import\n",
    "\n",
    "from yahoo_finance import Share\n",
    "\n",
    "google = Share('GOOGL')\n",
    "hist = google.get_historical('2016-08-11', '2016-11-10')\n",
    "len(hist), hist[-1], type(hist), type(hist[-1])"
   ]
  },
  {
   "cell_type": "code",
   "execution_count": 62,
   "metadata": {
    "collapsed": false,
    "slideshow": {
     "slide_type": "subslide"
    }
   },
   "outputs": [
    {
     "data": {
      "text/html": [
       "<div>\n",
       "<table border=\"1\" class=\"dataframe\">\n",
       "  <thead>\n",
       "    <tr style=\"text-align: right;\">\n",
       "      <th></th>\n",
       "      <th>Adj_Close</th>\n",
       "      <th>Close</th>\n",
       "      <th>Date</th>\n",
       "      <th>High</th>\n",
       "      <th>Low</th>\n",
       "      <th>Open</th>\n",
       "      <th>Symbol</th>\n",
       "      <th>Volume</th>\n",
       "    </tr>\n",
       "  </thead>\n",
       "  <tbody>\n",
       "    <tr>\n",
       "      <th>0</th>\n",
       "      <td>780.289978</td>\n",
       "      <td>780.289978</td>\n",
       "      <td>2016-11-10</td>\n",
       "      <td>810.059998</td>\n",
       "      <td>768.22998</td>\n",
       "      <td>810.00</td>\n",
       "      <td>GOOGL</td>\n",
       "      <td>5908200</td>\n",
       "    </tr>\n",
       "    <tr>\n",
       "      <th>1</th>\n",
       "      <td>805.590027</td>\n",
       "      <td>805.590027</td>\n",
       "      <td>2016-11-09</td>\n",
       "      <td>811.710022</td>\n",
       "      <td>792.039978</td>\n",
       "      <td>801.830017</td>\n",
       "      <td>GOOGL</td>\n",
       "      <td>3095000</td>\n",
       "    </tr>\n",
       "  </tbody>\n",
       "</table>\n",
       "</div>"
      ],
      "text/plain": [
       "    Adj_Close       Close        Date        High         Low        Open  \\\n",
       "0  780.289978  780.289978  2016-11-10  810.059998   768.22998      810.00   \n",
       "1  805.590027  805.590027  2016-11-09  811.710022  792.039978  801.830017   \n",
       "\n",
       "  Symbol   Volume  \n",
       "0  GOOGL  5908200  \n",
       "1  GOOGL  3095000  "
      ]
     },
     "execution_count": 62,
     "metadata": {},
     "output_type": "execute_result"
    }
   ],
   "source": [
    "import pandas as pd\n",
    "\n",
    "df = pd.DataFrame(hist)\n",
    "df.head(2)"
   ]
  },
  {
   "cell_type": "code",
   "execution_count": 63,
   "metadata": {
    "collapsed": false,
    "slideshow": {
     "slide_type": "fragment"
    }
   },
   "outputs": [
    {
     "data": {
      "text/plain": [
       "pandas.core.frame.DataFrame"
      ]
     },
     "execution_count": 63,
     "metadata": {},
     "output_type": "execute_result"
    }
   ],
   "source": [
    "type(df)"
   ]
  },
  {
   "cell_type": "code",
   "execution_count": 65,
   "metadata": {
    "collapsed": true,
    "slideshow": {
     "slide_type": "fragment"
    }
   },
   "outputs": [],
   "source": [
    "## the type corresponds to a python file that python loads from your computer - this doesn't work for you by the way\n",
    "!xdg-open /home/gijs/anaconda3/pkgs/pandas-0.19.1-np111py35_0/lib/python3.5/site-packages/pandas/core/frame.py"
   ]
  },
  {
   "cell_type": "markdown",
   "metadata": {
    "collapsed": true,
    "slideshow": {
     "slide_type": "slide"
    }
   },
   "source": [
    "## String formatting / interpolation\n",
    "\n",
    "* Used for quickly putting together strings\n",
    "* A couple of different ways of doing this\n",
    "\n",
    "```\n",
    "x = \"python\"\n",
    "txt = \"Hello, {x}!\".format(x=x)\n",
    "print(txt)\n",
    "```"
   ]
  },
  {
   "cell_type": "code",
   "execution_count": 66,
   "metadata": {
    "collapsed": false,
    "slideshow": {
     "slide_type": "fragment"
    }
   },
   "outputs": [
    {
     "name": "stdout",
     "output_type": "stream",
     "text": [
      "Hello, python!\n"
     ]
    }
   ],
   "source": [
    "x = \"python\"\n",
    "txt = \"Hello, {x}!\".format(x=x)\n",
    "print(txt)"
   ]
  },
  {
   "cell_type": "code",
   "execution_count": 59,
   "metadata": {
    "collapsed": false,
    "slideshow": {
     "slide_type": "subslide"
    }
   },
   "outputs": [
    {
     "name": "stdout",
     "output_type": "stream",
     "text": [
      "0 H\n",
      "Letter 0: H\n",
      "1 e\n",
      "Letter 1: e\n",
      "2 l\n",
      "Letter 2: l\n",
      "3 l\n",
      "Letter 3: l\n",
      "4 o\n",
      "Letter 4: o\n",
      "5 !\n",
      "Letter 5: !\n"
     ]
    }
   ],
   "source": [
    "# txt = \"Letter {:>20.2f}: {:>15}\"\n",
    "txt = \"Letter {}: {}\"\n",
    "\n",
    "for i, letter in enumerate(\"Hello!\"):\n",
    "    print(i, letter)\n",
    "    print(txt.format(i, letter))"
   ]
  },
  {
   "cell_type": "markdown",
   "metadata": {
    "slideshow": {
     "slide_type": "slide"
    }
   },
   "source": [
    "## Exercise: lambda functions and imports\n",
    "\n",
    "* Sort this list of lists according to the sum of the last two values.\n",
    "* Look at the creation of this list. Can you follow what's going on?"
   ]
  },
  {
   "cell_type": "code",
   "execution_count": 21,
   "metadata": {
    "collapsed": false,
    "slideshow": {
     "slide_type": "subslide"
    }
   },
   "outputs": [
    {
     "data": {
      "text/plain": [
       "[[98, 51, 53],\n",
       " [10, 72, 32],\n",
       " [91, 30, 25],\n",
       " [6, 34, 30],\n",
       " [97, 84, 81],\n",
       " [33, 71, 1],\n",
       " [1, 49, 14],\n",
       " [60, 65, 37],\n",
       " [6, 93, 70],\n",
       " [77, 22, 39],\n",
       " [60, 71, 14],\n",
       " [14, 55, 5],\n",
       " [28, 19, 14],\n",
       " [6, 12, 46],\n",
       " [27, 25, 74],\n",
       " [67, 20, 85],\n",
       " [83, 99, 30],\n",
       " [4, 79, 37],\n",
       " [36, 16, 99],\n",
       " [66, 39, 28]]"
      ]
     },
     "execution_count": 21,
     "metadata": {},
     "output_type": "execute_result"
    }
   ],
   "source": [
    "## list creation, run only once\n",
    "\n",
    "import numpy as np\n",
    "\n",
    "l = np.vstack((np.random.randint(0, 100, size=20) for i in range(3))).T.tolist()\n",
    "\n",
    "l"
   ]
  },
  {
   "cell_type": "code",
   "execution_count": 60,
   "metadata": {
    "collapsed": true,
    "slideshow": {
     "slide_type": "subslide"
    }
   },
   "outputs": [],
   "source": [
    "## solution \n",
    "## use sorted or l.sort, and define a lambda function as the key argumentt\n",
    "\n"
   ]
  },
  {
   "cell_type": "markdown",
   "metadata": {
    "slideshow": {
     "slide_type": "subslide"
    }
   },
   "source": [
    "## Exercise: comprehensions, `zip` and `enumerate`\n",
    "\n",
    "* Zip the names and the scores into a dictionary with the names as keys, and the scores as values\n",
    "* Use `enumerate` and `.format` to print the names with an ordering as in the given list, as below\n",
    "\n",
    "```\n",
    "1. Alfred\n",
    "2. Claire\n",
    "3. Dennis\n",
    "...\n",
    "```\n",
    "\n",
    "* Now print a line for each name, with it's score like this:\n",
    "\n",
    "```\n",
    "1. Alfred's grade was a 3\n",
    "2. Claire's grade was a 2\n",
    "...\n",
    "```\n",
    "\n",
    "* Now, first sort the names by first letter. Can you also do it sorted on last letter?"
   ]
  },
  {
   "cell_type": "code",
   "execution_count": 61,
   "metadata": {
    "collapsed": true,
    "slideshow": {
     "slide_type": "subslide"
    }
   },
   "outputs": [],
   "source": [
    "## data, run once\n",
    "\n",
    "names = [\"Alfred\", \"Claire\", \"Dennis\", \"Bas\", \"Eva\", \"Bert\"]\n",
    "scores = [3, 2, 6, 7, 10]"
   ]
  },
  {
   "cell_type": "code",
   "execution_count": null,
   "metadata": {
    "collapsed": true,
    "slideshow": {
     "slide_type": "fragment"
    }
   },
   "outputs": [],
   "source": [
    "## your solution\n",
    "## Zip the names and the scores into a dictionary with the names as keys, and the scores as values\n",
    "\n"
   ]
  },
  {
   "cell_type": "code",
   "execution_count": null,
   "metadata": {
    "collapsed": true,
    "slideshow": {
     "slide_type": "fragment"
    }
   },
   "outputs": [],
   "source": [
    "## your solution\n",
    "## Use enumerate and .format to print the names with an ordering as in the given list\n",
    "\n"
   ]
  }
 ],
 "metadata": {
  "anaconda-cloud": {},
  "celltoolbar": "Slideshow",
  "kernelspec": {
   "display_name": "Python [conda root]",
   "language": "python",
   "name": "conda-root-py"
  },
  "language_info": {
   "codemirror_mode": {
    "name": "ipython",
    "version": 3
   },
   "file_extension": ".py",
   "mimetype": "text/x-python",
   "name": "python",
   "nbconvert_exporter": "python",
   "pygments_lexer": "ipython3",
   "version": "3.5.2"
  }
 },
 "nbformat": 4,
 "nbformat_minor": 1
}
