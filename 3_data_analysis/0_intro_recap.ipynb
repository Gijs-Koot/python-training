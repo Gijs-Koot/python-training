{
 "cells": [
  {
   "cell_type": "markdown",
   "metadata": {
    "slideshow": {
     "slide_type": "slide"
    }
   },
   "source": [
    "## Today\n",
    "\n",
    "0. Recap of important functions from basic Python\n",
    "    * .. and some new ones\n",
    "1. Learning about `numpy` and `matplotlib`\n",
    "    * Plotting, functions and arrays\n",
    "2. `pandas`\n",
    "    * Using `DataFrames`\n",
    "\n",
    "---\n",
    "\n",
    "* https://tomaugspurger.github.io/modern-1.html\n",
    "* https://www.reddit.com/r/Python/"
   ]
  },
  {
   "cell_type": "markdown",
   "metadata": {
    "slideshow": {
     "slide_type": "subslide"
    }
   },
   "source": [
    "## Exercise\n",
    "\n",
    "* Calculate\n",
    "\n",
    "$$1 + \\frac{1}{2} + \\frac{1}{4} + \\frac{1}{8} + \\frac{1}{2^4} + \\frac{1}{2^5} + \\dots + \\frac{1}{2^{100}}$$\n",
    "\n",
    "* Write a function that calculates the sum above for any given `n` (instead of ending at 100)"
   ]
  },
  {
   "cell_type": "code",
   "execution_count": null,
   "metadata": {
    "collapsed": true,
    "slideshow": {
     "slide_type": "fragment"
    }
   },
   "outputs": [],
   "source": [
    "## solution\n",
    "\n"
   ]
  },
  {
   "cell_type": "markdown",
   "metadata": {
    "collapsed": true,
    "slideshow": {
     "slide_type": "slide"
    }
   },
   "source": [
    "### Lambda functions\n",
    "\n",
    "* A way to write simple functions on one line\n",
    "* Compact way of writing, no `return` needed\n",
    "* Doesn't need a name\n",
    "\n",
    "`sorted([3, 4, 1], key=lambda x: -x)`\n",
    "\n",
    "### Comprehensions\n",
    "\n",
    "* Filter and transform a `list`, `dict` or `set` on one line\n",
    "* No loops need, you can include `if` as well\n",
    "\n",
    "`[x ** 2 for x in range(1, 4)]`"
   ]
  },
  {
   "cell_type": "code",
   "execution_count": null,
   "metadata": {
    "collapsed": false,
    "slideshow": {
     "slide_type": "subslide"
    }
   },
   "outputs": [],
   "source": [
    "add_two = lambda x: x + 2\n",
    "\n",
    "add_two(4)"
   ]
  },
  {
   "cell_type": "code",
   "execution_count": null,
   "metadata": {
    "collapsed": false,
    "slideshow": {
     "slide_type": "fragment"
    }
   },
   "outputs": [],
   "source": [
    "[add_two(x) for x in range(0, 10)]"
   ]
  },
  {
   "cell_type": "code",
   "execution_count": null,
   "metadata": {
    "collapsed": false,
    "slideshow": {
     "slide_type": "fragment"
    }
   },
   "outputs": [],
   "source": [
    "d = {\n",
    "    i: add_two(i) for i in range(6) if i > 3\n",
    "}"
   ]
  },
  {
   "cell_type": "markdown",
   "metadata": {
    "slideshow": {
     "slide_type": "slide"
    }
   },
   "source": [
    "### Importing packages\n",
    "\n",
    "* Make packages (that are already installed) available\n",
    "* You can give them your own name with `as`\n",
    "* You can import subparts with `from .. import ..`"
   ]
  },
  {
   "cell_type": "code",
   "execution_count": null,
   "metadata": {
    "collapsed": false,
    "slideshow": {
     "slide_type": "fragment"
    }
   },
   "outputs": [],
   "source": [
    "# import datetime\n",
    "# from datetime import datetime\n",
    "\n",
    "datetime.datetime.now()"
   ]
  },
  {
   "cell_type": "code",
   "execution_count": null,
   "metadata": {
    "collapsed": false,
    "slideshow": {
     "slide_type": "subslide"
    }
   },
   "outputs": [],
   "source": [
    "## importing packages works with import or from import\n",
    "\n",
    "from yahoo_finance import Share\n",
    "\n",
    "google = Share('GOOGL')\n",
    "hist = google.get_historical('2016-08-11', '2016-11-10')\n",
    "len(hist), hist[-1], type(hist), type(hist[-1])"
   ]
  },
  {
   "cell_type": "code",
   "execution_count": null,
   "metadata": {
    "collapsed": false,
    "slideshow": {
     "slide_type": "subslide"
    }
   },
   "outputs": [],
   "source": [
    "import pandas as pd\n",
    "\n",
    "df = pd.DataFrame(hist)\n",
    "df.head(2)"
   ]
  },
  {
   "cell_type": "code",
   "execution_count": null,
   "metadata": {
    "collapsed": false,
    "slideshow": {
     "slide_type": "fragment"
    }
   },
   "outputs": [],
   "source": [
    "type(df)"
   ]
  },
  {
   "cell_type": "code",
   "execution_count": null,
   "metadata": {
    "collapsed": true,
    "slideshow": {
     "slide_type": "fragment"
    }
   },
   "outputs": [],
   "source": [
    "## the type corresponds to a python file that python loads from your computer - this doesn't work for you by the way\n",
    "!xdg-open /home/gijs/anaconda3/pkgs/pandas-0.19.1-np111py35_0/lib/python3.5/site-packages/pandas/core/frame.py"
   ]
  },
  {
   "cell_type": "markdown",
   "metadata": {
    "collapsed": true,
    "slideshow": {
     "slide_type": "slide"
    }
   },
   "source": [
    "## String formatting / interpolation\n",
    "\n",
    "* Used for quickly putting together strings\n",
    "* A couple of different ways of doing this\n",
    "\n",
    "```\n",
    "x = \"python\"\n",
    "txt = \"Hello, {x}!\".format(x=x)\n",
    "print(txt)\n",
    "```"
   ]
  },
  {
   "cell_type": "code",
   "execution_count": null,
   "metadata": {
    "collapsed": false,
    "slideshow": {
     "slide_type": "fragment"
    }
   },
   "outputs": [],
   "source": [
    "x = \"python\"\n",
    "txt = \"Hello, {x}!\".format(x=x)\n",
    "print(txt)"
   ]
  },
  {
   "cell_type": "code",
   "execution_count": null,
   "metadata": {
    "collapsed": false,
    "slideshow": {
     "slide_type": "subslide"
    }
   },
   "outputs": [],
   "source": [
    "# txt = \"Letter {:>20.2f}: {:>15}\"\n",
    "txt = \"Letter {}: {}\"\n",
    "\n",
    "for i, letter in enumerate(\"Hello!\"):\n",
    "    print(i, letter)\n",
    "    print(txt.format(i, letter))"
   ]
  },
  {
   "cell_type": "markdown",
   "metadata": {
    "slideshow": {
     "slide_type": "slide"
    }
   },
   "source": [
    "## Exercise: lambda functions and imports\n",
    "\n",
    "* Sort this list of lists according to the sum of the last two values.\n",
    "* Look at the creation of this list. Can you follow what's going on?"
   ]
  },
  {
   "cell_type": "code",
   "execution_count": null,
   "metadata": {
    "collapsed": false,
    "slideshow": {
     "slide_type": "subslide"
    }
   },
   "outputs": [],
   "source": [
    "## list creation, run only once\n",
    "\n",
    "import numpy as np\n",
    "\n",
    "l = np.vstack((np.random.randint(0, 100, size=20) for i in range(3))).T.tolist()\n",
    "\n",
    "l"
   ]
  },
  {
   "cell_type": "code",
   "execution_count": null,
   "metadata": {
    "collapsed": true,
    "slideshow": {
     "slide_type": "subslide"
    }
   },
   "outputs": [],
   "source": [
    "## solution \n",
    "## use sorted or l.sort, and define a lambda function as the key argumentt\n",
    "\n"
   ]
  },
  {
   "cell_type": "markdown",
   "metadata": {
    "slideshow": {
     "slide_type": "subslide"
    }
   },
   "source": [
    "## Exercise: comprehensions, `zip` and `enumerate`\n",
    "\n",
    "* Zip the names and the scores into a dictionary with the names as keys, and the scores as values\n",
    "* Use `enumerate` and `.format` to print the names with an ordering as in the given list, as below\n",
    "\n",
    "```\n",
    "1. Alfred\n",
    "2. Claire\n",
    "3. Dennis\n",
    "...\n",
    "```\n",
    "\n",
    "* Now print a line for each name, with it's score like this:\n",
    "\n",
    "```\n",
    "1. Alfred's grade was a 3\n",
    "2. Claire's grade was a 2\n",
    "...\n",
    "```\n",
    "\n",
    "* Now, first sort the names by first letter. Can you also do it sorted on last letter?"
   ]
  },
  {
   "cell_type": "code",
   "execution_count": null,
   "metadata": {
    "collapsed": true,
    "slideshow": {
     "slide_type": "subslide"
    }
   },
   "outputs": [],
   "source": [
    "## data, run once\n",
    "\n",
    "names = [\"Alfred\", \"Claire\", \"Dennis\", \"Bas\", \"Eva\", \"Bert\"]\n",
    "scores = [3, 2, 6, 7, 10]"
   ]
  },
  {
   "cell_type": "code",
   "execution_count": null,
   "metadata": {
    "collapsed": true,
    "slideshow": {
     "slide_type": "fragment"
    }
   },
   "outputs": [],
   "source": [
    "## your solution\n",
    "## Zip the names and the scores into a dictionary with the names as keys, and the scores as values\n",
    "\n"
   ]
  },
  {
   "cell_type": "code",
   "execution_count": null,
   "metadata": {
    "collapsed": true,
    "slideshow": {
     "slide_type": "fragment"
    }
   },
   "outputs": [],
   "source": [
    "## your solution\n",
    "## Use enumerate and .format to print the names with an ordering as in the given list\n",
    "\n"
   ]
  }
 ],
 "metadata": {
  "anaconda-cloud": {},
  "celltoolbar": "Slideshow",
  "kernelspec": {
   "display_name": "Python [conda root]",
   "language": "python",
   "name": "conda-root-py"
  },
  "language_info": {
   "codemirror_mode": {
    "name": "ipython",
    "version": 3
   },
   "file_extension": ".py",
   "mimetype": "text/x-python",
   "name": "python",
   "nbconvert_exporter": "python",
   "pygments_lexer": "ipython3",
   "version": "3.5.2"
  }
 },
 "nbformat": 4,
 "nbformat_minor": 1
}
