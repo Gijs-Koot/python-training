{
 "cells": [
  {
   "cell_type": "markdown",
   "metadata": {
    "slideshow": {
     "slide_type": "subslide"
    }
   },
   "source": [
    "## The python data stack\n",
    "\n",
    "* Overview of the mainstream packages that are used in Python for data analysis\n",
    "* A look at two core packages\n",
    "    * Numpy for fast array manipulation\n",
    "    * Plotting with matplotlib"
   ]
  },
  {
   "cell_type": "markdown",
   "metadata": {
    "slideshow": {
     "slide_type": "subslide"
    }
   },
   "source": [
    "![./figures/scipy_stack.jpg](./figures/scipy_stack.jpg)"
   ]
  },
  {
   "cell_type": "markdown",
   "metadata": {
    "slideshow": {
     "slide_type": "slide"
    }
   },
   "source": [
    "## Numpy\n",
    "\n",
    "* The unified basis for all other data analysis tasks\n",
    "* Provides the `array` datatype\n",
    "* Interfaces with `C` and `FORTRAN` libraries for speed\n",
    "* https://docs.scipy.org/doc/numpy/reference/"
   ]
  },
  {
   "cell_type": "markdown",
   "metadata": {
    "slideshow": {
     "slide_type": "subslide"
    }
   },
   "source": [
    "## Matplotlib\n",
    "\n",
    "* Provides plotting functions\n",
    "* The basis for other libraries, for example `pandas` builds on it\n",
    "* Not the only standard, many alternatives\n",
    "    * http://seaborn.pydata.org/examples/\n",
    "    * https://plot.ly/python/range-slider/\n",
    "    * http://bokeh.pydata.org/en/latest/docs/gallery/candlestick.html"
   ]
  },
  {
   "cell_type": "code",
   "execution_count": null,
   "metadata": {
    "collapsed": false,
    "slideshow": {
     "slide_type": "subslide"
    }
   },
   "outputs": [],
   "source": [
    "import numpy as np\n",
    "import matplotlib.pyplot as plt\n",
    "\n",
    "x = np.arange(-2, 10)\n",
    "y = np.exp(-x)\n",
    "\n",
    "plt.plot(x, y)"
   ]
  },
  {
   "cell_type": "code",
   "execution_count": null,
   "metadata": {
    "collapsed": false,
    "slideshow": {
     "slide_type": "subslide"
    }
   },
   "outputs": [],
   "source": [
    "plt.show()"
   ]
  },
  {
   "cell_type": "code",
   "execution_count": null,
   "metadata": {
    "collapsed": false,
    "slideshow": {
     "slide_type": "subslide"
    }
   },
   "outputs": [],
   "source": [
    "## magic command that imports `matplotlib` and `numpy` as `plt` and `np`\n",
    "## and lets plot appear automatically\n",
    "\n",
    "%pylab inline"
   ]
  },
  {
   "cell_type": "code",
   "execution_count": null,
   "metadata": {
    "collapsed": false,
    "slideshow": {
     "slide_type": "subslide"
    }
   },
   "outputs": [],
   "source": [
    "x = np.arange(-2, 10)\n",
    "y = np.exp(-x)\n",
    "\n",
    "plt.plot(x, y);"
   ]
  },
  {
   "cell_type": "markdown",
   "metadata": {
    "slideshow": {
     "slide_type": "subslide"
    }
   },
   "source": [
    "## Speed comparison\n",
    "\n",
    "* Calculate $1 + \\frac{1}{2} + \\frac{1}{4} + \\dots$\n",
    "\n",
    "![./figures/geom.png](./figures/geom.png)"
   ]
  },
  {
   "cell_type": "code",
   "execution_count": null,
   "metadata": {
    "collapsed": false,
    "slideshow": {
     "slide_type": "subslide"
    }
   },
   "outputs": [],
   "source": [
    "n = 10000\n",
    "\n",
    "def loop(n):\n",
    "    \n",
    "    s = int()\n",
    "    for i in range(n):\n",
    "        s = s + 1 / (2 ** i)\n",
    "\n",
    "    return s\n",
    "        \n",
    "loop(n) # use %time to find out exactly how long it took"
   ]
  },
  {
   "cell_type": "code",
   "execution_count": null,
   "metadata": {
    "collapsed": false,
    "slideshow": {
     "slide_type": "subslide"
    }
   },
   "outputs": [],
   "source": [
    "np.arange(0, n)"
   ]
  },
  {
   "cell_type": "code",
   "execution_count": null,
   "metadata": {
    "collapsed": false,
    "slideshow": {
     "slide_type": "fragment"
    }
   },
   "outputs": [],
   "source": [
    "2 ** np.arange(0, n)"
   ]
  },
  {
   "cell_type": "code",
   "execution_count": null,
   "metadata": {
    "collapsed": false,
    "slideshow": {
     "slide_type": "fragment"
    }
   },
   "outputs": [],
   "source": [
    "1 / (2 ** np.arange(0, n))"
   ]
  },
  {
   "cell_type": "code",
   "execution_count": null,
   "metadata": {
    "collapsed": false,
    "slideshow": {
     "slide_type": "fragment"
    }
   },
   "outputs": [],
   "source": [
    "%time (1 / (2 ** np.arange(0, n))).sum()"
   ]
  },
  {
   "cell_type": "markdown",
   "metadata": {
    "slideshow": {
     "slide_type": "slide"
    }
   },
   "source": [
    "`np.array` | `list`\n",
    "--- | ---\n",
    "single datatype per array | multiple datatypes \n",
    "some supported datatypes | anything\n",
    "convenient for mathematical functions | convenient for programming\n",
    "used with vectorized functions | use with loops\n",
    "fast | slow"
   ]
  },
  {
   "cell_type": "markdown",
   "metadata": {
    "slideshow": {
     "slide_type": "subslide"
    }
   },
   "source": [
    "## `np.array` creation\n",
    "\n",
    "* From a list\n",
    "\n",
    "`arr = np.array([2, 3, 4])`\n",
    "\n",
    "* With functions such as `np.ones`, `np.arange` and `np.random`\n",
    "\n",
    "`arr = np.ones(3)`"
   ]
  },
  {
   "cell_type": "code",
   "execution_count": null,
   "metadata": {
    "collapsed": false,
    "slideshow": {
     "slide_type": "fragment"
    }
   },
   "outputs": [],
   "source": [
    "l = [1, 2, 3, 5]\n",
    "arr = np.array(l)\n",
    "arr"
   ]
  },
  {
   "cell_type": "code",
   "execution_count": null,
   "metadata": {
    "collapsed": false,
    "slideshow": {
     "slide_type": "subslide"
    }
   },
   "outputs": [],
   "source": [
    "l = [1., 2, None]\n",
    "\n",
    "np.array(l)"
   ]
  },
  {
   "cell_type": "code",
   "execution_count": null,
   "metadata": {
    "collapsed": false,
    "slideshow": {
     "slide_type": "fragment"
    }
   },
   "outputs": [],
   "source": [
    "arr.dtype"
   ]
  },
  {
   "cell_type": "code",
   "execution_count": null,
   "metadata": {
    "collapsed": false,
    "slideshow": {
     "slide_type": "subslide"
    }
   },
   "outputs": [],
   "source": [
    "arr = np.ones((3, 3))\n",
    "arr"
   ]
  },
  {
   "cell_type": "code",
   "execution_count": null,
   "metadata": {
    "collapsed": false,
    "slideshow": {
     "slide_type": "fragment"
    }
   },
   "outputs": [],
   "source": [
    "np.arange(3, 3.6, .02)"
   ]
  },
  {
   "cell_type": "code",
   "execution_count": null,
   "metadata": {
    "collapsed": false,
    "slideshow": {
     "slide_type": "fragment"
    }
   },
   "outputs": [],
   "source": [
    "np.array([np.datetime64('2015-01-11 12:00')])"
   ]
  },
  {
   "cell_type": "code",
   "execution_count": null,
   "metadata": {
    "collapsed": false,
    "slideshow": {
     "slide_type": "subslide"
    }
   },
   "outputs": [],
   "source": [
    "np.arange(1, 4, .4).reshape(4, 2)"
   ]
  },
  {
   "cell_type": "code",
   "execution_count": null,
   "metadata": {
    "collapsed": false,
    "slideshow": {
     "slide_type": "fragment"
    }
   },
   "outputs": [],
   "source": [
    "## array indices work the same as python lists\n",
    "\n",
    "np.arange(1, 40)[1:11:2]"
   ]
  },
  {
   "cell_type": "code",
   "execution_count": null,
   "metadata": {
    "collapsed": false,
    "slideshow": {
     "slide_type": "subslide"
    }
   },
   "outputs": [],
   "source": [
    "## shape\n",
    "\n",
    "m = np.array([\n",
    "    [3, 4, 5],\n",
    "    [2, 1, 6]\n",
    "])\n",
    "\n",
    "m"
   ]
  },
  {
   "cell_type": "code",
   "execution_count": null,
   "metadata": {
    "collapsed": false,
    "slideshow": {
     "slide_type": "fragment"
    }
   },
   "outputs": [],
   "source": [
    "m.shape"
   ]
  },
  {
   "cell_type": "markdown",
   "metadata": {
    "slideshow": {
     "slide_type": "subslide"
    }
   },
   "source": [
    "![](./figures/anatomyarray.png)"
   ]
  },
  {
   "cell_type": "markdown",
   "metadata": {
    "slideshow": {
     "slide_type": "subslide"
    }
   },
   "source": [
    "## Reshaping\n",
    "\n",
    "* Use `arr.reshape(rows, columns)` to resize\n",
    "* Transposing is done with `arr.T`\n",
    "\n"
   ]
  },
  {
   "cell_type": "code",
   "execution_count": null,
   "metadata": {
    "collapsed": false,
    "slideshow": {
     "slide_type": "fragment"
    }
   },
   "outputs": [],
   "source": [
    "m #.reshape((6, 1)) #.T"
   ]
  },
  {
   "cell_type": "code",
   "execution_count": null,
   "metadata": {
    "collapsed": false,
    "slideshow": {
     "slide_type": "fragment"
    }
   },
   "outputs": [],
   "source": [
    "x #.reshape(3, 1)"
   ]
  },
  {
   "cell_type": "markdown",
   "metadata": {
    "slideshow": {
     "slide_type": "skip"
    }
   },
   "source": [
    "## Matrix multiplication"
   ]
  },
  {
   "cell_type": "code",
   "execution_count": null,
   "metadata": {
    "collapsed": false,
    "slideshow": {
     "slide_type": "skip"
    }
   },
   "outputs": [],
   "source": [
    "x = np.array([1, 1, 1])\n",
    "x"
   ]
  },
  {
   "cell_type": "code",
   "execution_count": null,
   "metadata": {
    "collapsed": false,
    "slideshow": {
     "slide_type": "skip"
    }
   },
   "outputs": [],
   "source": [
    "m"
   ]
  },
  {
   "cell_type": "code",
   "execution_count": null,
   "metadata": {
    "collapsed": false,
    "slideshow": {
     "slide_type": "skip"
    }
   },
   "outputs": [],
   "source": [
    "m.dot(x)"
   ]
  },
  {
   "cell_type": "markdown",
   "metadata": {
    "slideshow": {
     "slide_type": "subslide"
    }
   },
   "source": [
    "## `np.array` statistics\n",
    "\n",
    "* Can be found as functions or as methods on the array\n",
    "* Are the same in `pandas`"
   ]
  },
  {
   "cell_type": "code",
   "execution_count": null,
   "metadata": {
    "collapsed": false,
    "slideshow": {
     "slide_type": "fragment"
    }
   },
   "outputs": [],
   "source": [
    "x = np.array([1, 2, 3, 4, 5])\n",
    "\n",
    "np.mean(x)\n",
    "np.sum(x)\n",
    "np.var(x)"
   ]
  },
  {
   "cell_type": "code",
   "execution_count": null,
   "metadata": {
    "collapsed": false,
    "slideshow": {
     "slide_type": "fragment"
    }
   },
   "outputs": [],
   "source": [
    "x.sum()\n",
    "x.mean()\n",
    "x.min()"
   ]
  },
  {
   "cell_type": "markdown",
   "metadata": {
    "slideshow": {
     "slide_type": "subslide"
    }
   },
   "source": [
    "## `np.array` functions\n",
    "\n",
    "* Functions typically apply pointwise, to each point individually"
   ]
  },
  {
   "cell_type": "code",
   "execution_count": null,
   "metadata": {
    "collapsed": false,
    "slideshow": {
     "slide_type": "fragment"
    }
   },
   "outputs": [],
   "source": [
    "1 / np.arange(1, 5)"
   ]
  },
  {
   "cell_type": "code",
   "execution_count": null,
   "metadata": {
    "collapsed": false,
    "slideshow": {
     "slide_type": "fragment"
    }
   },
   "outputs": [],
   "source": [
    "np.sin(x)\n",
    "x ** 2\n",
    "np.sqrt(x)"
   ]
  },
  {
   "cell_type": "markdown",
   "metadata": {
    "slideshow": {
     "slide_type": "subslide"
    }
   },
   "source": [
    "## `np.array` adding, multiplication\n",
    "\n",
    "* Also work pointwise with numbers"
   ]
  },
  {
   "cell_type": "code",
   "execution_count": null,
   "metadata": {
    "collapsed": false,
    "slideshow": {
     "slide_type": "fragment"
    }
   },
   "outputs": [],
   "source": [
    "x = np.arange(5)\n",
    "y = np.arange(5) * 3\n",
    "x * 5"
   ]
  },
  {
   "cell_type": "code",
   "execution_count": null,
   "metadata": {
    "collapsed": false,
    "slideshow": {
     "slide_type": "fragment"
    }
   },
   "outputs": [],
   "source": [
    "(x - y) ** 2"
   ]
  },
  {
   "cell_type": "markdown",
   "metadata": {
    "slideshow": {
     "slide_type": "subslide"
    }
   },
   "source": [
    "## `np.array` \"Broadcasting\""
   ]
  },
  {
   "cell_type": "code",
   "execution_count": null,
   "metadata": {
    "collapsed": false,
    "slideshow": {
     "slide_type": "fragment"
    }
   },
   "outputs": [],
   "source": [
    "m = np.arange(9).reshape(3, 3)\n",
    "x = np.arange(3) * 2 + 1\n",
    "m, x"
   ]
  },
  {
   "cell_type": "code",
   "execution_count": null,
   "metadata": {
    "collapsed": false,
    "slideshow": {
     "slide_type": "fragment"
    }
   },
   "outputs": [],
   "source": [
    "m / x"
   ]
  },
  {
   "cell_type": "code",
   "execution_count": null,
   "metadata": {
    "collapsed": false,
    "slideshow": {
     "slide_type": "subslide"
    }
   },
   "outputs": [],
   "source": [
    "## plotting example\n",
    "\n",
    "x = np.arange(0, 2, .02)\n",
    "y = np.exp(x)\n",
    "z = np.exp(x * 2)\n",
    "\n",
    "plt.plot(x, y)\n",
    "plt.plot(x, z)"
   ]
  },
  {
   "cell_type": "markdown",
   "metadata": {
    "slideshow": {
     "slide_type": "subslide"
    }
   },
   "source": [
    "## Exercises\n",
    "\n",
    "Use `plt.plot`, `np.sin` and `np.sum`\n",
    "\n",
    "* Calculate the discounted value of $200 annually, for 50 years, starting right now. Assume an interest rate of 5%. \n",
    "\n",
    "$$\\sum_{i=0,1,2\\dots49}\\frac{200}{(1.05)^i}$$\n",
    "\n",
    "* Create a matrix with all numbers up to 24, in a three-by-eight shape. Calculate the mean over the columns and the mean over the rows. _Hint:_ You can divide by `np.sum(m, axis=1)` or use `np.mean()`.\n",
    "* Plot $y = sin(x)$ and $y = sin(2x + 2)$.\n",
    "* Plot $x^2$, $x^3$, $x^4$, $x^5$ and $x^6$ in the same figure. "
   ]
  },
  {
   "cell_type": "code",
   "execution_count": null,
   "metadata": {
    "collapsed": true,
    "slideshow": {
     "slide_type": "subslide"
    }
   },
   "outputs": [],
   "source": [
    "## Plot y=sin(x)y=sin(x)  and  y=sin(2x+2)"
   ]
  },
  {
   "cell_type": "code",
   "execution_count": null,
   "metadata": {
    "collapsed": false,
    "slideshow": {
     "slide_type": "subslide"
    }
   },
   "outputs": [],
   "source": [
    "## Plot x^2, ^3, x^4, x^5 and x^6 in the same figure"
   ]
  },
  {
   "cell_type": "code",
   "execution_count": null,
   "metadata": {
    "collapsed": false,
    "slideshow": {
     "slide_type": "subslide"
    }
   },
   "outputs": [],
   "source": [
    "## calculate the discounted value "
   ]
  },
  {
   "cell_type": "code",
   "execution_count": null,
   "metadata": {
    "collapsed": true,
    "slideshow": {
     "slide_type": "subslide"
    }
   },
   "outputs": [],
   "source": [
    "## Create a matrix with all numbers up to 24, in a three-by-eight shape. \n",
    "## Calculate the mean over the columns and the mean over the rows. "
   ]
  },
  {
   "cell_type": "markdown",
   "metadata": {
    "slideshow": {
     "slide_type": "slide"
    }
   },
   "source": [
    "### `np.random`"
   ]
  },
  {
   "cell_type": "code",
   "execution_count": null,
   "metadata": {
    "collapsed": false,
    "slideshow": {
     "slide_type": "fragment"
    }
   },
   "outputs": [],
   "source": [
    "np.random.normal(0, 1)\n"
   ]
  },
  {
   "cell_type": "code",
   "execution_count": null,
   "metadata": {
    "collapsed": false,
    "slideshow": {
     "slide_type": "fragment"
    }
   },
   "outputs": [],
   "source": [
    "np.random.normal(0, 1, 20)"
   ]
  },
  {
   "cell_type": "code",
   "execution_count": null,
   "metadata": {
    "collapsed": false,
    "slideshow": {
     "slide_type": "subslide"
    }
   },
   "outputs": [],
   "source": [
    "x = np.random.normal(0, 1, 200)\n",
    "y = 4 * x  + np.random.normal(0, 1, 200)\n",
    "\n",
    "c = x + np.random.normal(0, 1, 200)\n",
    "\n",
    "plt.scatter(x, y, c=c, cmap=plt.cm.Accent_r)"
   ]
  },
  {
   "cell_type": "code",
   "execution_count": null,
   "metadata": {
    "collapsed": false,
    "slideshow": {
     "slide_type": "subslide"
    }
   },
   "outputs": [],
   "source": [
    "import statsmodels.api as sm\n",
    "\n",
    "model = sm.OLS(y, x)\n",
    "results = model.fit()\n",
    "results.summary()"
   ]
  },
  {
   "cell_type": "code",
   "execution_count": null,
   "metadata": {
    "collapsed": false,
    "slideshow": {
     "slide_type": "subslide"
    }
   },
   "outputs": [],
   "source": [
    "import pymc3 as pm\n",
    "\n",
    "with pm.Model():\n",
    "    \n",
    "    sigma = pm.HalfNormal('sigma', 10)\n",
    "    alpha = pm.Normal('alpha', 0, 10)\n",
    "    obs = pm.Normal('obs', mu=alpha*x, sd=sigma, observed=y)\n",
    "\n",
    "    trace = pm.sample(1000)\n",
    "    \n",
    "pm.traceplot(trace[500:]);"
   ]
  },
  {
   "cell_type": "code",
   "execution_count": null,
   "metadata": {
    "collapsed": false,
    "slideshow": {
     "slide_type": "subslide"
    }
   },
   "outputs": [],
   "source": [
    "## title, grid and size\n",
    "\n",
    "x = np.arange(-1, 1, .01)\n",
    "y = x ** 2\n",
    "\n",
    "plt.figure(figsize=(4, 2))\n",
    "plt.plot(x, y)\n",
    "plt.grid(True)\n",
    "plt.title(\"x squared\")"
   ]
  },
  {
   "cell_type": "code",
   "execution_count": null,
   "metadata": {
    "collapsed": false,
    "slideshow": {
     "slide_type": "subslide"
    }
   },
   "outputs": [],
   "source": [
    "## creating labels and placing a legend\n",
    "\n",
    "x = np.arange(-1, 1, .01)\n",
    "\n",
    "for exp in range(2, 7):   \n",
    "    plt.plot(x, x ** exp, label = \"$x^{}$\".format(exp))\n",
    "\n",
    "plt.grid()\n",
    "plt.legend(loc='lower right')\n",
    "plt.savefig(\"./test-plot.png\")"
   ]
  },
  {
   "cell_type": "code",
   "execution_count": null,
   "metadata": {
    "collapsed": false,
    "slideshow": {
     "slide_type": "subslide"
    }
   },
   "outputs": [],
   "source": [
    "## histogram and axvline (there is also axhline)\n",
    "\n",
    "n = 500\n",
    "samples = np.random.exponential(5, n)\n",
    "\n",
    "plt.figure(figsize=(8, 3))\n",
    "plt.hist(samples, bins=np.arange(0, 40, 1), color='lightgreen');\n",
    "plt.axvline(samples.mean(), ls='--', c='r')\n",
    "plt.title(\"{n} samples from the exponential distribution\".format(n=n))\n",
    "plt.xlabel(\"x\")\n",
    "plt.ylabel(\"y\")\n",
    "plt.xticks(rotation=60)\n",
    "plt.grid()"
   ]
  },
  {
   "cell_type": "code",
   "execution_count": null,
   "metadata": {
    "collapsed": false,
    "slideshow": {
     "slide_type": "subslide"
    }
   },
   "outputs": [],
   "source": [
    "## multiple plots in one figure using subplots\n",
    "\n",
    "x = np.arange(-2, 2, .1)\n",
    "\n",
    "fig, rows = plt.subplots(2, 2, figsize=(8, 4), sharex=True, sharey=True)\n",
    "\n",
    "for r_index, row in enumerate(rows):\n",
    "    for c_index, ax in enumerate(row):\n",
    "        \n",
    "        power = ((r_index * 2) + (c_index + 1))\n",
    "        \n",
    "        ax.plot(x, x ** power)\n",
    "        ax.grid(True)\n",
    "        ax.set_title('Y=X^{}'.format(power))\n",
    "\n",
    "plt.tight_layout()"
   ]
  },
  {
   "cell_type": "markdown",
   "metadata": {
    "slideshow": {
     "slide_type": "subslide"
    }
   },
   "source": [
    "## Exercises\n",
    "\n",
    "Use `plt.scatter`\n",
    "\n",
    "* Create a scatterplot of two negatively correlated values\n",
    "* Color them according to the horizontal axis value, use `cm.Blues` as the colormap\n",
    "\n",
    "Use `plt.hist`\n",
    "\n",
    "* Plot a density for the normal distribution, give it an appropriate name and save the file to your desktop \n",
    "* Same for a distribution that is the sum of two normal distributions with means 2 and 5, and standard deviations of 1 and 4\n",
    "\n",
    "Use `plt.subplots`\n",
    "\n",
    "* Create 4 subplots with histograms of 200 samples of the normal distribution with mean 0 and standard deviation equal to 1, 2, 3 and 4. "
   ]
  }
 ],
 "metadata": {
  "anaconda-cloud": {},
  "celltoolbar": "Slideshow",
  "kernelspec": {
   "display_name": "Python [conda root]",
   "language": "python",
   "name": "conda-root-py"
  },
  "language_info": {
   "codemirror_mode": {
    "name": "ipython",
    "version": 3
   },
   "file_extension": ".py",
   "mimetype": "text/x-python",
   "name": "python",
   "nbconvert_exporter": "python",
   "pygments_lexer": "ipython3",
   "version": "3.5.2"
  }
 },
 "nbformat": 4,
 "nbformat_minor": 1
}
