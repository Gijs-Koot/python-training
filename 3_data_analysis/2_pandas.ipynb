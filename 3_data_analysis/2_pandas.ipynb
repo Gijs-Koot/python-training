{
 "cells": [
  {
   "cell_type": "markdown",
   "metadata": {
    "slideshow": {
     "slide_type": "slide"
    }
   },
   "source": [
    "## Pandas\n",
    "\n",
    "* Builds on both `numpy` and `matplotlib`\n",
    "* The basis for data analysis, comparable to Excel in functionality\n",
    "    * Reading and writing from `csv`, `xlsx` and SQL databases\n",
    "    * Grouping, pivoting and aggregating of data\n",
    "    * Data cleaning and transformations\n",
    "    * Special functions for timeseries, dates, strings and other types of data\n",
    "* Extended by for example `geopandas`, for working with geodata"
   ]
  },
  {
   "cell_type": "code",
   "execution_count": 1,
   "metadata": {
    "collapsed": false,
    "slideshow": {
     "slide_type": "subslide"
    }
   },
   "outputs": [
    {
     "name": "stdout",
     "output_type": "stream",
     "text": [
      "Populating the interactive namespace from numpy and matplotlib\n"
     ]
    }
   ],
   "source": [
    "%pylab inline\n",
    "\n",
    "import pandas as pd"
   ]
  },
  {
   "cell_type": "code",
   "execution_count": 4,
   "metadata": {
    "collapsed": false,
    "slideshow": {
     "slide_type": "fragment"
    }
   },
   "outputs": [
    {
     "name": "stdout",
     "output_type": "stream",
     "text": [
      "leefbaarometer_2.0.csv\tOpen_Data_RDW__Gekentekende_voertuigen.csv\r\n",
      "ml-1m\t\t\trdw_dates.txt\r\n"
     ]
    }
   ],
   "source": [
    "!ls ../resources/data/"
   ]
  },
  {
   "cell_type": "code",
   "execution_count": 5,
   "metadata": {
    "collapsed": false,
    "slideshow": {
     "slide_type": "fragment"
    }
   },
   "outputs": [
    {
     "name": "stdout",
     "output_type": "stream",
     "text": [
      ",Kenteken,Voertuigsoort,Merk,Handelsbenaming,Datum tenaamstelling,Bruto BPM,Cilinderinhoud,Massa ledig voertuig,Toegestane maximum massa voertuig,Datum eerste toelating,Datum eerste afgifte Nederland,Catalogusprijs,WAM verzekerd\r\n",
      "955832,93JDZG,Personenauto,DAIHATSU,SIRION,13/06/2013,2270.0,989.0,815.0,1320.0,07/03/2002,07/03/2002,,Ja\r\n",
      "5350640,18PDJZ,Personenauto,HYUNDAI,ACCENT; 1.6,02/02/2007,3202.0,1599.0,1015.0,1555.0,06/05/2004,06/05/2004,,Ja\r\n"
     ]
    }
   ],
   "source": [
    "!head -3 ../resources/data/Open_Data_RDW__Gekentekende_voertuigen.csv"
   ]
  },
  {
   "cell_type": "code",
   "execution_count": 2,
   "metadata": {
    "collapsed": false,
    "slideshow": {
     "slide_type": "subslide"
    }
   },
   "outputs": [
    {
     "name": "stdout",
     "output_type": "stream",
     "text": [
      "(91135, 14)\n"
     ]
    },
    {
     "data": {
      "text/html": [
       "<div>\n",
       "<table border=\"1\" class=\"dataframe\">\n",
       "  <thead>\n",
       "    <tr style=\"text-align: right;\">\n",
       "      <th></th>\n",
       "      <th>Unnamed: 0</th>\n",
       "      <th>Kenteken</th>\n",
       "      <th>Voertuigsoort</th>\n",
       "      <th>Merk</th>\n",
       "      <th>Handelsbenaming</th>\n",
       "      <th>Datum tenaamstelling</th>\n",
       "      <th>Bruto BPM</th>\n",
       "      <th>Cilinderinhoud</th>\n",
       "      <th>Massa ledig voertuig</th>\n",
       "      <th>Toegestane maximum massa voertuig</th>\n",
       "      <th>Datum eerste toelating</th>\n",
       "      <th>Datum eerste afgifte Nederland</th>\n",
       "      <th>Catalogusprijs</th>\n",
       "      <th>WAM verzekerd</th>\n",
       "    </tr>\n",
       "  </thead>\n",
       "  <tbody>\n",
       "    <tr>\n",
       "      <th>84339</th>\n",
       "      <td>6406347</td>\n",
       "      <td>85GNRN</td>\n",
       "      <td>Personenauto</td>\n",
       "      <td>FORD</td>\n",
       "      <td>FOCUS; 1.8I-16V-WAGON</td>\n",
       "      <td>05/10/2015</td>\n",
       "      <td>4354.0</td>\n",
       "      <td>1796.0</td>\n",
       "      <td>1144.0</td>\n",
       "      <td>1695.0</td>\n",
       "      <td>24/01/2001</td>\n",
       "      <td>24/01/2001</td>\n",
       "      <td>NaN</td>\n",
       "      <td>Ja</td>\n",
       "    </tr>\n",
       "    <tr>\n",
       "      <th>17991</th>\n",
       "      <td>4338201</td>\n",
       "      <td>SHSR91</td>\n",
       "      <td>Personenauto</td>\n",
       "      <td>DAEWOO</td>\n",
       "      <td>DAEWOO LEGANZA; 2.0 4DR NB</td>\n",
       "      <td>07/02/2008</td>\n",
       "      <td>4647.0</td>\n",
       "      <td>NaN</td>\n",
       "      <td>1300.0</td>\n",
       "      <td>1830.0</td>\n",
       "      <td>13/10/1997</td>\n",
       "      <td>13/10/1997</td>\n",
       "      <td>NaN</td>\n",
       "      <td>Nee</td>\n",
       "    </tr>\n",
       "    <tr>\n",
       "      <th>9877</th>\n",
       "      <td>1516715</td>\n",
       "      <td>XBZG46</td>\n",
       "      <td>Personenauto</td>\n",
       "      <td>SEAT</td>\n",
       "      <td>IBIZA; 1.6 / ALM 55KW</td>\n",
       "      <td>31/08/2016</td>\n",
       "      <td>2442.0</td>\n",
       "      <td>1598.0</td>\n",
       "      <td>950.0</td>\n",
       "      <td>1435.0</td>\n",
       "      <td>30/09/1998</td>\n",
       "      <td>30/09/1998</td>\n",
       "      <td>NaN</td>\n",
       "      <td>Ja</td>\n",
       "    </tr>\n",
       "    <tr>\n",
       "      <th>86408</th>\n",
       "      <td>7148253</td>\n",
       "      <td>XF59GJ</td>\n",
       "      <td>Personenauto</td>\n",
       "      <td>CHEVROLET</td>\n",
       "      <td>SPORTVAN K6 KAMPEERAUTO</td>\n",
       "      <td>03/09/2015</td>\n",
       "      <td>NaN</td>\n",
       "      <td>NaN</td>\n",
       "      <td>2374.0</td>\n",
       "      <td>NaN</td>\n",
       "      <td>07/04/1989</td>\n",
       "      <td>07/04/1989</td>\n",
       "      <td>NaN</td>\n",
       "      <td>Ja</td>\n",
       "    </tr>\n",
       "    <tr>\n",
       "      <th>69960</th>\n",
       "      <td>6663619</td>\n",
       "      <td>83XVJ1</td>\n",
       "      <td>Personenauto</td>\n",
       "      <td>MITSUBISHI</td>\n",
       "      <td>MITSUBISHI COLT</td>\n",
       "      <td>18/08/2012</td>\n",
       "      <td>3235.0</td>\n",
       "      <td>1332.0</td>\n",
       "      <td>950.0</td>\n",
       "      <td>1465.0</td>\n",
       "      <td>18/08/2012</td>\n",
       "      <td>18/08/2012</td>\n",
       "      <td>15674.0</td>\n",
       "      <td>Ja</td>\n",
       "    </tr>\n",
       "  </tbody>\n",
       "</table>\n",
       "</div>"
      ],
      "text/plain": [
       "       Unnamed: 0 Kenteken Voertuigsoort        Merk  \\\n",
       "84339     6406347   85GNRN  Personenauto        FORD   \n",
       "17991     4338201   SHSR91  Personenauto      DAEWOO   \n",
       "9877      1516715   XBZG46  Personenauto        SEAT   \n",
       "86408     7148253   XF59GJ  Personenauto   CHEVROLET   \n",
       "69960     6663619   83XVJ1  Personenauto  MITSUBISHI   \n",
       "\n",
       "                  Handelsbenaming Datum tenaamstelling  Bruto BPM  \\\n",
       "84339       FOCUS; 1.8I-16V-WAGON           05/10/2015     4354.0   \n",
       "17991  DAEWOO LEGANZA; 2.0 4DR NB           07/02/2008     4647.0   \n",
       "9877        IBIZA; 1.6 / ALM 55KW           31/08/2016     2442.0   \n",
       "86408     SPORTVAN K6 KAMPEERAUTO           03/09/2015        NaN   \n",
       "69960             MITSUBISHI COLT           18/08/2012     3235.0   \n",
       "\n",
       "       Cilinderinhoud  Massa ledig voertuig  \\\n",
       "84339          1796.0                1144.0   \n",
       "17991             NaN                1300.0   \n",
       "9877           1598.0                 950.0   \n",
       "86408             NaN                2374.0   \n",
       "69960          1332.0                 950.0   \n",
       "\n",
       "       Toegestane maximum massa voertuig Datum eerste toelating  \\\n",
       "84339                             1695.0             24/01/2001   \n",
       "17991                             1830.0             13/10/1997   \n",
       "9877                              1435.0             30/09/1998   \n",
       "86408                                NaN             07/04/1989   \n",
       "69960                             1465.0             18/08/2012   \n",
       "\n",
       "      Datum eerste afgifte Nederland  Catalogusprijs WAM verzekerd  \n",
       "84339                     24/01/2001             NaN            Ja  \n",
       "17991                     13/10/1997             NaN           Nee  \n",
       "9877                      30/09/1998             NaN            Ja  \n",
       "86408                     07/04/1989             NaN            Ja  \n",
       "69960                     18/08/2012         15674.0            Ja  "
      ]
     },
     "execution_count": 2,
     "metadata": {},
     "output_type": "execute_result"
    }
   ],
   "source": [
    "rdw = pd.read_csv('../resources/data/Open_Data_RDW__Gekentekende_voertuigen.csv')\n",
    "print(rdw.shape)\n",
    "rdw.sample(5)"
   ]
  },
  {
   "cell_type": "code",
   "execution_count": 7,
   "metadata": {
    "collapsed": false,
    "slideshow": {
     "slide_type": "subslide"
    }
   },
   "outputs": [
    {
     "data": {
      "text/plain": [
       "Unnamed: 0                             int64\n",
       "Kenteken                              object\n",
       "Voertuigsoort                         object\n",
       "Merk                                  object\n",
       "Handelsbenaming                       object\n",
       "Datum tenaamstelling                  object\n",
       "Bruto BPM                            float64\n",
       "Cilinderinhoud                       float64\n",
       "Massa ledig voertuig                 float64\n",
       "Toegestane maximum massa voertuig    float64\n",
       "Datum eerste toelating                object\n",
       "Datum eerste afgifte Nederland        object\n",
       "Catalogusprijs                       float64\n",
       "WAM verzekerd                         object\n",
       "dtype: object"
      ]
     },
     "execution_count": 7,
     "metadata": {},
     "output_type": "execute_result"
    }
   ],
   "source": [
    "rdw.dtypes"
   ]
  },
  {
   "cell_type": "code",
   "execution_count": 3,
   "metadata": {
    "collapsed": false,
    "slideshow": {
     "slide_type": "subslide"
    }
   },
   "outputs": [
    {
     "data": {
      "text/plain": [
       "(0, 4000)"
      ]
     },
     "execution_count": 3,
     "metadata": {},
     "output_type": "execute_result"
    },
    {
     "data": {
      "image/png": "[encoded data removed]",
      "text/plain": [
       "<matplotlib.figure.Figure at 0x7fe11a7624a8>"
      ]
     },
     "metadata": {},
     "output_type": "display_data"
    }
   ],
   "source": [
    "rdw[\"Cilinderinhoud\"].plot.hist(bins=np.linspace(0, 4000, 20))\n",
    "plt.xlim((0, 4000))"
   ]
  },
  {
   "cell_type": "code",
   "execution_count": 3,
   "metadata": {
    "collapsed": true,
    "slideshow": {
     "slide_type": "subslide"
    }
   },
   "outputs": [],
   "source": [
    "# seaborn is a very useful package in itself\n",
    "# but it also makes our plots look a bit better\n",
    "\n",
    "import seaborn as sns\n",
    "sns.set_style('whitegrid')"
   ]
  },
  {
   "cell_type": "code",
   "execution_count": 141,
   "metadata": {
    "collapsed": false,
    "slideshow": {
     "slide_type": "fragment"
    }
   },
   "outputs": [
    {
     "data": {
      "text/plain": [
       "(0, 4000)"
      ]
     },
     "execution_count": 141,
     "metadata": {},
     "output_type": "execute_result"
    },
    {
     "data": {
      "image/png": "[encoded data removed]",
      "text/plain": [
       "<matplotlib.figure.Figure at 0x7f26074177b8>"
      ]
     },
     "metadata": {},
     "output_type": "display_data"
    }
   ],
   "source": [
    "plt.figure(figsize=(6, 3))\n",
    "rdw[\"Cilinderinhoud\"].plot.hist(bins=np.linspace(0, 4000, 20))\n",
    "plt.xlim((0, 4000))"
   ]
  },
  {
   "cell_type": "code",
   "execution_count": 11,
   "metadata": {
    "collapsed": false,
    "slideshow": {
     "slide_type": "subslide"
    }
   },
   "outputs": [
    {
     "data": {
      "image/png": "[encoded data removed]",
      "text/plain": [
       "<matplotlib.figure.Figure at 0x7f2607bb6048>"
      ]
     },
     "metadata": {},
     "output_type": "display_data"
    }
   ],
   "source": [
    "rdw[\"Cilinderinhoud\"].plot.hist(bins=np.linspace(0, 4000, 20), figsize=(5, 4))\n",
    "\n",
    "plt.xlabel(\"Cilinderinhoud\")\n",
    "plt.title(\"N = {}\".format(rdw.shape[0]))\n",
    "plt.axvline(rdw.Cilinderinhoud.mean(), ls='--', color='r', label='mean', lw=1)\n",
    "\n",
    "sns.despine(offset=10)\n",
    "plt.legend();"
   ]
  },
  {
   "cell_type": "code",
   "execution_count": 5,
   "metadata": {
    "collapsed": false,
    "slideshow": {
     "slide_type": "subslide"
    }
   },
   "outputs": [
    {
     "data": {
      "text/plain": [
       "<seaborn.axisgrid.PairGrid at 0x7ffaaefa81d0>"
      ]
     },
     "execution_count": 5,
     "metadata": {},
     "output_type": "execute_result"
    },
    {
     "data": {
      "image/png": "[encoded data removed]",
      "text/plain": [
       "<matplotlib.figure.Figure at 0x7ffaaefa80b8>"
      ]
     },
     "metadata": {},
     "output_type": "display_data"
    }
   ],
   "source": [
    "top = rdw.Merk.value_counts().head(5).index.values\n",
    "\n",
    "view = rdw[[\"Cilinderinhoud\", \"Massa ledig voertuig\", \"Catalogusprijs\", \"Merk\"]]\n",
    "view = view[view.Merk.isin(top)].dropna().sample(200)\n",
    "\n",
    "sns.pairplot(view, hue=\"Merk\")"
   ]
  },
  {
   "cell_type": "markdown",
   "metadata": {
    "slideshow": {
     "slide_type": "slide"
    }
   },
   "source": [
    "## Pandas\n",
    "\n",
    "* The main datatypes in `pandas` are `Series` and `DataFrame`\n",
    "* A `Series` is a column (or row)\n",
    "* A `DataFrame` is a table"
   ]
  },
  {
   "cell_type": "code",
   "execution_count": 13,
   "metadata": {
    "collapsed": false,
    "slideshow": {
     "slide_type": "fragment"
    }
   },
   "outputs": [
    {
     "data": {
      "text/plain": [
       "0    3\n",
       "1    4\n",
       "2    5\n",
       "Name: a, dtype: int64"
      ]
     },
     "execution_count": 13,
     "metadata": {},
     "output_type": "execute_result"
    }
   ],
   "source": [
    "## simple creation of series\n",
    "\n",
    "series = pd.Series([3, 4, 5], name='a')\n",
    "series"
   ]
  },
  {
   "cell_type": "code",
   "execution_count": 14,
   "metadata": {
    "collapsed": false,
    "slideshow": {
     "slide_type": "subslide"
    }
   },
   "outputs": [
    {
     "data": {
      "text/plain": [
       "dtype('int64')"
      ]
     },
     "execution_count": 14,
     "metadata": {},
     "output_type": "execute_result"
    }
   ],
   "source": [
    "series.dtype"
   ]
  },
  {
   "cell_type": "code",
   "execution_count": 15,
   "metadata": {
    "collapsed": false,
    "slideshow": {
     "slide_type": "fragment"
    }
   },
   "outputs": [
    {
     "data": {
      "text/plain": [
       "array([3, 4, 5])"
      ]
     },
     "execution_count": 15,
     "metadata": {},
     "output_type": "execute_result"
    }
   ],
   "source": [
    "series.values"
   ]
  },
  {
   "cell_type": "code",
   "execution_count": 16,
   "metadata": {
    "collapsed": false,
    "slideshow": {
     "slide_type": "fragment"
    }
   },
   "outputs": [
    {
     "data": {
      "text/plain": [
       "0     9\n",
       "1    16\n",
       "2    25\n",
       "Name: a, dtype: int64"
      ]
     },
     "execution_count": 16,
     "metadata": {},
     "output_type": "execute_result"
    }
   ],
   "source": [
    "series ** 2"
   ]
  },
  {
   "cell_type": "code",
   "execution_count": 25,
   "metadata": {
    "collapsed": false,
    "slideshow": {
     "slide_type": "fragment"
    }
   },
   "outputs": [
    {
     "data": {
      "text/plain": [
       "4"
      ]
     },
     "execution_count": 25,
     "metadata": {},
     "output_type": "execute_result"
    }
   ],
   "source": [
    "series[1]"
   ]
  },
  {
   "cell_type": "code",
   "execution_count": 19,
   "metadata": {
    "collapsed": false,
    "slideshow": {
     "slide_type": "subslide"
    }
   },
   "outputs": [
    {
     "data": {
      "text/plain": [
       "RangeIndex(start=0, stop=3, step=1)"
      ]
     },
     "execution_count": 19,
     "metadata": {},
     "output_type": "execute_result"
    }
   ],
   "source": [
    "series.index"
   ]
  },
  {
   "cell_type": "code",
   "execution_count": 28,
   "metadata": {
    "collapsed": false,
    "slideshow": {
     "slide_type": "fragment"
    }
   },
   "outputs": [
    {
     "data": {
      "text/plain": [
       "A    10\n",
       "B     4\n",
       "C     5\n",
       "Name: grade, dtype: int64"
      ]
     },
     "execution_count": 28,
     "metadata": {},
     "output_type": "execute_result"
    }
   ],
   "source": [
    "series = pd.Series([10, 4, 5], index=[\"A\", \"B\", \"C\"], name='grade')\n",
    "series"
   ]
  },
  {
   "cell_type": "code",
   "execution_count": 29,
   "metadata": {
    "collapsed": false,
    "slideshow": {
     "slide_type": "fragment"
    }
   },
   "outputs": [
    {
     "data": {
      "text/plain": [
       "B     4\n",
       "C     5\n",
       "A    10\n",
       "Name: grade, dtype: int64"
      ]
     },
     "execution_count": 29,
     "metadata": {},
     "output_type": "execute_result"
    }
   ],
   "source": [
    "series.sort_values()"
   ]
  },
  {
   "cell_type": "code",
   "execution_count": 45,
   "metadata": {
    "collapsed": false,
    "slideshow": {
     "slide_type": "subslide"
    }
   },
   "outputs": [
    {
     "data": {
      "text/html": [
       "<div>\n",
       "<table border=\"1\" class=\"dataframe\">\n",
       "  <thead>\n",
       "    <tr style=\"text-align: right;\">\n",
       "      <th></th>\n",
       "      <th>grade</th>\n",
       "    </tr>\n",
       "  </thead>\n",
       "  <tbody>\n",
       "    <tr>\n",
       "      <th>A</th>\n",
       "      <td>10</td>\n",
       "    </tr>\n",
       "    <tr>\n",
       "      <th>B</th>\n",
       "      <td>4</td>\n",
       "    </tr>\n",
       "    <tr>\n",
       "      <th>C</th>\n",
       "      <td>5</td>\n",
       "    </tr>\n",
       "  </tbody>\n",
       "</table>\n",
       "</div>"
      ],
      "text/plain": [
       "   grade\n",
       "A     10\n",
       "B      4\n",
       "C      5"
      ]
     },
     "execution_count": 45,
     "metadata": {},
     "output_type": "execute_result"
    }
   ],
   "source": [
    "## create a dataframe from series\n",
    "\n",
    "df = pd.DataFrame(series)\n",
    "df"
   ]
  },
  {
   "cell_type": "code",
   "execution_count": 46,
   "metadata": {
    "collapsed": false,
    "slideshow": {
     "slide_type": "subslide"
    }
   },
   "outputs": [
    {
     "data": {
      "text/html": [
       "<div>\n",
       "<table border=\"1\" class=\"dataframe\">\n",
       "  <thead>\n",
       "    <tr style=\"text-align: right;\">\n",
       "      <th></th>\n",
       "      <th>grade</th>\n",
       "      <th>student</th>\n",
       "    </tr>\n",
       "  </thead>\n",
       "  <tbody>\n",
       "    <tr>\n",
       "      <th>A</th>\n",
       "      <td>10</td>\n",
       "      <td>Q</td>\n",
       "    </tr>\n",
       "    <tr>\n",
       "      <th>B</th>\n",
       "      <td>4</td>\n",
       "      <td>R</td>\n",
       "    </tr>\n",
       "    <tr>\n",
       "      <th>C</th>\n",
       "      <td>5</td>\n",
       "      <td>S</td>\n",
       "    </tr>\n",
       "  </tbody>\n",
       "</table>\n",
       "</div>"
      ],
      "text/plain": [
       "   grade student\n",
       "A     10       Q\n",
       "B      4       R\n",
       "C      5       S"
      ]
     },
     "execution_count": 46,
     "metadata": {},
     "output_type": "execute_result"
    }
   ],
   "source": [
    "df[\"student\"] = [\"Q\", \"R\", \"S\"]\n",
    "df"
   ]
  },
  {
   "cell_type": "code",
   "execution_count": 47,
   "metadata": {
    "collapsed": false,
    "slideshow": {
     "slide_type": "fragment"
    }
   },
   "outputs": [
    {
     "data": {
      "text/plain": [
       "A     True\n",
       "B    False\n",
       "C     True\n",
       "Name: grade, dtype: bool"
      ]
     },
     "execution_count": 47,
     "metadata": {},
     "output_type": "execute_result"
    }
   ],
   "source": [
    "df.grade > 4"
   ]
  },
  {
   "cell_type": "code",
   "execution_count": 48,
   "metadata": {
    "collapsed": false,
    "slideshow": {
     "slide_type": "subslide"
    }
   },
   "outputs": [
    {
     "data": {
      "text/plain": [
       "Index(['A', 'B', 'C'], dtype='object')"
      ]
     },
     "execution_count": 48,
     "metadata": {},
     "output_type": "execute_result"
    }
   ],
   "source": [
    "df.index"
   ]
  },
  {
   "cell_type": "code",
   "execution_count": 49,
   "metadata": {
    "collapsed": false,
    "slideshow": {
     "slide_type": "fragment"
    }
   },
   "outputs": [
    {
     "data": {
      "text/plain": [
       "grade      10\n",
       "student     Q\n",
       "Name: A, dtype: object"
      ]
     },
     "execution_count": 49,
     "metadata": {},
     "output_type": "execute_result"
    }
   ],
   "source": [
    "## selecting records by index using `loc`\n",
    "\n",
    "df.loc[\"A\"]"
   ]
  },
  {
   "cell_type": "code",
   "execution_count": 50,
   "metadata": {
    "collapsed": false,
    "slideshow": {
     "slide_type": "fragment"
    }
   },
   "outputs": [
    {
     "data": {
      "text/html": [
       "<div>\n",
       "<table border=\"1\" class=\"dataframe\">\n",
       "  <thead>\n",
       "    <tr style=\"text-align: right;\">\n",
       "      <th></th>\n",
       "      <th>A</th>\n",
       "      <th>B</th>\n",
       "      <th>C</th>\n",
       "    </tr>\n",
       "  </thead>\n",
       "  <tbody>\n",
       "    <tr>\n",
       "      <th>grade</th>\n",
       "      <td>10</td>\n",
       "      <td>4</td>\n",
       "      <td>5</td>\n",
       "    </tr>\n",
       "    <tr>\n",
       "      <th>student</th>\n",
       "      <td>Q</td>\n",
       "      <td>R</td>\n",
       "      <td>S</td>\n",
       "    </tr>\n",
       "  </tbody>\n",
       "</table>\n",
       "</div>"
      ],
      "text/plain": [
       "          A  B  C\n",
       "grade    10  4  5\n",
       "student   Q  R  S"
      ]
     },
     "execution_count": 50,
     "metadata": {},
     "output_type": "execute_result"
    }
   ],
   "source": [
    "df.T"
   ]
  },
  {
   "cell_type": "code",
   "execution_count": 51,
   "metadata": {
    "collapsed": false,
    "slideshow": {
     "slide_type": "subslide"
    }
   },
   "outputs": [
    {
     "data": {
      "text/plain": [
       "grade    6.333333\n",
       "dtype: float64"
      ]
     },
     "execution_count": 51,
     "metadata": {},
     "output_type": "execute_result"
    }
   ],
   "source": [
    "df.mean()"
   ]
  },
  {
   "cell_type": "code",
   "execution_count": 67,
   "metadata": {
    "collapsed": false,
    "slideshow": {
     "slide_type": "subslide"
    }
   },
   "outputs": [
    {
     "data": {
      "text/html": [
       "<div>\n",
       "<table border=\"1\" class=\"dataframe\">\n",
       "  <thead>\n",
       "    <tr style=\"text-align: right;\">\n",
       "      <th></th>\n",
       "      <th>class</th>\n",
       "      <th>exam</th>\n",
       "      <th>grade</th>\n",
       "      <th>height</th>\n",
       "      <th>weight</th>\n",
       "    </tr>\n",
       "  </thead>\n",
       "  <tbody>\n",
       "    <tr>\n",
       "      <th>0</th>\n",
       "      <td>a</td>\n",
       "      <td>math</td>\n",
       "      <td>9</td>\n",
       "      <td>158.804535</td>\n",
       "      <td>64.337681</td>\n",
       "    </tr>\n",
       "    <tr>\n",
       "      <th>1</th>\n",
       "      <td>a</td>\n",
       "      <td>math</td>\n",
       "      <td>9</td>\n",
       "      <td>181.098192</td>\n",
       "      <td>81.738328</td>\n",
       "    </tr>\n",
       "    <tr>\n",
       "      <th>2</th>\n",
       "      <td>a</td>\n",
       "      <td>math</td>\n",
       "      <td>4</td>\n",
       "      <td>157.527667</td>\n",
       "      <td>58.223040</td>\n",
       "    </tr>\n",
       "    <tr>\n",
       "      <th>3</th>\n",
       "      <td>a</td>\n",
       "      <td>math</td>\n",
       "      <td>9</td>\n",
       "      <td>169.079233</td>\n",
       "      <td>80.061893</td>\n",
       "    </tr>\n",
       "    <tr>\n",
       "      <th>4</th>\n",
       "      <td>a</td>\n",
       "      <td>math</td>\n",
       "      <td>8</td>\n",
       "      <td>181.891225</td>\n",
       "      <td>81.469594</td>\n",
       "    </tr>\n",
       "    <tr>\n",
       "      <th>5</th>\n",
       "      <td>a</td>\n",
       "      <td>math</td>\n",
       "      <td>8</td>\n",
       "      <td>198.250336</td>\n",
       "      <td>85.251591</td>\n",
       "    </tr>\n",
       "    <tr>\n",
       "      <th>6</th>\n",
       "      <td>a</td>\n",
       "      <td>math</td>\n",
       "      <td>5</td>\n",
       "      <td>177.629082</td>\n",
       "      <td>77.854321</td>\n",
       "    </tr>\n",
       "    <tr>\n",
       "      <th>7</th>\n",
       "      <td>a</td>\n",
       "      <td>math</td>\n",
       "      <td>7</td>\n",
       "      <td>162.599631</td>\n",
       "      <td>72.673828</td>\n",
       "    </tr>\n",
       "    <tr>\n",
       "      <th>8</th>\n",
       "      <td>a</td>\n",
       "      <td>math</td>\n",
       "      <td>9</td>\n",
       "      <td>175.592211</td>\n",
       "      <td>74.946071</td>\n",
       "    </tr>\n",
       "    <tr>\n",
       "      <th>9</th>\n",
       "      <td>a</td>\n",
       "      <td>math</td>\n",
       "      <td>4</td>\n",
       "      <td>158.540374</td>\n",
       "      <td>70.097550</td>\n",
       "    </tr>\n",
       "  </tbody>\n",
       "</table>\n",
       "</div>"
      ],
      "text/plain": [
       "  class  exam  grade      height     weight\n",
       "0     a  math      9  158.804535  64.337681\n",
       "1     a  math      9  181.098192  81.738328\n",
       "2     a  math      4  157.527667  58.223040\n",
       "3     a  math      9  169.079233  80.061893\n",
       "4     a  math      8  181.891225  81.469594\n",
       "5     a  math      8  198.250336  85.251591\n",
       "6     a  math      5  177.629082  77.854321\n",
       "7     a  math      7  162.599631  72.673828\n",
       "8     a  math      9  175.592211  74.946071\n",
       "9     a  math      4  158.540374  70.097550"
      ]
     },
     "execution_count": 67,
     "metadata": {},
     "output_type": "execute_result"
    }
   ],
   "source": [
    "height = np.random.normal(170, 10, 80)\n",
    "\n",
    "df = pd.DataFrame({\n",
    "    \"class\": list(\"a\" * 40 + \"b\" * 40),\n",
    "    \"grade\": np.random.randint(4, 10, 80),\n",
    "    \"exam\": [\"math\"] * 20 + [\"programming\"] * 20 + [\"math\"] * 20 + [\"physics\"] * 20,\n",
    "    \"height\": height,\n",
    "    \"weight\": ((height / 2) - 20) + np.random.normal(10, 5, 80) \n",
    "})\n",
    "\n",
    "df.head(10)"
   ]
  },
  {
   "cell_type": "code",
   "execution_count": 99,
   "metadata": {
    "collapsed": false,
    "slideshow": {
     "slide_type": "subslide"
    }
   },
   "outputs": [
    {
     "data": {
      "text/plain": [
       "8    22\n",
       "6    14\n",
       "9    13\n",
       "4    13\n",
       "5    12\n",
       "7     6\n",
       "Name: grade, dtype: int64"
      ]
     },
     "execution_count": 99,
     "metadata": {},
     "output_type": "execute_result"
    }
   ],
   "source": [
    "df.grade.value_counts()"
   ]
  },
  {
   "cell_type": "code",
   "execution_count": 101,
   "metadata": {
    "collapsed": false,
    "slideshow": {
     "slide_type": "subslide"
    }
   },
   "outputs": [
    {
     "data": {
      "text/html": [
       "<div>\n",
       "<table border=\"1\" class=\"dataframe\">\n",
       "  <thead>\n",
       "    <tr style=\"text-align: right;\">\n",
       "      <th></th>\n",
       "      <th>class</th>\n",
       "      <th>exam</th>\n",
       "      <th>grade</th>\n",
       "      <th>height</th>\n",
       "      <th>weight</th>\n",
       "    </tr>\n",
       "  </thead>\n",
       "  <tbody>\n",
       "    <tr>\n",
       "      <th>0</th>\n",
       "      <td>a</td>\n",
       "      <td>math</td>\n",
       "      <td>9</td>\n",
       "      <td>158.804535</td>\n",
       "      <td>64.337681</td>\n",
       "    </tr>\n",
       "    <tr>\n",
       "      <th>1</th>\n",
       "      <td>a</td>\n",
       "      <td>math</td>\n",
       "      <td>9</td>\n",
       "      <td>181.098192</td>\n",
       "      <td>81.738328</td>\n",
       "    </tr>\n",
       "    <tr>\n",
       "      <th>2</th>\n",
       "      <td>a</td>\n",
       "      <td>math</td>\n",
       "      <td>4</td>\n",
       "      <td>157.527667</td>\n",
       "      <td>58.223040</td>\n",
       "    </tr>\n",
       "    <tr>\n",
       "      <th>3</th>\n",
       "      <td>a</td>\n",
       "      <td>math</td>\n",
       "      <td>9</td>\n",
       "      <td>169.079233</td>\n",
       "      <td>80.061893</td>\n",
       "    </tr>\n",
       "    <tr>\n",
       "      <th>4</th>\n",
       "      <td>a</td>\n",
       "      <td>math</td>\n",
       "      <td>8</td>\n",
       "      <td>181.891225</td>\n",
       "      <td>81.469594</td>\n",
       "    </tr>\n",
       "    <tr>\n",
       "      <th>5</th>\n",
       "      <td>a</td>\n",
       "      <td>math</td>\n",
       "      <td>8</td>\n",
       "      <td>198.250336</td>\n",
       "      <td>85.251591</td>\n",
       "    </tr>\n",
       "    <tr>\n",
       "      <th>6</th>\n",
       "      <td>a</td>\n",
       "      <td>math</td>\n",
       "      <td>5</td>\n",
       "      <td>177.629082</td>\n",
       "      <td>77.854321</td>\n",
       "    </tr>\n",
       "    <tr>\n",
       "      <th>7</th>\n",
       "      <td>a</td>\n",
       "      <td>math</td>\n",
       "      <td>7</td>\n",
       "      <td>162.599631</td>\n",
       "      <td>72.673828</td>\n",
       "    </tr>\n",
       "    <tr>\n",
       "      <th>8</th>\n",
       "      <td>a</td>\n",
       "      <td>math</td>\n",
       "      <td>9</td>\n",
       "      <td>175.592211</td>\n",
       "      <td>74.946071</td>\n",
       "    </tr>\n",
       "    <tr>\n",
       "      <th>9</th>\n",
       "      <td>a</td>\n",
       "      <td>math</td>\n",
       "      <td>4</td>\n",
       "      <td>158.540374</td>\n",
       "      <td>70.097550</td>\n",
       "    </tr>\n",
       "    <tr>\n",
       "      <th>10</th>\n",
       "      <td>a</td>\n",
       "      <td>math</td>\n",
       "      <td>8</td>\n",
       "      <td>176.531170</td>\n",
       "      <td>81.299211</td>\n",
       "    </tr>\n",
       "    <tr>\n",
       "      <th>11</th>\n",
       "      <td>a</td>\n",
       "      <td>math</td>\n",
       "      <td>5</td>\n",
       "      <td>177.091042</td>\n",
       "      <td>70.786625</td>\n",
       "    </tr>\n",
       "    <tr>\n",
       "      <th>12</th>\n",
       "      <td>a</td>\n",
       "      <td>math</td>\n",
       "      <td>6</td>\n",
       "      <td>161.710143</td>\n",
       "      <td>72.312035</td>\n",
       "    </tr>\n",
       "    <tr>\n",
       "      <th>13</th>\n",
       "      <td>a</td>\n",
       "      <td>math</td>\n",
       "      <td>9</td>\n",
       "      <td>163.055397</td>\n",
       "      <td>73.876893</td>\n",
       "    </tr>\n",
       "    <tr>\n",
       "      <th>14</th>\n",
       "      <td>a</td>\n",
       "      <td>math</td>\n",
       "      <td>4</td>\n",
       "      <td>174.989806</td>\n",
       "      <td>75.931848</td>\n",
       "    </tr>\n",
       "    <tr>\n",
       "      <th>15</th>\n",
       "      <td>a</td>\n",
       "      <td>math</td>\n",
       "      <td>7</td>\n",
       "      <td>153.193771</td>\n",
       "      <td>61.952199</td>\n",
       "    </tr>\n",
       "    <tr>\n",
       "      <th>16</th>\n",
       "      <td>a</td>\n",
       "      <td>math</td>\n",
       "      <td>8</td>\n",
       "      <td>180.621089</td>\n",
       "      <td>84.942506</td>\n",
       "    </tr>\n",
       "    <tr>\n",
       "      <th>17</th>\n",
       "      <td>a</td>\n",
       "      <td>math</td>\n",
       "      <td>4</td>\n",
       "      <td>181.980124</td>\n",
       "      <td>74.962023</td>\n",
       "    </tr>\n",
       "    <tr>\n",
       "      <th>18</th>\n",
       "      <td>a</td>\n",
       "      <td>math</td>\n",
       "      <td>5</td>\n",
       "      <td>178.337171</td>\n",
       "      <td>83.535316</td>\n",
       "    </tr>\n",
       "    <tr>\n",
       "      <th>19</th>\n",
       "      <td>a</td>\n",
       "      <td>math</td>\n",
       "      <td>8</td>\n",
       "      <td>169.551903</td>\n",
       "      <td>72.245432</td>\n",
       "    </tr>\n",
       "    <tr>\n",
       "      <th>40</th>\n",
       "      <td>b</td>\n",
       "      <td>math</td>\n",
       "      <td>8</td>\n",
       "      <td>172.546406</td>\n",
       "      <td>71.362575</td>\n",
       "    </tr>\n",
       "    <tr>\n",
       "      <th>41</th>\n",
       "      <td>b</td>\n",
       "      <td>math</td>\n",
       "      <td>5</td>\n",
       "      <td>164.275172</td>\n",
       "      <td>66.995719</td>\n",
       "    </tr>\n",
       "    <tr>\n",
       "      <th>42</th>\n",
       "      <td>b</td>\n",
       "      <td>math</td>\n",
       "      <td>5</td>\n",
       "      <td>184.474171</td>\n",
       "      <td>76.120901</td>\n",
       "    </tr>\n",
       "    <tr>\n",
       "      <th>43</th>\n",
       "      <td>b</td>\n",
       "      <td>math</td>\n",
       "      <td>8</td>\n",
       "      <td>176.255915</td>\n",
       "      <td>77.013071</td>\n",
       "    </tr>\n",
       "    <tr>\n",
       "      <th>44</th>\n",
       "      <td>b</td>\n",
       "      <td>math</td>\n",
       "      <td>5</td>\n",
       "      <td>172.673974</td>\n",
       "      <td>78.746000</td>\n",
       "    </tr>\n",
       "    <tr>\n",
       "      <th>45</th>\n",
       "      <td>b</td>\n",
       "      <td>math</td>\n",
       "      <td>4</td>\n",
       "      <td>162.837420</td>\n",
       "      <td>71.038189</td>\n",
       "    </tr>\n",
       "    <tr>\n",
       "      <th>46</th>\n",
       "      <td>b</td>\n",
       "      <td>math</td>\n",
       "      <td>6</td>\n",
       "      <td>178.384670</td>\n",
       "      <td>83.486057</td>\n",
       "    </tr>\n",
       "    <tr>\n",
       "      <th>47</th>\n",
       "      <td>b</td>\n",
       "      <td>math</td>\n",
       "      <td>6</td>\n",
       "      <td>184.722313</td>\n",
       "      <td>80.906039</td>\n",
       "    </tr>\n",
       "    <tr>\n",
       "      <th>48</th>\n",
       "      <td>b</td>\n",
       "      <td>math</td>\n",
       "      <td>8</td>\n",
       "      <td>165.307604</td>\n",
       "      <td>70.246598</td>\n",
       "    </tr>\n",
       "    <tr>\n",
       "      <th>49</th>\n",
       "      <td>b</td>\n",
       "      <td>math</td>\n",
       "      <td>6</td>\n",
       "      <td>160.531476</td>\n",
       "      <td>71.758778</td>\n",
       "    </tr>\n",
       "    <tr>\n",
       "      <th>50</th>\n",
       "      <td>b</td>\n",
       "      <td>math</td>\n",
       "      <td>6</td>\n",
       "      <td>171.376333</td>\n",
       "      <td>70.788596</td>\n",
       "    </tr>\n",
       "    <tr>\n",
       "      <th>51</th>\n",
       "      <td>b</td>\n",
       "      <td>math</td>\n",
       "      <td>9</td>\n",
       "      <td>173.588961</td>\n",
       "      <td>76.691777</td>\n",
       "    </tr>\n",
       "    <tr>\n",
       "      <th>52</th>\n",
       "      <td>b</td>\n",
       "      <td>math</td>\n",
       "      <td>9</td>\n",
       "      <td>158.496854</td>\n",
       "      <td>66.878495</td>\n",
       "    </tr>\n",
       "    <tr>\n",
       "      <th>53</th>\n",
       "      <td>b</td>\n",
       "      <td>math</td>\n",
       "      <td>5</td>\n",
       "      <td>177.618974</td>\n",
       "      <td>75.865288</td>\n",
       "    </tr>\n",
       "    <tr>\n",
       "      <th>54</th>\n",
       "      <td>b</td>\n",
       "      <td>math</td>\n",
       "      <td>9</td>\n",
       "      <td>156.908259</td>\n",
       "      <td>71.279562</td>\n",
       "    </tr>\n",
       "    <tr>\n",
       "      <th>55</th>\n",
       "      <td>b</td>\n",
       "      <td>math</td>\n",
       "      <td>4</td>\n",
       "      <td>164.594497</td>\n",
       "      <td>77.145764</td>\n",
       "    </tr>\n",
       "    <tr>\n",
       "      <th>56</th>\n",
       "      <td>b</td>\n",
       "      <td>math</td>\n",
       "      <td>8</td>\n",
       "      <td>165.392486</td>\n",
       "      <td>78.631909</td>\n",
       "    </tr>\n",
       "    <tr>\n",
       "      <th>57</th>\n",
       "      <td>b</td>\n",
       "      <td>math</td>\n",
       "      <td>8</td>\n",
       "      <td>174.754588</td>\n",
       "      <td>78.428147</td>\n",
       "    </tr>\n",
       "    <tr>\n",
       "      <th>58</th>\n",
       "      <td>b</td>\n",
       "      <td>math</td>\n",
       "      <td>9</td>\n",
       "      <td>172.793135</td>\n",
       "      <td>80.474721</td>\n",
       "    </tr>\n",
       "    <tr>\n",
       "      <th>59</th>\n",
       "      <td>b</td>\n",
       "      <td>math</td>\n",
       "      <td>6</td>\n",
       "      <td>186.987255</td>\n",
       "      <td>77.267484</td>\n",
       "    </tr>\n",
       "  </tbody>\n",
       "</table>\n",
       "</div>"
      ],
      "text/plain": [
       "   class  exam  grade      height     weight\n",
       "0      a  math      9  158.804535  64.337681\n",
       "1      a  math      9  181.098192  81.738328\n",
       "2      a  math      4  157.527667  58.223040\n",
       "3      a  math      9  169.079233  80.061893\n",
       "4      a  math      8  181.891225  81.469594\n",
       "5      a  math      8  198.250336  85.251591\n",
       "6      a  math      5  177.629082  77.854321\n",
       "7      a  math      7  162.599631  72.673828\n",
       "8      a  math      9  175.592211  74.946071\n",
       "9      a  math      4  158.540374  70.097550\n",
       "10     a  math      8  176.531170  81.299211\n",
       "11     a  math      5  177.091042  70.786625\n",
       "12     a  math      6  161.710143  72.312035\n",
       "13     a  math      9  163.055397  73.876893\n",
       "14     a  math      4  174.989806  75.931848\n",
       "15     a  math      7  153.193771  61.952199\n",
       "16     a  math      8  180.621089  84.942506\n",
       "17     a  math      4  181.980124  74.962023\n",
       "18     a  math      5  178.337171  83.535316\n",
       "19     a  math      8  169.551903  72.245432\n",
       "40     b  math      8  172.546406  71.362575\n",
       "41     b  math      5  164.275172  66.995719\n",
       "42     b  math      5  184.474171  76.120901\n",
       "43     b  math      8  176.255915  77.013071\n",
       "44     b  math      5  172.673974  78.746000\n",
       "45     b  math      4  162.837420  71.038189\n",
       "46     b  math      6  178.384670  83.486057\n",
       "47     b  math      6  184.722313  80.906039\n",
       "48     b  math      8  165.307604  70.246598\n",
       "49     b  math      6  160.531476  71.758778\n",
       "50     b  math      6  171.376333  70.788596\n",
       "51     b  math      9  173.588961  76.691777\n",
       "52     b  math      9  158.496854  66.878495\n",
       "53     b  math      5  177.618974  75.865288\n",
       "54     b  math      9  156.908259  71.279562\n",
       "55     b  math      4  164.594497  77.145764\n",
       "56     b  math      8  165.392486  78.631909\n",
       "57     b  math      8  174.754588  78.428147\n",
       "58     b  math      9  172.793135  80.474721\n",
       "59     b  math      6  186.987255  77.267484"
      ]
     },
     "execution_count": 101,
     "metadata": {},
     "output_type": "execute_result"
    }
   ],
   "source": [
    "df[df.exam == \"math\"]"
   ]
  },
  {
   "cell_type": "code",
   "execution_count": 68,
   "metadata": {
    "collapsed": false,
    "slideshow": {
     "slide_type": "subslide"
    }
   },
   "outputs": [
    {
     "data": {
      "text/html": [
       "<div>\n",
       "<table border=\"1\" class=\"dataframe\">\n",
       "  <thead>\n",
       "    <tr style=\"text-align: right;\">\n",
       "      <th></th>\n",
       "      <th>grade</th>\n",
       "      <th>height</th>\n",
       "      <th>weight</th>\n",
       "    </tr>\n",
       "    <tr>\n",
       "      <th>class</th>\n",
       "      <th></th>\n",
       "      <th></th>\n",
       "      <th></th>\n",
       "    </tr>\n",
       "  </thead>\n",
       "  <tbody>\n",
       "    <tr>\n",
       "      <th>a</th>\n",
       "      <td>6.500</td>\n",
       "      <td>170.537061</td>\n",
       "      <td>75.317734</td>\n",
       "    </tr>\n",
       "    <tr>\n",
       "      <th>b</th>\n",
       "      <td>6.775</td>\n",
       "      <td>170.204344</td>\n",
       "      <td>74.711978</td>\n",
       "    </tr>\n",
       "  </tbody>\n",
       "</table>\n",
       "</div>"
      ],
      "text/plain": [
       "       grade      height     weight\n",
       "class                              \n",
       "a      6.500  170.537061  75.317734\n",
       "b      6.775  170.204344  74.711978"
      ]
     },
     "execution_count": 68,
     "metadata": {},
     "output_type": "execute_result"
    }
   ],
   "source": [
    "df.groupby(\"class\").mean()"
   ]
  },
  {
   "cell_type": "code",
   "execution_count": 103,
   "metadata": {
    "collapsed": false,
    "slideshow": {
     "slide_type": "fragment"
    }
   },
   "outputs": [
    {
     "data": {
      "text/plain": [
       "exam         class\n",
       "math         a        20\n",
       "             b        20\n",
       "physics      b        20\n",
       "programming  a        20\n",
       "dtype: int64"
      ]
     },
     "execution_count": 103,
     "metadata": {},
     "output_type": "execute_result"
    }
   ],
   "source": [
    "df.groupby([\"exam\", \"class\"]).size()"
   ]
  },
  {
   "cell_type": "code",
   "execution_count": 98,
   "metadata": {
    "collapsed": false,
    "slideshow": {
     "slide_type": "subslide"
    }
   },
   "outputs": [
    {
     "data": {
      "text/plain": [
       "<matplotlib.axes._subplots.AxesSubplot at 0x7f25f577b2b0>"
      ]
     },
     "execution_count": 98,
     "metadata": {},
     "output_type": "execute_result"
    },
    {
     "data": {
      "image/png": "[encoded data removed]",
      "text/plain": [
       "<matplotlib.figure.Figure at 0x7f25f5922f28>"
      ]
     },
     "metadata": {},
     "output_type": "display_data"
    }
   ],
   "source": [
    "## plotting a frame: scatter\n",
    "\n",
    "df.plot.scatter(x=\"height\", y=\"weight\", figsize=(5, 3))"
   ]
  },
  {
   "cell_type": "markdown",
   "metadata": {
    "slideshow": {
     "slide_type": "subslide"
    }
   },
   "source": [
    "## Exercises\n",
    "\n",
    "* What is the difference in average height between the two classes?\n",
    "* Calculate the number of passing grades, for each exam\n",
    "* Calculate the number of passing grades for each exam and class together\n",
    "* Which class scores the most grades above 8?\n",
    "* Is there a correlation between grades and height?"
   ]
  },
  {
   "cell_type": "markdown",
   "metadata": {
    "slideshow": {
     "slide_type": "subslide"
    }
   },
   "source": [
    "## RDW dataset\n",
    "\n",
    "* All registered cars in the Netherlands\n",
    "    * [description]( https://www.rdw.nl/SiteCollectionDocuments/Over%20RDW/Naslagwerk/Beschrijving%20dataset%20Voertuigen%20v2.0.pdf)\n",
    "* 858 Megabytes on disk as a `.csv` file"
   ]
  },
  {
   "cell_type": "code",
   "execution_count": null,
   "metadata": {
    "collapsed": true,
    "slideshow": {
     "slide_type": "fragment"
    }
   },
   "outputs": [],
   "source": [
    "## read the dataset\n",
    "\n",
    "rdw_full = pd.read_csv('/home/gijs/Documents/datasets/Personenauto_basisdata.csv')\n",
    "rdw_full.shape"
   ]
  },
  {
   "cell_type": "code",
   "execution_count": null,
   "metadata": {
    "collapsed": true,
    "slideshow": {
     "slide_type": "fragment"
    }
   },
   "outputs": [],
   "source": [
    "rdw_full.sample(5)"
   ]
  },
  {
   "cell_type": "code",
   "execution_count": null,
   "metadata": {
    "collapsed": false,
    "slideshow": {
     "slide_type": "subslide"
    }
   },
   "outputs": [],
   "source": [
    "## show top 10\n",
    "\n",
    "rdw_full.Merk.value_counts()[:10]"
   ]
  },
  {
   "cell_type": "code",
   "execution_count": null,
   "metadata": {
    "collapsed": false,
    "slideshow": {
     "slide_type": "fragment"
    }
   },
   "outputs": [],
   "source": [
    "rdw_sample = rdw_full.sample(frac=.01)\n",
    "rdw_sample.shape"
   ]
  },
  {
   "cell_type": "code",
   "execution_count": null,
   "metadata": {
    "collapsed": true,
    "slideshow": {
     "slide_type": "fragment"
    }
   },
   "outputs": [],
   "source": [
    "rdw_sample.to_csv('../resources/data/Open_Data_RDW__Gekentekende_voertuigen.csv')"
   ]
  },
  {
   "cell_type": "code",
   "execution_count": null,
   "metadata": {
    "collapsed": true,
    "slideshow": {
     "slide_type": "fragment"
    }
   },
   "outputs": [],
   "source": [
    "del rdw_full"
   ]
  },
  {
   "cell_type": "code",
   "execution_count": 105,
   "metadata": {
    "collapsed": true,
    "slideshow": {
     "slide_type": "subslide"
    }
   },
   "outputs": [],
   "source": [
    "rdw = pd.read_csv('../resources/data/Open_Data_RDW__Gekentekende_voertuigen.csv')"
   ]
  },
  {
   "cell_type": "code",
   "execution_count": 106,
   "metadata": {
    "collapsed": false,
    "scrolled": true
   },
   "outputs": [
    {
     "data": {
      "text/html": [
       "<div>\n",
       "<table border=\"1\" class=\"dataframe\">\n",
       "  <thead>\n",
       "    <tr style=\"text-align: right;\">\n",
       "      <th></th>\n",
       "      <th>Unnamed: 0</th>\n",
       "      <th>Kenteken</th>\n",
       "      <th>Voertuigsoort</th>\n",
       "      <th>Merk</th>\n",
       "      <th>Handelsbenaming</th>\n",
       "      <th>Datum tenaamstelling</th>\n",
       "      <th>Bruto BPM</th>\n",
       "      <th>Cilinderinhoud</th>\n",
       "      <th>Massa ledig voertuig</th>\n",
       "      <th>Toegestane maximum massa voertuig</th>\n",
       "      <th>Datum eerste toelating</th>\n",
       "      <th>Datum eerste afgifte Nederland</th>\n",
       "      <th>Catalogusprijs</th>\n",
       "      <th>WAM verzekerd</th>\n",
       "    </tr>\n",
       "  </thead>\n",
       "  <tbody>\n",
       "    <tr>\n",
       "      <th>0</th>\n",
       "      <td>955832</td>\n",
       "      <td>93JDZG</td>\n",
       "      <td>Personenauto</td>\n",
       "      <td>DAIHATSU</td>\n",
       "      <td>SIRION</td>\n",
       "      <td>13/06/2013</td>\n",
       "      <td>2270.0</td>\n",
       "      <td>989.0</td>\n",
       "      <td>815.0</td>\n",
       "      <td>1320.0</td>\n",
       "      <td>07/03/2002</td>\n",
       "      <td>07/03/2002</td>\n",
       "      <td>NaN</td>\n",
       "      <td>Ja</td>\n",
       "    </tr>\n",
       "    <tr>\n",
       "      <th>1</th>\n",
       "      <td>5350640</td>\n",
       "      <td>18PDJZ</td>\n",
       "      <td>Personenauto</td>\n",
       "      <td>HYUNDAI</td>\n",
       "      <td>ACCENT; 1.6</td>\n",
       "      <td>02/02/2007</td>\n",
       "      <td>3202.0</td>\n",
       "      <td>1599.0</td>\n",
       "      <td>1015.0</td>\n",
       "      <td>1555.0</td>\n",
       "      <td>06/05/2004</td>\n",
       "      <td>06/05/2004</td>\n",
       "      <td>NaN</td>\n",
       "      <td>Ja</td>\n",
       "    </tr>\n",
       "    <tr>\n",
       "      <th>2</th>\n",
       "      <td>5172911</td>\n",
       "      <td>10TRVN</td>\n",
       "      <td>Personenauto</td>\n",
       "      <td>HYUNDAI</td>\n",
       "      <td>TUCSON</td>\n",
       "      <td>14/06/2010</td>\n",
       "      <td>5840.0</td>\n",
       "      <td>1975.0</td>\n",
       "      <td>1437.0</td>\n",
       "      <td>2050.0</td>\n",
       "      <td>06/01/2007</td>\n",
       "      <td>06/01/2007</td>\n",
       "      <td>25270.0</td>\n",
       "      <td>Ja</td>\n",
       "    </tr>\n",
       "    <tr>\n",
       "      <th>3</th>\n",
       "      <td>872752</td>\n",
       "      <td>04HSPX</td>\n",
       "      <td>Personenauto</td>\n",
       "      <td>OPEL</td>\n",
       "      <td>ASTRA-G-CC; Z1.6SE</td>\n",
       "      <td>28/08/2010</td>\n",
       "      <td>3609.0</td>\n",
       "      <td>1598.0</td>\n",
       "      <td>1063.0</td>\n",
       "      <td>1660.0</td>\n",
       "      <td>09/11/2001</td>\n",
       "      <td>09/11/2001</td>\n",
       "      <td>NaN</td>\n",
       "      <td>Ja</td>\n",
       "    </tr>\n",
       "    <tr>\n",
       "      <th>4</th>\n",
       "      <td>1150864</td>\n",
       "      <td>02RXBS</td>\n",
       "      <td>Personenauto</td>\n",
       "      <td>CITROEN</td>\n",
       "      <td>C3; 1.4I EURO IV</td>\n",
       "      <td>30/01/2009</td>\n",
       "      <td>3811.0</td>\n",
       "      <td>1360.0</td>\n",
       "      <td>989.0</td>\n",
       "      <td>1510.0</td>\n",
       "      <td>16/11/2005</td>\n",
       "      <td>16/11/2005</td>\n",
       "      <td>NaN</td>\n",
       "      <td>Ja</td>\n",
       "    </tr>\n",
       "    <tr>\n",
       "      <th>5</th>\n",
       "      <td>290689</td>\n",
       "      <td>98HZLL</td>\n",
       "      <td>Personenauto</td>\n",
       "      <td>CITROEN</td>\n",
       "      <td>XSARA; BERLINE 1.6I 16V</td>\n",
       "      <td>21/09/2016</td>\n",
       "      <td>3744.0</td>\n",
       "      <td>1587.0</td>\n",
       "      <td>1116.0</td>\n",
       "      <td>1663.0</td>\n",
       "      <td>01/02/2002</td>\n",
       "      <td>01/02/2002</td>\n",
       "      <td>NaN</td>\n",
       "      <td>Ja</td>\n",
       "    </tr>\n",
       "    <tr>\n",
       "      <th>6</th>\n",
       "      <td>7193796</td>\n",
       "      <td>XNRR63</td>\n",
       "      <td>Personenauto</td>\n",
       "      <td>FORD</td>\n",
       "      <td>FIESTA; 1.25I</td>\n",
       "      <td>24/11/2012</td>\n",
       "      <td>2401.0</td>\n",
       "      <td>1242.0</td>\n",
       "      <td>956.0</td>\n",
       "      <td>1475.0</td>\n",
       "      <td>14/01/1999</td>\n",
       "      <td>14/01/1999</td>\n",
       "      <td>NaN</td>\n",
       "      <td>Ja</td>\n",
       "    </tr>\n",
       "    <tr>\n",
       "      <th>7</th>\n",
       "      <td>2410430</td>\n",
       "      <td>31ZBJF</td>\n",
       "      <td>Personenauto</td>\n",
       "      <td>KIA</td>\n",
       "      <td>CEE D</td>\n",
       "      <td>04/06/2012</td>\n",
       "      <td>4162.0</td>\n",
       "      <td>1591.0</td>\n",
       "      <td>1217.0</td>\n",
       "      <td>1820.0</td>\n",
       "      <td>04/01/2008</td>\n",
       "      <td>04/01/2008</td>\n",
       "      <td>20544.0</td>\n",
       "      <td>Ja</td>\n",
       "    </tr>\n",
       "    <tr>\n",
       "      <th>8</th>\n",
       "      <td>7263939</td>\n",
       "      <td>TXTV05</td>\n",
       "      <td>Personenauto</td>\n",
       "      <td>VOLKSWAGEN</td>\n",
       "      <td>GOLF; 74 KW</td>\n",
       "      <td>28/03/2016</td>\n",
       "      <td>4533.0</td>\n",
       "      <td>1595.0</td>\n",
       "      <td>1092.0</td>\n",
       "      <td>1700.0</td>\n",
       "      <td>04/09/1998</td>\n",
       "      <td>04/09/1998</td>\n",
       "      <td>NaN</td>\n",
       "      <td>Ja</td>\n",
       "    </tr>\n",
       "    <tr>\n",
       "      <th>9</th>\n",
       "      <td>1443118</td>\n",
       "      <td>77THRL</td>\n",
       "      <td>Personenauto</td>\n",
       "      <td>MERCEDES-BENZ</td>\n",
       "      <td>190 E</td>\n",
       "      <td>27/06/2014</td>\n",
       "      <td>7952.0</td>\n",
       "      <td>1977.0</td>\n",
       "      <td>1117.0</td>\n",
       "      <td>1600.0</td>\n",
       "      <td>27/04/1983</td>\n",
       "      <td>19/09/2006</td>\n",
       "      <td>NaN</td>\n",
       "      <td>Ja</td>\n",
       "    </tr>\n",
       "  </tbody>\n",
       "</table>\n",
       "</div>"
      ],
      "text/plain": [
       "   Unnamed: 0 Kenteken Voertuigsoort           Merk          Handelsbenaming  \\\n",
       "0      955832   93JDZG  Personenauto       DAIHATSU                   SIRION   \n",
       "1     5350640   18PDJZ  Personenauto        HYUNDAI              ACCENT; 1.6   \n",
       "2     5172911   10TRVN  Personenauto        HYUNDAI                   TUCSON   \n",
       "3      872752   04HSPX  Personenauto           OPEL       ASTRA-G-CC; Z1.6SE   \n",
       "4     1150864   02RXBS  Personenauto        CITROEN         C3; 1.4I EURO IV   \n",
       "5      290689   98HZLL  Personenauto        CITROEN  XSARA; BERLINE 1.6I 16V   \n",
       "6     7193796   XNRR63  Personenauto           FORD            FIESTA; 1.25I   \n",
       "7     2410430   31ZBJF  Personenauto            KIA                    CEE D   \n",
       "8     7263939   TXTV05  Personenauto     VOLKSWAGEN              GOLF; 74 KW   \n",
       "9     1443118   77THRL  Personenauto  MERCEDES-BENZ                    190 E   \n",
       "\n",
       "  Datum tenaamstelling  Bruto BPM  Cilinderinhoud  Massa ledig voertuig  \\\n",
       "0           13/06/2013     2270.0           989.0                 815.0   \n",
       "1           02/02/2007     3202.0          1599.0                1015.0   \n",
       "2           14/06/2010     5840.0          1975.0                1437.0   \n",
       "3           28/08/2010     3609.0          1598.0                1063.0   \n",
       "4           30/01/2009     3811.0          1360.0                 989.0   \n",
       "5           21/09/2016     3744.0          1587.0                1116.0   \n",
       "6           24/11/2012     2401.0          1242.0                 956.0   \n",
       "7           04/06/2012     4162.0          1591.0                1217.0   \n",
       "8           28/03/2016     4533.0          1595.0                1092.0   \n",
       "9           27/06/2014     7952.0          1977.0                1117.0   \n",
       "\n",
       "   Toegestane maximum massa voertuig Datum eerste toelating  \\\n",
       "0                             1320.0             07/03/2002   \n",
       "1                             1555.0             06/05/2004   \n",
       "2                             2050.0             06/01/2007   \n",
       "3                             1660.0             09/11/2001   \n",
       "4                             1510.0             16/11/2005   \n",
       "5                             1663.0             01/02/2002   \n",
       "6                             1475.0             14/01/1999   \n",
       "7                             1820.0             04/01/2008   \n",
       "8                             1700.0             04/09/1998   \n",
       "9                             1600.0             27/04/1983   \n",
       "\n",
       "  Datum eerste afgifte Nederland  Catalogusprijs WAM verzekerd  \n",
       "0                     07/03/2002             NaN            Ja  \n",
       "1                     06/05/2004             NaN            Ja  \n",
       "2                     06/01/2007         25270.0            Ja  \n",
       "3                     09/11/2001             NaN            Ja  \n",
       "4                     16/11/2005             NaN            Ja  \n",
       "5                     01/02/2002             NaN            Ja  \n",
       "6                     14/01/1999             NaN            Ja  \n",
       "7                     04/01/2008         20544.0            Ja  \n",
       "8                     04/09/1998             NaN            Ja  \n",
       "9                     19/09/2006             NaN            Ja  "
      ]
     },
     "execution_count": 106,
     "metadata": {},
     "output_type": "execute_result"
    }
   ],
   "source": [
    "rdw.head(10)"
   ]
  },
  {
   "cell_type": "code",
   "execution_count": 107,
   "metadata": {
    "collapsed": false,
    "slideshow": {
     "slide_type": "subslide"
    }
   },
   "outputs": [
    {
     "data": {
      "text/plain": [
       "(236,)"
      ]
     },
     "execution_count": 107,
     "metadata": {},
     "output_type": "execute_result"
    },
    {
     "data": {
      "image/png": "[encoded data removed]",
      "text/plain": [
       "<matplotlib.figure.Figure at 0x7f260b326a90>"
      ]
     },
     "metadata": {},
     "output_type": "display_data"
    }
   ],
   "source": [
    "counts = rdw.Merk.value_counts()\n",
    "\n",
    "counts[20::-1].plot(kind='barh')\n",
    "\n",
    "counts.shape"
   ]
  },
  {
   "cell_type": "code",
   "execution_count": 145,
   "metadata": {
    "collapsed": false,
    "slideshow": {
     "slide_type": "subslide"
    }
   },
   "outputs": [
    {
     "data": {
      "text/html": [
       "<div>\n",
       "<table border=\"1\" class=\"dataframe\">\n",
       "  <thead>\n",
       "    <tr style=\"text-align: right;\">\n",
       "      <th></th>\n",
       "      <th>Kenteken</th>\n",
       "      <th>Merk</th>\n",
       "      <th>Catalogusprijs</th>\n",
       "      <th>Voertuigsoort</th>\n",
       "    </tr>\n",
       "  </thead>\n",
       "  <tbody>\n",
       "    <tr>\n",
       "      <th>64939</th>\n",
       "      <td>JH238P</td>\n",
       "      <td>ROLLS ROYCE</td>\n",
       "      <td>533660.0</td>\n",
       "      <td>Personenauto</td>\n",
       "    </tr>\n",
       "    <tr>\n",
       "      <th>23739</th>\n",
       "      <td>8ZSG31</td>\n",
       "      <td>FERRARI</td>\n",
       "      <td>387958.0</td>\n",
       "      <td>Personenauto</td>\n",
       "    </tr>\n",
       "    <tr>\n",
       "      <th>18818</th>\n",
       "      <td>JK826Z</td>\n",
       "      <td>BENTLEY</td>\n",
       "      <td>381777.0</td>\n",
       "      <td>Personenauto</td>\n",
       "    </tr>\n",
       "    <tr>\n",
       "      <th>48592</th>\n",
       "      <td>66SXR6</td>\n",
       "      <td>ASTON-MARTIN</td>\n",
       "      <td>368898.0</td>\n",
       "      <td>Personenauto</td>\n",
       "    </tr>\n",
       "    <tr>\n",
       "      <th>12710</th>\n",
       "      <td>8SBD09</td>\n",
       "      <td>FERRARI</td>\n",
       "      <td>367271.0</td>\n",
       "      <td>Personenauto</td>\n",
       "    </tr>\n",
       "    <tr>\n",
       "      <th>88967</th>\n",
       "      <td>HG951K</td>\n",
       "      <td>MC LAREN</td>\n",
       "      <td>360556.0</td>\n",
       "      <td>Personenauto</td>\n",
       "    </tr>\n",
       "    <tr>\n",
       "      <th>43371</th>\n",
       "      <td>01XVK4</td>\n",
       "      <td>ASTON-MARTIN</td>\n",
       "      <td>302355.0</td>\n",
       "      <td>Personenauto</td>\n",
       "    </tr>\n",
       "    <tr>\n",
       "      <th>78419</th>\n",
       "      <td>KG948S</td>\n",
       "      <td>AUDI</td>\n",
       "      <td>300193.0</td>\n",
       "      <td>Personenauto</td>\n",
       "    </tr>\n",
       "    <tr>\n",
       "      <th>88560</th>\n",
       "      <td>5XRH73</td>\n",
       "      <td>ASTON-MARTIN</td>\n",
       "      <td>295678.0</td>\n",
       "      <td>Personenauto</td>\n",
       "    </tr>\n",
       "    <tr>\n",
       "      <th>61375</th>\n",
       "      <td>4SFH98</td>\n",
       "      <td>BENTLEY</td>\n",
       "      <td>291157.0</td>\n",
       "      <td>Personenauto</td>\n",
       "    </tr>\n",
       "  </tbody>\n",
       "</table>\n",
       "</div>"
      ],
      "text/plain": [
       "      Kenteken          Merk  Catalogusprijs Voertuigsoort\n",
       "64939   JH238P   ROLLS ROYCE        533660.0  Personenauto\n",
       "23739   8ZSG31       FERRARI        387958.0  Personenauto\n",
       "18818   JK826Z       BENTLEY        381777.0  Personenauto\n",
       "48592   66SXR6  ASTON-MARTIN        368898.0  Personenauto\n",
       "12710   8SBD09       FERRARI        367271.0  Personenauto\n",
       "88967   HG951K      MC LAREN        360556.0  Personenauto\n",
       "43371   01XVK4  ASTON-MARTIN        302355.0  Personenauto\n",
       "78419   KG948S          AUDI        300193.0  Personenauto\n",
       "88560   5XRH73  ASTON-MARTIN        295678.0  Personenauto\n",
       "61375   4SFH98       BENTLEY        291157.0  Personenauto"
      ]
     },
     "execution_count": 145,
     "metadata": {},
     "output_type": "execute_result"
    }
   ],
   "source": [
    "## sorting\n",
    "\n",
    "rdw[[\"Kenteken\", \"Merk\", \"Catalogusprijs\", \"Voertuigsoort\"]].sort_values(\"Catalogusprijs\", ascending=False).head(10)"
   ]
  },
  {
   "cell_type": "code",
   "execution_count": 111,
   "metadata": {
    "collapsed": false,
    "slideshow": {
     "slide_type": "subslide"
    }
   },
   "outputs": [
    {
     "data": {
      "text/plain": [
       "(91135, 14)"
      ]
     },
     "execution_count": 111,
     "metadata": {},
     "output_type": "execute_result"
    }
   ],
   "source": [
    "rdw.shape"
   ]
  },
  {
   "cell_type": "code",
   "execution_count": 112,
   "metadata": {
    "collapsed": false,
    "slideshow": {
     "slide_type": "fragment"
    }
   },
   "outputs": [
    {
     "data": {
      "text/plain": [
       "Unnamed: 0                             int64\n",
       "Kenteken                              object\n",
       "Voertuigsoort                         object\n",
       "Merk                                  object\n",
       "Handelsbenaming                       object\n",
       "Datum tenaamstelling                  object\n",
       "Bruto BPM                            float64\n",
       "Cilinderinhoud                       float64\n",
       "Massa ledig voertuig                 float64\n",
       "Toegestane maximum massa voertuig    float64\n",
       "Datum eerste toelating                object\n",
       "Datum eerste afgifte Nederland        object\n",
       "Catalogusprijs                       float64\n",
       "WAM verzekerd                         object\n",
       "dtype: object"
      ]
     },
     "execution_count": 112,
     "metadata": {},
     "output_type": "execute_result"
    }
   ],
   "source": [
    "rdw.dtypes"
   ]
  },
  {
   "cell_type": "code",
   "execution_count": 115,
   "metadata": {
    "collapsed": false,
    "slideshow": {
     "slide_type": "subslide"
    }
   },
   "outputs": [
    {
     "data": {
      "text/plain": [
       "0   2002-07-03\n",
       "1   2004-06-05\n",
       "2   2007-06-01\n",
       "3   2001-09-11\n",
       "4   2005-11-16\n",
       "5   2002-01-02\n",
       "6   1999-01-14\n",
       "7   2008-04-01\n",
       "8   1998-04-09\n",
       "9   1983-04-27\n",
       "Name: Datum eerste toelating, dtype: datetime64[ns]"
      ]
     },
     "execution_count": 115,
     "metadata": {},
     "output_type": "execute_result"
    }
   ],
   "source": [
    "pd.to_datetime(rdw[\"Datum eerste toelating\"].head(10))"
   ]
  },
  {
   "cell_type": "code",
   "execution_count": 116,
   "metadata": {
    "collapsed": false,
    "slideshow": {
     "slide_type": "fragment"
    }
   },
   "outputs": [],
   "source": [
    "eerste_toelating = pd.to_datetime(rdw[\"Datum eerste toelating\"])"
   ]
  },
  {
   "cell_type": "code",
   "execution_count": 118,
   "metadata": {
    "collapsed": false,
    "slideshow": {
     "slide_type": "subslide"
    }
   },
   "outputs": [
    {
     "data": {
      "text/plain": [
       "3173    2006-10-05\n",
       "76573   1996-03-14\n",
       "53335   2008-01-17\n",
       "31033   2000-03-07\n",
       "75701   2008-06-03\n",
       "1031    2015-11-27\n",
       "60371   2012-12-01\n",
       "38701   2010-06-07\n",
       "54197   2015-05-27\n",
       "56897   2006-04-14\n",
       "Name: Datum eerste toelating, dtype: datetime64[ns]"
      ]
     },
     "execution_count": 118,
     "metadata": {},
     "output_type": "execute_result"
    }
   ],
   "source": [
    "## use .dt to get access to special datetime functions\n",
    "\n",
    "eerste_toelating.sample(10)"
   ]
  },
  {
   "cell_type": "code",
   "execution_count": 119,
   "metadata": {
    "collapsed": false,
    "slideshow": {
     "slide_type": "subslide"
    }
   },
   "outputs": [
    {
     "data": {
      "text/plain": [
       "<matplotlib.axes._subplots.AxesSubplot at 0x7f25f57514e0>"
      ]
     },
     "execution_count": 119,
     "metadata": {},
     "output_type": "execute_result"
    },
    {
     "data": {
      "image/png": "[encoded data removed]",
      "text/plain": [
       "<matplotlib.figure.Figure at 0x7f25efd60ac8>"
      ]
     },
     "metadata": {},
     "output_type": "display_data"
    }
   ],
   "source": [
    "pd.cut(eerste_toelating.dt.year, bins=np.arange(1900, 2021, 10)).value_counts().sort_index().plot(kind='barh')"
   ]
  },
  {
   "cell_type": "code",
   "execution_count": 127,
   "metadata": {
    "collapsed": false,
    "slideshow": {
     "slide_type": "subslide"
    }
   },
   "outputs": [
    {
     "data": {
      "text/html": [
       "<div>\n",
       "<table border=\"1\" class=\"dataframe\">\n",
       "  <thead>\n",
       "    <tr style=\"text-align: right;\">\n",
       "      <th></th>\n",
       "      <th>Unnamed: 0</th>\n",
       "      <th>Bruto BPM</th>\n",
       "      <th>Cilinderinhoud</th>\n",
       "      <th>Massa ledig voertuig</th>\n",
       "      <th>Toegestane maximum massa voertuig</th>\n",
       "      <th>Catalogusprijs</th>\n",
       "    </tr>\n",
       "    <tr>\n",
       "      <th>Merk</th>\n",
       "      <th></th>\n",
       "      <th></th>\n",
       "      <th></th>\n",
       "      <th></th>\n",
       "      <th></th>\n",
       "      <th></th>\n",
       "    </tr>\n",
       "  </thead>\n",
       "  <tbody>\n",
       "    <tr>\n",
       "      <th>ADRIA</th>\n",
       "      <td>4848679</td>\n",
       "      <td>11143.285714</td>\n",
       "      <td>2239.714286</td>\n",
       "      <td>2762.714286</td>\n",
       "      <td>3471.428571</td>\n",
       "      <td>58323.857143</td>\n",
       "    </tr>\n",
       "    <tr>\n",
       "      <th>ADRIA MOBIL</th>\n",
       "      <td>5370607</td>\n",
       "      <td>10431.333333</td>\n",
       "      <td>2287.000000</td>\n",
       "      <td>2887.500000</td>\n",
       "      <td>3466.666667</td>\n",
       "      <td>69095.500000</td>\n",
       "    </tr>\n",
       "    <tr>\n",
       "      <th>ALFA ROMEO</th>\n",
       "      <td>4185859</td>\n",
       "      <td>6233.446512</td>\n",
       "      <td>1651.813953</td>\n",
       "      <td>1297.232558</td>\n",
       "      <td>1827.720930</td>\n",
       "      <td>31812.613953</td>\n",
       "    </tr>\n",
       "    <tr>\n",
       "      <th>ASTON-MARTIN</th>\n",
       "      <td>3976655</td>\n",
       "      <td>74882.000000</td>\n",
       "      <td>5635.000000</td>\n",
       "      <td>1821.250000</td>\n",
       "      <td>2222.250000</td>\n",
       "      <td>291703.000000</td>\n",
       "    </tr>\n",
       "    <tr>\n",
       "      <th>AUDI</th>\n",
       "      <td>4636246</td>\n",
       "      <td>7918.691417</td>\n",
       "      <td>1899.692098</td>\n",
       "      <td>1453.517711</td>\n",
       "      <td>2041.321526</td>\n",
       "      <td>51288.574251</td>\n",
       "    </tr>\n",
       "    <tr>\n",
       "      <th>BENTLEY</th>\n",
       "      <td>4454300</td>\n",
       "      <td>54770.555556</td>\n",
       "      <td>5101.555556</td>\n",
       "      <td>2388.888889</td>\n",
       "      <td>2893.555556</td>\n",
       "      <td>252187.555556</td>\n",
       "    </tr>\n",
       "    <tr>\n",
       "      <th>BMW</th>\n",
       "      <td>4486901</td>\n",
       "      <td>9580.472840</td>\n",
       "      <td>2154.190895</td>\n",
       "      <td>1497.913606</td>\n",
       "      <td>2078.737713</td>\n",
       "      <td>56480.339886</td>\n",
       "    </tr>\n",
       "    <tr>\n",
       "      <th>BMW I</th>\n",
       "      <td>3374813</td>\n",
       "      <td>361.000000</td>\n",
       "      <td>1073.000000</td>\n",
       "      <td>1375.000000</td>\n",
       "      <td>1796.250000</td>\n",
       "      <td>100617.250000</td>\n",
       "    </tr>\n",
       "    <tr>\n",
       "      <th>BUERSTNER</th>\n",
       "      <td>4438845</td>\n",
       "      <td>10601.400000</td>\n",
       "      <td>2358.200000</td>\n",
       "      <td>2880.500000</td>\n",
       "      <td>3500.000000</td>\n",
       "      <td>58619.400000</td>\n",
       "    </tr>\n",
       "    <tr>\n",
       "      <th>CADILLAC</th>\n",
       "      <td>1811152</td>\n",
       "      <td>15856.000000</td>\n",
       "      <td>2997.000000</td>\n",
       "      <td>1975.000000</td>\n",
       "      <td>2520.000000</td>\n",
       "      <td>77439.000000</td>\n",
       "    </tr>\n",
       "  </tbody>\n",
       "</table>\n",
       "</div>"
      ],
      "text/plain": [
       "              Unnamed: 0     Bruto BPM  Cilinderinhoud  Massa ledig voertuig  \\\n",
       "Merk                                                                           \n",
       "ADRIA            4848679  11143.285714     2239.714286           2762.714286   \n",
       "ADRIA MOBIL      5370607  10431.333333     2287.000000           2887.500000   \n",
       "ALFA ROMEO       4185859   6233.446512     1651.813953           1297.232558   \n",
       "ASTON-MARTIN     3976655  74882.000000     5635.000000           1821.250000   \n",
       "AUDI             4636246   7918.691417     1899.692098           1453.517711   \n",
       "BENTLEY          4454300  54770.555556     5101.555556           2388.888889   \n",
       "BMW              4486901   9580.472840     2154.190895           1497.913606   \n",
       "BMW I            3374813    361.000000     1073.000000           1375.000000   \n",
       "BUERSTNER        4438845  10601.400000     2358.200000           2880.500000   \n",
       "CADILLAC         1811152  15856.000000     2997.000000           1975.000000   \n",
       "\n",
       "              Toegestane maximum massa voertuig  Catalogusprijs  \n",
       "Merk                                                             \n",
       "ADRIA                               3471.428571    58323.857143  \n",
       "ADRIA MOBIL                         3466.666667    69095.500000  \n",
       "ALFA ROMEO                          1827.720930    31812.613953  \n",
       "ASTON-MARTIN                        2222.250000   291703.000000  \n",
       "AUDI                                2041.321526    51288.574251  \n",
       "BENTLEY                             2893.555556   252187.555556  \n",
       "BMW                                 2078.737713    56480.339886  \n",
       "BMW I                               1796.250000   100617.250000  \n",
       "BUERSTNER                           3500.000000    58619.400000  \n",
       "CADILLAC                            2520.000000    77439.000000  "
      ]
     },
     "execution_count": 127,
     "metadata": {},
     "output_type": "execute_result"
    }
   ],
   "source": [
    "by_merk = rdw.dropna().groupby(\"Merk\").mean()\n",
    "by_merk.head(10)"
   ]
  },
  {
   "cell_type": "code",
   "execution_count": 128,
   "metadata": {
    "collapsed": false,
    "slideshow": {
     "slide_type": "subslide"
    }
   },
   "outputs": [
    {
     "data": {
      "text/plain": [
       "<matplotlib.axes._subplots.AxesSubplot at 0x7f260732abe0>"
      ]
     },
     "execution_count": 128,
     "metadata": {},
     "output_type": "execute_result"
    },
    {
     "data": {
      "image/png": "[encoded data removed]",
      "text/plain": [
       "<matplotlib.figure.Figure at 0x7f2607272588>"
      ]
     },
     "metadata": {},
     "output_type": "display_data"
    }
   ],
   "source": [
    "by_merk.plot.scatter(x=\"Catalogusprijs\", y=\"Massa ledig voertuig\", figsize=(5, 5))"
   ]
  },
  {
   "cell_type": "code",
   "execution_count": 139,
   "metadata": {
    "collapsed": false,
    "slideshow": {
     "slide_type": "subslide"
    }
   },
   "outputs": [
    {
     "data": {
      "text/plain": [
       "<matplotlib.axes._subplots.AxesSubplot at 0x7f2607325cf8>"
      ]
     },
     "execution_count": 139,
     "metadata": {},
     "output_type": "execute_result"
    },
    {
     "data": {
      "image/png": "[encoded data removed]",
      "text/plain": [
       "<matplotlib.figure.Figure at 0x7f2607375668>"
      ]
     },
     "metadata": {},
     "output_type": "display_data"
    }
   ],
   "source": [
    "rdw.groupby(eerste_toelating.dt.weekday).size().plot.bar()"
   ]
  },
  {
   "cell_type": "markdown",
   "metadata": {
    "slideshow": {
     "slide_type": "subslide"
    }
   },
   "source": [
    "## Exercises\n",
    "\n",
    "* What is the weight off all the cars combined?\n",
    "* Show a top ten of the heaviest cars\n",
    "* What is the cheapest brand in the set?\n",
    "* Use `.plot.hist` to create a histogram on `Bruto BPM`.\n",
    "\n",
    "Use `df[.. > ..]`\n",
    "\n",
    "* Which brands are so heavy for their price?\n",
    "* Group the dataframe by years (you need to use `.dt` on the right column and use `groupby`), take `.size` and plot a line. Sorting can be done with `.sort_index()`.\n",
    "* Use the `.str.get(0)` function on the `Kenteken` column to get a count of all used first letters. "
   ]
  },
  {
   "cell_type": "markdown",
   "metadata": {
    "collapsed": true,
    "slideshow": {
     "slide_type": "slide"
    }
   },
   "source": [
    "* Python is great for data analysis!\n",
    "* https://tomaugspurger.github.io/modern-1.html\n",
    "\n",
    "![./figures/book.jpg](./figures/book.jpg)\n",
    "![./figures/pydata_cover.jpg](./figures/pydata_cover_resized.jpg)"
   ]
  },
  {
   "cell_type": "markdown",
   "metadata": {
    "slideshow": {
     "slide_type": "subslide"
    }
   },
   "source": [
    "## Next time\n",
    "\n",
    "* We leave Jupyter\n",
    "* Install Git Bash\n",
    "    * Clone a repository\n",
    "* Install a text editor\n",
    "    * Use notepad.exe\n",
    "    * Or https://www.sublimetext.com/\n",
    "    * Or https://atom.io/\n",
    "    * Or use `emacs`"
   ]
  }
 ],
 "metadata": {
  "anaconda-cloud": {},
  "celltoolbar": "Slideshow",
  "kernelspec": {
   "display_name": "Python [conda root]",
   "language": "python",
   "name": "conda-root-py"
  },
  "language_info": {
   "codemirror_mode": {
    "name": "ipython",
    "version": 3
   },
   "file_extension": ".py",
   "mimetype": "text/x-python",
   "name": "python",
   "nbconvert_exporter": "python",
   "pygments_lexer": "ipython3",
   "version": "3.5.2"
  }
 },
 "nbformat": 4,
 "nbformat_minor": 1
}
