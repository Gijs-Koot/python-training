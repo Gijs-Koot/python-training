{
 "cells": [
  {
   "cell_type": "markdown",
   "metadata": {
    "collapsed": true,
    "slideshow": {
     "slide_type": "slide"
    }
   },
   "source": [
    "## Exceptions\n",
    "\n",
    "* Exceptions and Errors are very common\n",
    "* Errors can occur while parsing the code, or during evaluation"
   ]
  },
  {
   "cell_type": "code",
   "execution_count": 6,
   "metadata": {
    "collapsed": false,
    "slideshow": {
     "slide_type": "fragment"
    }
   },
   "outputs": [
    {
     "ename": "SyntaxError",
     "evalue": "Missing parentheses in call to 'print' (<ipython-input-6-8d90ecae1fe0>, line 1)",
     "output_type": "error",
     "traceback": [
      "\u001b[1;36m  File \u001b[1;32m\"<ipython-input-6-8d90ecae1fe0>\"\u001b[1;36m, line \u001b[1;32m1\u001b[0m\n\u001b[1;33m    print \"hello\"\u001b[0m\n\u001b[1;37m                ^\u001b[0m\n\u001b[1;31mSyntaxError\u001b[0m\u001b[1;31m:\u001b[0m Missing parentheses in call to 'print'\n"
     ]
    }
   ],
   "source": [
    "print \"hello\""
   ]
  },
  {
   "cell_type": "code",
   "execution_count": 28,
   "metadata": {
    "collapsed": false,
    "slideshow": {
     "slide_type": "subslide"
    }
   },
   "outputs": [
    {
     "name": "stdout",
     "output_type": "stream",
     "text": [
      "0.9895780097863773\n"
     ]
    },
    {
     "ename": "TypeError",
     "evalue": "unorderable types: str() > int()",
     "output_type": "error",
     "traceback": [
      "\u001b[1;31m---------------------------------------------------------------------------\u001b[0m",
      "\u001b[1;31mTypeError\u001b[0m                                 Traceback (most recent call last)",
      "\u001b[1;32m<ipython-input-28-70d546faa63a>\u001b[0m in \u001b[0;36m<module>\u001b[1;34m()\u001b[0m\n\u001b[0;32m      8\u001b[0m     \u001b[0mx\u001b[0m \u001b[1;33m=\u001b[0m \u001b[1;34m'a'\u001b[0m\u001b[1;33m\u001b[0m\u001b[0m\n\u001b[0;32m      9\u001b[0m \u001b[1;33m\u001b[0m\u001b[0m\n\u001b[1;32m---> 10\u001b[1;33m \u001b[0mx\u001b[0m \u001b[1;33m>\u001b[0m \u001b[1;36m2\u001b[0m\u001b[1;33m\u001b[0m\u001b[0m\n\u001b[0m",
      "\u001b[1;31mTypeError\u001b[0m: unorderable types: str() > int()"
     ]
    }
   ],
   "source": [
    "import random\n",
    "\n",
    "x = 3\n",
    "r = random.random()\n",
    "print(r)\n",
    "\n",
    "if r > .7:\n",
    "    x = 'a'\n",
    "\n",
    "x > 2"
   ]
  },
  {
   "cell_type": "code",
   "execution_count": 29,
   "metadata": {
    "collapsed": false,
    "slideshow": {
     "slide_type": "subslide"
    }
   },
   "outputs": [
    {
     "data": {
      "text/plain": [
       "ValueError('This is not a good value')"
      ]
     },
     "execution_count": 29,
     "metadata": {},
     "output_type": "execute_result"
    }
   ],
   "source": [
    "x = ValueError(\"This is not a good value\")\n",
    "\n",
    "x"
   ]
  },
  {
   "cell_type": "code",
   "execution_count": 35,
   "metadata": {
    "collapsed": false,
    "slideshow": {
     "slide_type": "fragment"
    }
   },
   "outputs": [
    {
     "name": "stdout",
     "output_type": "stream",
     "text": [
      "Give me a number smaller than 5: 12\n"
     ]
    },
    {
     "ename": "ValueError",
     "evalue": "This is too big for me!",
     "output_type": "error",
     "traceback": [
      "\u001b[1;31m---------------------------------------------------------------------------\u001b[0m",
      "\u001b[1;31mValueError\u001b[0m                                Traceback (most recent call last)",
      "\u001b[1;32m<ipython-input-35-4ce39e345de9>\u001b[0m in \u001b[0;36m<module>\u001b[1;34m()\u001b[0m\n\u001b[0;32m      4\u001b[0m \u001b[1;33m\u001b[0m\u001b[0m\n\u001b[0;32m      5\u001b[0m \u001b[1;32mif\u001b[0m \u001b[0mparsed\u001b[0m \u001b[1;33m>=\u001b[0m \u001b[1;36m5\u001b[0m\u001b[1;33m:\u001b[0m\u001b[1;33m\u001b[0m\u001b[0m\n\u001b[1;32m----> 6\u001b[1;33m     \u001b[1;32mraise\u001b[0m \u001b[0mValueError\u001b[0m\u001b[1;33m(\u001b[0m\u001b[1;34m\"This is too big for me!\"\u001b[0m\u001b[1;33m)\u001b[0m\u001b[1;33m\u001b[0m\u001b[0m\n\u001b[0m\u001b[0;32m      7\u001b[0m \u001b[1;33m\u001b[0m\u001b[0m\n\u001b[0;32m      8\u001b[0m \u001b[0mprint\u001b[0m\u001b[1;33m(\u001b[0m\u001b[1;34m'Ok thanks.'\u001b[0m\u001b[1;33m)\u001b[0m\u001b[1;33m\u001b[0m\u001b[0m\n",
      "\u001b[1;31mValueError\u001b[0m: This is too big for me!"
     ]
    }
   ],
   "source": [
    "inp = input('Give me a number smaller than 5: ')\n",
    "\n",
    "parsed = int(inp)\n",
    "\n",
    "if parsed >= 5:\n",
    "    raise ValueError(\"This is too big for me!\")\n",
    "\n",
    "print('Ok thanks.')"
   ]
  },
  {
   "cell_type": "code",
   "execution_count": 191,
   "metadata": {
    "collapsed": false,
    "slideshow": {
     "slide_type": "subslide"
    }
   },
   "outputs": [
    {
     "name": "stdout",
     "output_type": "stream",
     "text": [
      "Trying.. \n",
      "Error! Boom!\n",
      "Done.\n"
     ]
    }
   ],
   "source": [
    "def tricky_function():\n",
    "    if random.random() > .4:\n",
    "        raise TypeError(\"Boom!\")\n",
    "        \n",
    "try:\n",
    "    print(\"Trying.. \")\n",
    "    tricky_function()\n",
    "except TypeError as e:\n",
    "    print(\"Error!\", e)\n",
    "finally:\n",
    "    print(\"Done.\")"
   ]
  },
  {
   "cell_type": "markdown",
   "metadata": {
    "slideshow": {
     "slide_type": "slide"
    }
   },
   "source": [
    "## Iterators, generators and comprehensions\n",
    "\n",
    "* These are used for loops, filtering and mapping of data\n",
    "* Common and very pythonic, but tricky\n",
    "\n",
    "* An **Iterator** is anything that can be looped over\n",
    "* `list` and `set` for example, or `dict` and `dict.items()`.\n",
    "* **Generators** are _lazy_ iterators; the next item is only produced when requested"
   ]
  },
  {
   "cell_type": "code",
   "execution_count": 51,
   "metadata": {
    "collapsed": false,
    "slideshow": {
     "slide_type": "subslide"
    }
   },
   "outputs": [
    {
     "name": "stdout",
     "output_type": "stream",
     "text": [
      "a\n",
      "key\n"
     ]
    }
   ],
   "source": [
    "## dicts and lists are iterators\n",
    "\n",
    "x = dict(a='a', key='value')\n",
    "for key in x:\n",
    "    print(key)"
   ]
  },
  {
   "cell_type": "code",
   "execution_count": 52,
   "metadata": {
    "collapsed": false,
    "slideshow": {
     "slide_type": "fragment"
    }
   },
   "outputs": [
    {
     "name": "stdout",
     "output_type": "stream",
     "text": [
      "a a\n",
      "key value\n"
     ]
    }
   ],
   "source": [
    "for key, value in x.items():\n",
    "    print(key, value)"
   ]
  },
  {
   "cell_type": "code",
   "execution_count": 56,
   "metadata": {
    "collapsed": false,
    "slideshow": {
     "slide_type": "fragment"
    }
   },
   "outputs": [
    {
     "name": "stdout",
     "output_type": "stream",
     "text": [
      "0\n",
      "1\n",
      "2\n",
      "3\n",
      "4\n"
     ]
    }
   ],
   "source": [
    "for i in [0, 1, 2, 3, 4]:\n",
    "    print(i)"
   ]
  },
  {
   "cell_type": "code",
   "execution_count": 54,
   "metadata": {
    "collapsed": false,
    "slideshow": {
     "slide_type": "subslide"
    }
   },
   "outputs": [
    {
     "name": "stdout",
     "output_type": "stream",
     "text": [
      "0\n",
      "1\n",
      "2\n",
      "3\n",
      "4\n"
     ]
    }
   ],
   "source": [
    "## Generators are lazy iterators; the next item is only produced when requested\n",
    "\n",
    "for i in range(5):\n",
    "    print(i)"
   ]
  },
  {
   "cell_type": "code",
   "execution_count": 65,
   "metadata": {
    "collapsed": false,
    "slideshow": {
     "slide_type": "fragment"
    }
   },
   "outputs": [
    {
     "data": {
      "text/plain": [
       "range(0, 5)"
      ]
     },
     "execution_count": 65,
     "metadata": {},
     "output_type": "execute_result"
    }
   ],
   "source": [
    "range(5)"
   ]
  },
  {
   "cell_type": "code",
   "execution_count": 63,
   "metadata": {
    "collapsed": false,
    "slideshow": {
     "slide_type": "fragment"
    }
   },
   "outputs": [
    {
     "data": {
      "text/plain": [
       "48"
      ]
     },
     "execution_count": 63,
     "metadata": {},
     "output_type": "execute_result"
    }
   ],
   "source": [
    "range(500).__sizeof__()"
   ]
  },
  {
   "cell_type": "code",
   "execution_count": 66,
   "metadata": {
    "collapsed": false,
    "slideshow": {
     "slide_type": "fragment"
    }
   },
   "outputs": [
    {
     "data": {
      "text/plain": [
       "4584"
      ]
     },
     "execution_count": 66,
     "metadata": {},
     "output_type": "execute_result"
    }
   ],
   "source": [
    "## you can make the list concrete by passing it to `list`\n",
    "\n",
    "list(range(500)).__sizeof__()"
   ]
  },
  {
   "cell_type": "code",
   "execution_count": 71,
   "metadata": {
    "collapsed": false,
    "slideshow": {
     "slide_type": "subslide"
    }
   },
   "outputs": [
    {
     "data": {
      "text/plain": [
       "dict_keys([3, 5])"
      ]
     },
     "execution_count": 71,
     "metadata": {},
     "output_type": "execute_result"
    }
   ],
   "source": [
    "d = {3: 4, 5: 6}\n",
    "\n",
    "d.keys()"
   ]
  },
  {
   "cell_type": "markdown",
   "metadata": {
    "slideshow": {
     "slide_type": "subslide"
    }
   },
   "source": [
    "## Comprehensions\n",
    "\n",
    "* Comprehensions are quick ways to filter or compose `list`, `set` and `dict`"
   ]
  },
  {
   "cell_type": "code",
   "execution_count": 73,
   "metadata": {
    "collapsed": false,
    "slideshow": {
     "slide_type": "fragment"
    }
   },
   "outputs": [
    {
     "data": {
      "text/plain": [
       "['aa', 'ab', 'ac']"
      ]
     },
     "execution_count": 73,
     "metadata": {},
     "output_type": "execute_result"
    }
   ],
   "source": [
    "## list comprehension\n",
    "\n",
    "['a' + x for x in 'abc']"
   ]
  },
  {
   "cell_type": "code",
   "execution_count": 76,
   "metadata": {
    "collapsed": false,
    "slideshow": {
     "slide_type": "fragment"
    }
   },
   "outputs": [
    {
     "data": {
      "text/plain": [
       "[1, 9, 25, 49, 81]"
      ]
     },
     "execution_count": 76,
     "metadata": {},
     "output_type": "execute_result"
    }
   ],
   "source": [
    "def square(x):\n",
    "    return x ** 2\n",
    "\n",
    "[square(i) for i in range(0, 10) if i % 2]"
   ]
  },
  {
   "cell_type": "code",
   "execution_count": 79,
   "metadata": {
    "collapsed": false,
    "slideshow": {
     "slide_type": "subslide"
    }
   },
   "outputs": [
    {
     "data": {
      "text/plain": [
       "{0: 0,\n",
       " 5: 25,\n",
       " 10: 100,\n",
       " 15: 225,\n",
       " 20: 400,\n",
       " 25: 625,\n",
       " 30: 900,\n",
       " 35: 1225,\n",
       " 40: 1600,\n",
       " 45: 2025}"
      ]
     },
     "execution_count": 79,
     "metadata": {},
     "output_type": "execute_result"
    }
   ],
   "source": [
    "## dict comprehension\n",
    "\n",
    "d = {\n",
    "    i: i ** 2 for i in range(50) if not i % 5\n",
    "}\n",
    "\n",
    "d"
   ]
  },
  {
   "cell_type": "code",
   "execution_count": 80,
   "metadata": {
    "collapsed": false,
    "slideshow": {
     "slide_type": "subslide"
    }
   },
   "outputs": [
    {
     "data": {
      "text/plain": [
       "{0: 0,\n",
       " 25: 5,\n",
       " 100: 10,\n",
       " 225: 15,\n",
       " 400: 20,\n",
       " 625: 25,\n",
       " 900: 30,\n",
       " 1225: 35,\n",
       " 1600: 40,\n",
       " 2025: 45}"
      ]
     },
     "execution_count": 80,
     "metadata": {},
     "output_type": "execute_result"
    }
   ],
   "source": [
    "{\n",
    "    value: key for key, value in d.items()\n",
    "}"
   ]
  },
  {
   "cell_type": "markdown",
   "metadata": {
    "slideshow": {
     "slide_type": "subslide"
    }
   },
   "source": [
    "## Exercise\n",
    "\n",
    "* Create a list of all even numbers less than 500\n",
    "* Create a dictionary with as keys the lowercase letters and values uppercases"
   ]
  },
  {
   "cell_type": "code",
   "execution_count": 181,
   "metadata": {
    "collapsed": false,
    "slideshow": {
     "slide_type": "fragment"
    }
   },
   "outputs": [
    {
     "data": {
      "text/plain": [
       "'abcdefghijklmnopqrstuvwxyz'"
      ]
     },
     "execution_count": 181,
     "metadata": {},
     "output_type": "execute_result"
    }
   ],
   "source": [
    "## solution\n",
    "\n",
    "import string\n",
    "\n",
    "string.ascii_lowercase"
   ]
  },
  {
   "cell_type": "markdown",
   "metadata": {
    "slideshow": {
     "slide_type": "slide"
    }
   },
   "source": [
    "## More builtin functions\n",
    "\n",
    "* The Python interpreter has a number of functions and types built into it that are always available. \n",
    "* https://docs.python.org/3/library/functions.html"
   ]
  },
  {
   "cell_type": "code",
   "execution_count": 82,
   "metadata": {
    "collapsed": false,
    "slideshow": {
     "slide_type": "subslide"
    }
   },
   "outputs": [
    {
     "name": "stdout",
     "output_type": "stream",
     "text": [
      "banana\n"
     ]
    }
   ],
   "source": [
    "## enumerate\n",
    "\n",
    "items = ['apple', 'pear', 'banana', 'kiwi']\n",
    "index = 3\n",
    "\n",
    "count = 0\n",
    "for item in items:\n",
    "    count = count + 1\n",
    "    if count == index:\n",
    "        print(item)"
   ]
  },
  {
   "cell_type": "code",
   "execution_count": 83,
   "metadata": {
    "collapsed": false,
    "slideshow": {
     "slide_type": "fragment"
    }
   },
   "outputs": [
    {
     "name": "stdout",
     "output_type": "stream",
     "text": [
      "kiwi\n"
     ]
    }
   ],
   "source": [
    "for n, item in enumerate(items):\n",
    "    if n == index:\n",
    "        print(item)"
   ]
  },
  {
   "cell_type": "markdown",
   "metadata": {
    "slideshow": {
     "slide_type": "subslide"
    }
   },
   "source": [
    "## Exercise\n",
    "\n",
    "* Write a function that returns the first and last letter of a word\n",
    "* Use the map function to create a list of first and last letters of the fruit list"
   ]
  },
  {
   "cell_type": "code",
   "execution_count": 85,
   "metadata": {
    "collapsed": false,
    "slideshow": {
     "slide_type": "fragment"
    }
   },
   "outputs": [
    {
     "data": {
      "text/plain": [
       "['ae', 'pr', 'ba', 'ki']"
      ]
     },
     "execution_count": 85,
     "metadata": {},
     "output_type": "execute_result"
    }
   ],
   "source": [
    "items = ['apple', 'pear', 'banana', 'kiwi']\n",
    "[x[0] + x[-1] for x in items]"
   ]
  },
  {
   "cell_type": "code",
   "execution_count": 87,
   "metadata": {
    "collapsed": false,
    "slideshow": {
     "slide_type": "subslide"
    }
   },
   "outputs": [
    {
     "name": "stdout",
     "output_type": "stream",
     "text": [
      "apple 3\n",
      "pear 2\n",
      "banana 6\n",
      "kiwi 8\n"
     ]
    }
   ],
   "source": [
    "items = ['apple', 'pear', 'banana', 'kiwi']\n",
    "ratings = [3, 2, 6, 8]\n",
    "\n",
    "for index in range(len(items)):\n",
    "    print(items[index], ratings[index])"
   ]
  },
  {
   "cell_type": "code",
   "execution_count": 88,
   "metadata": {
    "collapsed": true,
    "slideshow": {
     "slide_type": "fragment"
    }
   },
   "outputs": [],
   "source": [
    "# using zip\n",
    "\n"
   ]
  },
  {
   "cell_type": "code",
   "execution_count": 93,
   "metadata": {
    "collapsed": false,
    "slideshow": {
     "slide_type": "slide"
    }
   },
   "outputs": [
    {
     "name": "stdout",
     "output_type": "stream",
     "text": [
      "Python training\n",
      "\n",
      "## Doelgroep\n",
      "\n",
      "Business consultants van Berenschot met een bèta achtergrond en ervaring met het werken met Excel. Als voorbereiding op de training gaan we uit van een basis, die bijvoorbeeld opgedaan kan worden door het volgen van een instapcursus op Code Academy, of het lezen van de\n"
     ]
    }
   ],
   "source": [
    "## Reading files\n",
    "\n",
    "file = open('./README.md')\n",
    "data = file.read()    \n",
    "\n",
    "print(data[:300])"
   ]
  },
  {
   "cell_type": "code",
   "execution_count": 100,
   "metadata": {
    "collapsed": false,
    "slideshow": {
     "slide_type": "subslide"
    }
   },
   "outputs": [
    {
     "name": "stdout",
     "output_type": "stream",
     "text": [
      "Python training\n",
      " ************************************************************\n",
      "\n",
      " ************************************************************\n",
      "## Doelgroep\n",
      " ************************************************************\n",
      "\n",
      " ************************************************************\n",
      "Business consultants van Berenschot met een bèta achtergrond en ervaring met het werken met Excel. Als voorbereiding op de training gaan we uit van een basis, die bijvoorbeeld opgedaan kan worden door het volgen van een instapcursus op Code Academy, of het lezen van de eerste vijf hoofdstukken van de officiële Python Tutorial. De training wordt gevolgd met een eigen laptop, en cursisten wordt aangeraden Anaconda te gebruiken om een volledig toegeruste Python installatie te verkrijgen.\n",
      " ************************************************************\n"
     ]
    }
   ],
   "source": [
    "## use **with** to automatically close the file\n",
    "\n",
    "with open('./README.md') as f:\n",
    "    data = f.read()    \n",
    "    \n",
    "with open('./README.md') as f:\n",
    "    for line_number, l in enumerate(f):\n",
    "        print(l, '*' * 60)\n",
    "        if line_number > 3:\n",
    "            break"
   ]
  },
  {
   "cell_type": "markdown",
   "metadata": {
    "slideshow": {
     "slide_type": "subslide"
    }
   },
   "source": [
    "## Exercises\n",
    "\n",
    "* Are there more a's or more b's in the file outline.md?\n",
    "* What is the index of the longest word? You can use `enumerate` and `str.split`. "
   ]
  },
  {
   "cell_type": "markdown",
   "metadata": {
    "slideshow": {
     "slide_type": "slide"
    }
   },
   "source": [
    "## `stdlib` highlights\n",
    "\n",
    "* We have seen builtin functions, and builtin datatypes, but python also comes with a number of builtin packages for other common functions\n",
    "* https://docs.python.org/3/library/"
   ]
  },
  {
   "cell_type": "code",
   "execution_count": 102,
   "metadata": {
    "collapsed": false,
    "slideshow": {
     "slide_type": "subslide"
    }
   },
   "outputs": [
    {
     "data": {
      "text/plain": [
       "datetime.datetime(2013, 1, 1, 0, 0)"
      ]
     },
     "execution_count": 102,
     "metadata": {},
     "output_type": "execute_result"
    }
   ],
   "source": [
    "## datetime is for working with dates\n",
    "\n",
    "import datetime\n",
    "\n",
    "x = datetime.datetime(2013, 1, 1)\n",
    "x"
   ]
  },
  {
   "cell_type": "code",
   "execution_count": 104,
   "metadata": {
    "collapsed": false,
    "slideshow": {
     "slide_type": "fragment"
    }
   },
   "outputs": [
    {
     "data": {
      "text/plain": [
       "1"
      ]
     },
     "execution_count": 104,
     "metadata": {},
     "output_type": "execute_result"
    }
   ],
   "source": [
    "x.weekday()"
   ]
  },
  {
   "cell_type": "code",
   "execution_count": 105,
   "metadata": {
    "collapsed": false,
    "slideshow": {
     "slide_type": "fragment"
    }
   },
   "outputs": [
    {
     "data": {
      "text/plain": [
       "datetime.datetime(2013, 1, 11, 0, 0)"
      ]
     },
     "execution_count": 105,
     "metadata": {},
     "output_type": "execute_result"
    }
   ],
   "source": [
    "from datetime import timedelta\n",
    "\n",
    "d = timedelta(days=10)\n",
    "\n",
    "x + d"
   ]
  },
  {
   "cell_type": "code",
   "execution_count": 111,
   "metadata": {
    "collapsed": false,
    "slideshow": {
     "slide_type": "subslide"
    }
   },
   "outputs": [
    {
     "name": "stdout",
     "output_type": "stream",
     "text": [
      "Kenteken,Datum eerste toelating\r\n",
      "GH223K,2015-01-06\r\n",
      "WB35ZN,1989-06-28\r\n",
      "WG90XX,1991-01-08\r\n",
      "GH209S,2015-06-13\r\n",
      "87ZRLN,2008-05-26\r\n",
      "61LBX4,2010-03-25\r\n",
      "01SHPB,2006-09-01\r\n",
      "52DHXB,1998-08-31\r\n",
      "18JZFZ,2002-09-10\r\n"
     ]
    }
   ],
   "source": [
    "!head -10 ../data/rdw_dates.txt"
   ]
  },
  {
   "cell_type": "code",
   "execution_count": 129,
   "metadata": {
    "collapsed": false,
    "slideshow": {
     "slide_type": "fragment"
    }
   },
   "outputs": [
    {
     "data": {
      "text/plain": [
       "datetime.datetime(2015, 6, 13, 0, 0)"
      ]
     },
     "execution_count": 129,
     "metadata": {},
     "output_type": "execute_result"
    }
   ],
   "source": [
    "from dateutil import parser\n",
    "\n",
    "parser.parse('13-06-2015')"
   ]
  },
  {
   "cell_type": "markdown",
   "metadata": {
    "slideshow": {
     "slide_type": "subslide"
    }
   },
   "source": [
    "## Exercise\n",
    "\n",
    "* On what weekdays are cars registered?"
   ]
  },
  {
   "cell_type": "code",
   "execution_count": 134,
   "metadata": {
    "collapsed": true,
    "slideshow": {
     "slide_type": "subslide"
    }
   },
   "outputs": [],
   "source": [
    "## solution"
   ]
  },
  {
   "cell_type": "code",
   "execution_count": 132,
   "metadata": {
    "collapsed": false,
    "slideshow": {
     "slide_type": "subslide"
    }
   },
   "outputs": [
    {
     "data": {
      "text/plain": [
       "'abcdefghijklmnopqrstuvwxyz'"
      ]
     },
     "execution_count": 132,
     "metadata": {},
     "output_type": "execute_result"
    }
   ],
   "source": [
    "import string\n",
    "\n",
    "string.ascii_lowercase"
   ]
  },
  {
   "cell_type": "markdown",
   "metadata": {
    "slideshow": {
     "slide_type": "fragment"
    }
   },
   "source": [
    "## Exercise\n",
    "\n",
    "* Which letter is the most common in README.md?"
   ]
  },
  {
   "cell_type": "code",
   "execution_count": null,
   "metadata": {
    "collapsed": true,
    "slideshow": {
     "slide_type": "fragment"
    }
   },
   "outputs": [],
   "source": [
    "## solution"
   ]
  },
  {
   "cell_type": "markdown",
   "metadata": {
    "slideshow": {
     "slide_type": "subslide"
    }
   },
   "source": [
    "## Other useful `stdlib` packages\n",
    "\n",
    "* `json` and `csv` read datafiles\n",
    "* `threading` \n",
    "* `sqlite3` is a builtin file-based database\n",
    "* `difflib` can compare string\n",
    "* `itertools` has functions for permutations and combinations, among other things\n",
    "* `collections` has a couple of very useful functions\n",
    "* `sockets`, `zipfile`, `argparse` .. "
   ]
  },
  {
   "cell_type": "code",
   "execution_count": 194,
   "metadata": {
    "collapsed": false,
    "slideshow": {
     "slide_type": "subslide"
    }
   },
   "outputs": [
    {
     "name": "stdout",
     "output_type": "stream",
     "text": [
      "0 1\n",
      "0 2\n",
      "0 3\n",
      "0 4\n",
      "1 2\n",
      "1 3\n",
      "1 4\n",
      "2 3\n",
      "2 4\n",
      "3 4\n"
     ]
    }
   ],
   "source": [
    "import itertools\n",
    "\n",
    "for a, b in itertools.combinations(range(0, 5), 2):\n",
    "    print(a, b)"
   ]
  },
  {
   "cell_type": "code",
   "execution_count": 196,
   "metadata": {
    "collapsed": false,
    "slideshow": {
     "slide_type": "subslide"
    }
   },
   "outputs": [
    {
     "data": {
      "text/plain": [
       "[(' ', 531),\n",
       " ('e', 531),\n",
       " ('n', 299),\n",
       " ('a', 260),\n",
       " ('t', 233),\n",
       " ('r', 173),\n",
       " ('i', 163),\n",
       " ('o', 156),\n",
       " ('d', 129),\n",
       " ('s', 116)]"
      ]
     },
     "execution_count": 196,
     "metadata": {},
     "output_type": "execute_result"
    }
   ],
   "source": [
    "import collections\n",
    "\n",
    "with open('./README.md') as f:\n",
    "    data = f.read()\n",
    "    \n",
    "counter = collections.Counter(data)\n",
    "counter.most_common(10)"
   ]
  },
  {
   "cell_type": "markdown",
   "metadata": {
    "slideshow": {
     "slide_type": "slide"
    }
   },
   "source": [
    "## Using third-party code\n",
    "\n",
    "* The standard library contains many useful things, but there is much more\n",
    "* The `requests` module is one of the most widely used modules, but it is not part of python\n",
    "    * https://github.com/kennethreitz/requests\n",
    "* You install external packages with `conda` or `pip`\n",
    "* We will be using `pandas` and `numpy`\n",
    "    * http://pandas.pydata.org/\n",
    "    * https://github.com/numpy/numpy\n",
    "* https://pypi.python.org/pypi/yahoo-finance/1.3.2"
   ]
  },
  {
   "cell_type": "code",
   "execution_count": 139,
   "metadata": {
    "collapsed": false,
    "slideshow": {
     "slide_type": "slide"
    }
   },
   "outputs": [
    {
     "name": "stdout",
     "output_type": "stream",
     "text": [
      "Collecting yahoo-finance\n",
      "  Downloading yahoo-finance-1.3.2.tar.gz\n",
      "Requirement already satisfied (use --upgrade to upgrade): pytz in /home/gijs/anaconda3/lib/python3.5/site-packages (from yahoo-finance)\n",
      "Collecting simplejson (from yahoo-finance)\n",
      "  Downloading simplejson-3.10.0.tar.gz (77kB)\n",
      "\u001b[K    100% |████████████████████████████████| 81kB 3.0MB/s \n",
      "\u001b[?25hBuilding wheels for collected packages: yahoo-finance, simplejson\n",
      "  Running setup.py bdist_wheel for yahoo-finance ... \u001b[?25l-\b \b\\\b \bdone\n",
      "\u001b[?25h  Stored in directory: /home/gijs/.cache/pip/wheels/57/c6/1c/7e87ec3a335379b28239be6595e7167e33656957271cd48de4\n",
      "  Running setup.py bdist_wheel for simplejson ... \u001b[?25l-\b \b\\\b \b|\b \bdone\n",
      "\u001b[?25h  Stored in directory: /home/gijs/.cache/pip/wheels/43/c5/ef/edcebbb19becffd2ba75bf219afdbb4ca85198b2d909f1b31b\n",
      "Successfully built yahoo-finance simplejson\n",
      "Installing collected packages: simplejson, yahoo-finance\n",
      "Successfully installed simplejson-3.10.0 yahoo-finance-1.3.2\n"
     ]
    }
   ],
   "source": [
    "!pip install yahoo-finance"
   ]
  },
  {
   "cell_type": "code",
   "execution_count": 145,
   "metadata": {
    "collapsed": false,
    "slideshow": {
     "slide_type": "subslide"
    }
   },
   "outputs": [
    {
     "data": {
      "text/plain": [
       "[{'Adj_Close': '32.52',\n",
       "  'Close': '32.52',\n",
       "  'Date': '2015-10-09',\n",
       "  'High': '32.689999',\n",
       "  'Low': '31.99',\n",
       "  'Open': '32.349998',\n",
       "  'Symbol': 'YHOO',\n",
       "  'Volume': '11830400'},\n",
       " {'Adj_Close': '32.369999',\n",
       "  'Close': '32.369999',\n",
       "  'Date': '2015-10-08',\n",
       "  'High': '32.50',\n",
       "  'Low': '31.73',\n",
       "  'Open': '31.790001',\n",
       "  'Symbol': 'YHOO',\n",
       "  'Volume': '14245400'},\n",
       " {'Adj_Close': '31.870001',\n",
       "  'Close': '31.870001',\n",
       "  'Date': '2015-10-07',\n",
       "  'High': '31.99',\n",
       "  'Low': '31.209999',\n",
       "  'Open': '31.309999',\n",
       "  'Symbol': 'YHOO',\n",
       "  'Volume': '12224800'},\n",
       " {'Adj_Close': '30.959999',\n",
       "  'Close': '30.959999',\n",
       "  'Date': '2015-10-06',\n",
       "  'High': '31.190001',\n",
       "  'Low': '30.66',\n",
       "  'Open': '30.790001',\n",
       "  'Symbol': 'YHOO',\n",
       "  'Volume': '10572800'},\n",
       " {'Adj_Close': '30.85',\n",
       "  'Close': '30.85',\n",
       "  'Date': '2015-10-05',\n",
       "  'High': '31.200001',\n",
       "  'Low': '30.35',\n",
       "  'Open': '30.799999',\n",
       "  'Symbol': 'YHOO',\n",
       "  'Volume': '12883300'},\n",
       " {'Adj_Close': '30.709999',\n",
       "  'Close': '30.709999',\n",
       "  'Date': '2015-10-02',\n",
       "  'High': '30.709999',\n",
       "  'Low': '28.43',\n",
       "  'Open': '28.620001',\n",
       "  'Symbol': 'YHOO',\n",
       "  'Volume': '29250500'},\n",
       " {'Adj_Close': '28.91',\n",
       "  'Close': '28.91',\n",
       "  'Date': '2015-10-01',\n",
       "  'High': '29.00',\n",
       "  'Low': '28.440001',\n",
       "  'Open': '28.950001',\n",
       "  'Symbol': 'YHOO',\n",
       "  'Volume': '14467600'},\n",
       " {'Adj_Close': '28.91',\n",
       "  'Close': '28.91',\n",
       "  'Date': '2015-09-30',\n",
       "  'High': '29.110001',\n",
       "  'Low': '28.49',\n",
       "  'Open': '28.65',\n",
       "  'Symbol': 'YHOO',\n",
       "  'Volume': '18317900'},\n",
       " {'Adj_Close': '28.26',\n",
       "  'Close': '28.26',\n",
       "  'Date': '2015-09-29',\n",
       "  'High': '29.23',\n",
       "  'Low': '27.85',\n",
       "  'Open': '28.58',\n",
       "  'Symbol': 'YHOO',\n",
       "  'Volume': '41895400'},\n",
       " {'Adj_Close': '27.60',\n",
       "  'Close': '27.60',\n",
       "  'Date': '2015-09-28',\n",
       "  'High': '29.219999',\n",
       "  'Low': '27.200001',\n",
       "  'Open': '29.030001',\n",
       "  'Symbol': 'YHOO',\n",
       "  'Volume': '49541300'},\n",
       " {'Adj_Close': '29.129999',\n",
       "  'Close': '29.129999',\n",
       "  'Date': '2015-09-25',\n",
       "  'High': '29.709999',\n",
       "  'Low': '28.91',\n",
       "  'Open': '29.66',\n",
       "  'Symbol': 'YHOO',\n",
       "  'Volume': '12817500'},\n",
       " {'Adj_Close': '29.34',\n",
       "  'Close': '29.34',\n",
       "  'Date': '2015-09-24',\n",
       "  'High': '29.57',\n",
       "  'Low': '28.85',\n",
       "  'Open': '29.469999',\n",
       "  'Symbol': 'YHOO',\n",
       "  'Volume': '19109900'},\n",
       " {'Adj_Close': '29.74',\n",
       "  'Close': '29.74',\n",
       "  'Date': '2015-09-23',\n",
       "  'High': '30.57',\n",
       "  'Low': '29.629999',\n",
       "  'Open': '30.559999',\n",
       "  'Symbol': 'YHOO',\n",
       "  'Volume': '12755400'},\n",
       " {'Adj_Close': '30.40',\n",
       "  'Close': '30.40',\n",
       "  'Date': '2015-09-22',\n",
       "  'High': '30.92',\n",
       "  'Low': '30.17',\n",
       "  'Open': '30.780001',\n",
       "  'Symbol': 'YHOO',\n",
       "  'Volume': '15614900'},\n",
       " {'Adj_Close': '31.17',\n",
       "  'Close': '31.17',\n",
       "  'Date': '2015-09-21',\n",
       "  'High': '31.74',\n",
       "  'Low': '30.879999',\n",
       "  'Open': '31.200001',\n",
       "  'Symbol': 'YHOO',\n",
       "  'Volume': '18745000'},\n",
       " {'Adj_Close': '30.74',\n",
       "  'Close': '30.74',\n",
       "  'Date': '2015-09-18',\n",
       "  'High': '30.799999',\n",
       "  'Low': '30.41',\n",
       "  'Open': '30.51',\n",
       "  'Symbol': 'YHOO',\n",
       "  'Volume': '20538300'},\n",
       " {'Adj_Close': '30.93',\n",
       "  'Close': '30.93',\n",
       "  'Date': '2015-09-17',\n",
       "  'High': '31.33',\n",
       "  'Low': '30.809999',\n",
       "  'Open': '31.309999',\n",
       "  'Symbol': 'YHOO',\n",
       "  'Volume': '17094200'},\n",
       " {'Adj_Close': '31.40',\n",
       "  'Close': '31.40',\n",
       "  'Date': '2015-09-16',\n",
       "  'High': '31.77',\n",
       "  'Low': '30.99',\n",
       "  'Open': '31.139999',\n",
       "  'Symbol': 'YHOO',\n",
       "  'Volume': '22179700'},\n",
       " {'Adj_Close': '31.040001',\n",
       "  'Close': '31.040001',\n",
       "  'Date': '2015-09-15',\n",
       "  'High': '31.23',\n",
       "  'Low': '29.41',\n",
       "  'Open': '29.719999',\n",
       "  'Symbol': 'YHOO',\n",
       "  'Volume': '25661600'},\n",
       " {'Adj_Close': '30.32',\n",
       "  'Close': '30.32',\n",
       "  'Date': '2015-09-14',\n",
       "  'High': '30.92',\n",
       "  'Low': '30.00',\n",
       "  'Open': '30.68',\n",
       "  'Symbol': 'YHOO',\n",
       "  'Volume': '22186900'},\n",
       " {'Adj_Close': '31.43',\n",
       "  'Close': '31.43',\n",
       "  'Date': '2015-09-11',\n",
       "  'High': '31.43',\n",
       "  'Low': '30.629999',\n",
       "  'Open': '31.09',\n",
       "  'Symbol': 'YHOO',\n",
       "  'Volume': '14365400'}]"
      ]
     },
     "execution_count": 145,
     "metadata": {},
     "output_type": "execute_result"
    }
   ],
   "source": [
    "from yahoo_finance import Share\n",
    "\n",
    "yahoo = Share('YHOO')\n",
    "yahoo.get_historical('2015-09-11', '2015-10-10')"
   ]
  },
  {
   "cell_type": "code",
   "execution_count": 174,
   "metadata": {
    "collapsed": false,
    "slideshow": {
     "slide_type": "subslide"
    }
   },
   "outputs": [
    {
     "name": "stdout",
     "output_type": "stream",
     "text": [
      "Populating the interactive namespace from numpy and matplotlib\n"
     ]
    },
    {
     "data": {
      "text/plain": [
       "pandas.core.frame.DataFrame"
      ]
     },
     "execution_count": 174,
     "metadata": {},
     "output_type": "execute_result"
    }
   ],
   "source": [
    "import pandas as pd\n",
    "%pylab inline\n",
    "\n",
    "df = pd.read_csv('../data/Open_Data_RDW__Gekentekende_voertuigen.csv')\n",
    "\n",
    "type(df)"
   ]
  },
  {
   "cell_type": "code",
   "execution_count": 175,
   "metadata": {
    "collapsed": false,
    "slideshow": {
     "slide_type": "subslide"
    }
   },
   "outputs": [
    {
     "data": {
      "text/html": [
       "<div>\n",
       "<table border=\"1\" class=\"dataframe\">\n",
       "  <thead>\n",
       "    <tr style=\"text-align: right;\">\n",
       "      <th></th>\n",
       "      <th>Kenteken</th>\n",
       "      <th>Voertuigsoort</th>\n",
       "      <th>Merk</th>\n",
       "      <th>Handelsbenaming</th>\n",
       "      <th>Vervaldatum APK</th>\n",
       "      <th>Datum tenaamstelling</th>\n",
       "      <th>Bruto BPM</th>\n",
       "      <th>Inrichting</th>\n",
       "      <th>Aantal zitplaatsen</th>\n",
       "      <th>Eerste kleur</th>\n",
       "      <th>...</th>\n",
       "      <th>Vermogen massarijklaar</th>\n",
       "      <th>Wielbasis</th>\n",
       "      <th>Export indicator</th>\n",
       "      <th>Openstaande terugroepactie indicator</th>\n",
       "      <th>Vervaldatum tachograaf</th>\n",
       "      <th>API Gekentekende_voertuigen_assen</th>\n",
       "      <th>API Gekentekende_voertuigen_brandstof</th>\n",
       "      <th>API Gekentekende_voertuigen_carrosserie</th>\n",
       "      <th>API Gekentekende_voertuigen_carrosserie_specifiek</th>\n",
       "      <th>API Gekentekende_voertuigen_voertuigklasse</th>\n",
       "    </tr>\n",
       "  </thead>\n",
       "  <tbody>\n",
       "    <tr>\n",
       "      <th>0</th>\n",
       "      <td>GH223K</td>\n",
       "      <td>Personenauto</td>\n",
       "      <td>KIA</td>\n",
       "      <td>CEE D</td>\n",
       "      <td>01/06/2019</td>\n",
       "      <td>03/06/2016</td>\n",
       "      <td>5287.0</td>\n",
       "      <td>stationwagen</td>\n",
       "      <td>5.0</td>\n",
       "      <td>ZWART</td>\n",
       "      <td>...</td>\n",
       "      <td>0.08</td>\n",
       "      <td>265.0</td>\n",
       "      <td>Nee</td>\n",
       "      <td>Nee</td>\n",
       "      <td>NaN</td>\n",
       "      <td>https://opendata.rdw.nl/resource/3huj-srit.json</td>\n",
       "      <td>https://opendata.rdw.nl/resource/8ys7-d773.json</td>\n",
       "      <td>https://opendata.rdw.nl/resource/vezc-m2t6.json</td>\n",
       "      <td>https://opendata.rdw.nl/resource/jhie-znh9.json</td>\n",
       "      <td>https://opendata.rdw.nl/resource/kmfi-hrps.json</td>\n",
       "    </tr>\n",
       "    <tr>\n",
       "      <th>1</th>\n",
       "      <td>WB35ZN</td>\n",
       "      <td>Aanhangwagen</td>\n",
       "      <td>HOBBY</td>\n",
       "      <td>420</td>\n",
       "      <td>NaN</td>\n",
       "      <td>04/01/2006</td>\n",
       "      <td>NaN</td>\n",
       "      <td>caravan</td>\n",
       "      <td>NaN</td>\n",
       "      <td>N.v.t.</td>\n",
       "      <td>...</td>\n",
       "      <td>NaN</td>\n",
       "      <td>NaN</td>\n",
       "      <td>Nee</td>\n",
       "      <td>Nee</td>\n",
       "      <td>NaN</td>\n",
       "      <td>https://opendata.rdw.nl/resource/3huj-srit.json</td>\n",
       "      <td>https://opendata.rdw.nl/resource/8ys7-d773.json</td>\n",
       "      <td>https://opendata.rdw.nl/resource/vezc-m2t6.json</td>\n",
       "      <td>https://opendata.rdw.nl/resource/jhie-znh9.json</td>\n",
       "      <td>https://opendata.rdw.nl/resource/kmfi-hrps.json</td>\n",
       "    </tr>\n",
       "    <tr>\n",
       "      <th>2</th>\n",
       "      <td>WG90XX</td>\n",
       "      <td>Aanhangwagen</td>\n",
       "      <td>HOBBY</td>\n",
       "      <td>10 F</td>\n",
       "      <td>NaN</td>\n",
       "      <td>30/10/2002</td>\n",
       "      <td>NaN</td>\n",
       "      <td>caravan</td>\n",
       "      <td>NaN</td>\n",
       "      <td>N.v.t.</td>\n",
       "      <td>...</td>\n",
       "      <td>NaN</td>\n",
       "      <td>NaN</td>\n",
       "      <td>Nee</td>\n",
       "      <td>Nee</td>\n",
       "      <td>NaN</td>\n",
       "      <td>https://opendata.rdw.nl/resource/3huj-srit.json</td>\n",
       "      <td>https://opendata.rdw.nl/resource/8ys7-d773.json</td>\n",
       "      <td>https://opendata.rdw.nl/resource/vezc-m2t6.json</td>\n",
       "      <td>https://opendata.rdw.nl/resource/jhie-znh9.json</td>\n",
       "      <td>https://opendata.rdw.nl/resource/kmfi-hrps.json</td>\n",
       "    </tr>\n",
       "  </tbody>\n",
       "</table>\n",
       "<p>3 rows × 60 columns</p>\n",
       "</div>"
      ],
      "text/plain": [
       "  Kenteken Voertuigsoort   Merk Handelsbenaming Vervaldatum APK  \\\n",
       "0   GH223K  Personenauto    KIA           CEE D      01/06/2019   \n",
       "1   WB35ZN  Aanhangwagen  HOBBY             420             NaN   \n",
       "2   WG90XX  Aanhangwagen  HOBBY            10 F             NaN   \n",
       "\n",
       "  Datum tenaamstelling  Bruto BPM    Inrichting  Aantal zitplaatsen  \\\n",
       "0           03/06/2016     5287.0  stationwagen                 5.0   \n",
       "1           04/01/2006        NaN       caravan                 NaN   \n",
       "2           30/10/2002        NaN       caravan                 NaN   \n",
       "\n",
       "  Eerste kleur                       ...                         \\\n",
       "0        ZWART                       ...                          \n",
       "1       N.v.t.                       ...                          \n",
       "2       N.v.t.                       ...                          \n",
       "\n",
       "  Vermogen massarijklaar  Wielbasis  Export indicator  \\\n",
       "0                   0.08      265.0               Nee   \n",
       "1                    NaN        NaN               Nee   \n",
       "2                    NaN        NaN               Nee   \n",
       "\n",
       "   Openstaande terugroepactie indicator  Vervaldatum tachograaf  \\\n",
       "0                                   Nee                     NaN   \n",
       "1                                   Nee                     NaN   \n",
       "2                                   Nee                     NaN   \n",
       "\n",
       "                 API Gekentekende_voertuigen_assen  \\\n",
       "0  https://opendata.rdw.nl/resource/3huj-srit.json   \n",
       "1  https://opendata.rdw.nl/resource/3huj-srit.json   \n",
       "2  https://opendata.rdw.nl/resource/3huj-srit.json   \n",
       "\n",
       "             API Gekentekende_voertuigen_brandstof  \\\n",
       "0  https://opendata.rdw.nl/resource/8ys7-d773.json   \n",
       "1  https://opendata.rdw.nl/resource/8ys7-d773.json   \n",
       "2  https://opendata.rdw.nl/resource/8ys7-d773.json   \n",
       "\n",
       "           API Gekentekende_voertuigen_carrosserie  \\\n",
       "0  https://opendata.rdw.nl/resource/vezc-m2t6.json   \n",
       "1  https://opendata.rdw.nl/resource/vezc-m2t6.json   \n",
       "2  https://opendata.rdw.nl/resource/vezc-m2t6.json   \n",
       "\n",
       "  API Gekentekende_voertuigen_carrosserie_specifiek  \\\n",
       "0   https://opendata.rdw.nl/resource/jhie-znh9.json   \n",
       "1   https://opendata.rdw.nl/resource/jhie-znh9.json   \n",
       "2   https://opendata.rdw.nl/resource/jhie-znh9.json   \n",
       "\n",
       "        API Gekentekende_voertuigen_voertuigklasse  \n",
       "0  https://opendata.rdw.nl/resource/kmfi-hrps.json  \n",
       "1  https://opendata.rdw.nl/resource/kmfi-hrps.json  \n",
       "2  https://opendata.rdw.nl/resource/kmfi-hrps.json  \n",
       "\n",
       "[3 rows x 60 columns]"
      ]
     },
     "execution_count": 175,
     "metadata": {},
     "output_type": "execute_result"
    }
   ],
   "source": [
    "df.head(3)"
   ]
  },
  {
   "cell_type": "code",
   "execution_count": 176,
   "metadata": {
    "collapsed": false,
    "slideshow": {
     "slide_type": "subslide"
    }
   },
   "outputs": [
    {
     "data": {
      "image/png": "[encoded data removed]",
      "text/plain": [
       "<matplotlib.figure.Figure at 0x7f8716adbe80>"
      ]
     },
     "metadata": {},
     "output_type": "display_data"
    }
   ],
   "source": [
    "df[\"Eerste kleur\"].value_counts().plot(kind='bar');"
   ]
  },
  {
   "cell_type": "markdown",
   "metadata": {
    "slideshow": {
     "slide_type": "slide"
    }
   },
   "source": [
    "## Break\n",
    "\n",
    "* If there's time, we'll continue with slides number 3"
   ]
  }
 ],
 "metadata": {
  "anaconda-cloud": {},
  "celltoolbar": "Slideshow",
  "kernelspec": {
   "display_name": "Python [conda root]",
   "language": "python",
   "name": "conda-root-py"
  },
  "language_info": {
   "codemirror_mode": {
    "name": "ipython",
    "version": 3
   },
   "file_extension": ".py",
   "mimetype": "text/x-python",
   "name": "python",
   "nbconvert_exporter": "python",
   "pygments_lexer": "ipython3",
   "version": "3.5.2"
  }
 },
 "nbformat": 4,
 "nbformat_minor": 0
}
