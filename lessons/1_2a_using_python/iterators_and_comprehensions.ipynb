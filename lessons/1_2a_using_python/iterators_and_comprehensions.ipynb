{
 "cells": [
  {
   "cell_type": "markdown",
   "metadata": {
    "slideshow": {
     "slide_type": "slide"
    }
   },
   "source": [
    "## Iterators, generators and comprehensions\n",
    "\n",
    "* These are used for loops, filtering and mapping of data\n",
    "* Common and very _pythonic_, but tricky\n",
    "\n",
    "* An **Iterator** is anything that can be looped over\n",
    "* `list` and `set` for example, or `dict` and `dict.items()`.\n",
    "* **Generators** are _lazy_ iterators; the next item is only produced when requested\n",
    "    * You can create your own generators with the `yield` keyword\n",
    "    * But for now, we just want to deal with generators created by others"
   ]
  },
  {
   "cell_type": "code",
   "execution_count": null,
   "metadata": {
    "collapsed": false,
    "slideshow": {
     "slide_type": "subslide"
    }
   },
   "outputs": [],
   "source": [
    "## dicts and lists are iterators\n",
    "\n",
    "x = dict(a='A', b='B')\n",
    "\n",
    "for key in x:\n",
    "    print(key)"
   ]
  },
  {
   "cell_type": "code",
   "execution_count": null,
   "metadata": {
    "collapsed": false,
    "slideshow": {
     "slide_type": "fragment"
    }
   },
   "outputs": [],
   "source": [
    "for key, value in x.items():\n",
    "    print(key, value)"
   ]
  },
  {
   "cell_type": "code",
   "execution_count": null,
   "metadata": {
    "collapsed": false,
    "slideshow": {
     "slide_type": "subslide"
    }
   },
   "outputs": [],
   "source": [
    "for i in [0, 1, 2, 3, 4, 5, 6]:\n",
    "    print(i)"
   ]
  },
  {
   "cell_type": "code",
   "execution_count": null,
   "metadata": {
    "collapsed": false,
    "slideshow": {
     "slide_type": "subslide"
    }
   },
   "outputs": [],
   "source": [
    "## WARNING don't change the list when you're looping over it\n",
    "\n",
    "l = [1, 2, 3]\n",
    "\n",
    "for item in l:\n",
    "    \n",
    "    l = [1, 2, 3, 4]\n",
    "    \n",
    "    ## l.append(item)\n",
    "    print(item)"
   ]
  },
  {
   "cell_type": "code",
   "execution_count": null,
   "metadata": {
    "collapsed": false,
    "slideshow": {
     "slide_type": "subslide"
    }
   },
   "outputs": [],
   "source": [
    "## Generators are \"lazy\" iterators; the next item is only produced when\n",
    "## requested\n",
    "\n",
    "for i in range(5):\n",
    "    print(i)"
   ]
  },
  {
   "cell_type": "code",
   "execution_count": null,
   "metadata": {
    "collapsed": false,
    "slideshow": {
     "slide_type": "fragment"
    }
   },
   "outputs": [],
   "source": [
    "range(5)"
   ]
  },
  {
   "cell_type": "code",
   "execution_count": null,
   "metadata": {
    "collapsed": false,
    "slideshow": {
     "slide_type": "fragment"
    }
   },
   "outputs": [],
   "source": [
    "range(500).__sizeof__()"
   ]
  },
  {
   "cell_type": "code",
   "execution_count": null,
   "metadata": {
    "collapsed": false,
    "slideshow": {
     "slide_type": "fragment"
    }
   },
   "outputs": [],
   "source": [
    "## you can make the list concrete by passing it to `list`\n",
    "\n",
    "list(range(500)).__sizeof__()"
   ]
  },
  {
   "cell_type": "code",
   "execution_count": null,
   "metadata": {
    "collapsed": false,
    "slideshow": {
     "slide_type": "subslide"
    }
   },
   "outputs": [],
   "source": [
    "d = {3: 4, 5: 6}\n",
    "\n",
    "d.keys()"
   ]
  },
  {
   "cell_type": "code",
   "execution_count": null,
   "metadata": {
    "collapsed": false,
    "slideshow": {
     "slide_type": "fragment"
    }
   },
   "outputs": [],
   "source": [
    "d.values()"
   ]
  },
  {
   "cell_type": "code",
   "execution_count": null,
   "metadata": {
    "collapsed": false,
    "slideshow": {
     "slide_type": "fragment"
    }
   },
   "outputs": [],
   "source": [
    "import os\n",
    "\n",
    "os.walk('.')"
   ]
  },
  {
   "cell_type": "code",
   "execution_count": null,
   "metadata": {
    "collapsed": false,
    "slideshow": {
     "slide_type": "subslide"
    }
   },
   "outputs": [],
   "source": [
    "for root, dirs, files in os.walk(\".\"):\n",
    "    print('ROOT: ## ', root, end='\\n\\n')\n",
    "    for name in files:\n",
    "        print(name)\n",
    "    print()"
   ]
  },
  {
   "cell_type": "markdown",
   "metadata": {
    "slideshow": {
     "slide_type": "subslide"
    }
   },
   "source": [
    "**Exercise** \n",
    "\n",
    "* Using a `for` loop and the range function, create a list of all squares of even numbers less than 1000\n",
    "* Create a list of all filenames on your desktop folder, including the files in subfolders\n",
    "    * How many of them end in '.docx'?\n",
    "    * Count all the letters in these filenames and list the five most common. Use `from collections import Counter`"
   ]
  },
  {
   "cell_type": "code",
   "execution_count": null,
   "metadata": {
    "collapsed": true,
    "slideshow": {
     "slide_type": "fragment"
    }
   },
   "outputs": [],
   "source": [
    "## solution\n",
    "\n",
    "l_squares = list()\n",
    "\n",
    "for i in range(0, 100):\n",
    "    \n",
    "    ## add the square to the list if i is even and it's less than 1000\n",
    "    pass"
   ]
  },
  {
   "cell_type": "markdown",
   "metadata": {
    "slideshow": {
     "slide_type": "subslide"
    }
   },
   "source": [
    "## Why use generators\n",
    "\n",
    "* Saves memory\n",
    "* Sometimes you don't know beforehand how many iterations you need\n",
    "* Can make many program parts run simultaneously\n",
    "    * For example, in a user interface"
   ]
  },
  {
   "cell_type": "markdown",
   "metadata": {
    "slideshow": {
     "slide_type": "subslide"
    }
   },
   "source": [
    "## Comprehensions\n",
    "\n",
    "* Comprehensions are quick ways to filter or compose `list`, `set` and `dict`"
   ]
  },
  {
   "cell_type": "code",
   "execution_count": null,
   "metadata": {
    "collapsed": false,
    "slideshow": {
     "slide_type": "fragment"
    }
   },
   "outputs": [],
   "source": [
    "## list comprehension uses square brackets\n",
    "\n",
    "[x for x in [1, 2, 3]]"
   ]
  },
  {
   "cell_type": "code",
   "execution_count": null,
   "metadata": {
    "collapsed": false,
    "slideshow": {
     "slide_type": "fragment"
    }
   },
   "outputs": [],
   "source": [
    "def square(x):\n",
    "    return x ** 2\n",
    "\n",
    "[square(i) for i in range(0, 10)]"
   ]
  },
  {
   "cell_type": "code",
   "execution_count": null,
   "metadata": {
    "collapsed": false,
    "slideshow": {
     "slide_type": "slide"
    }
   },
   "outputs": [],
   "source": [
    "import string\n",
    "\n",
    "alphabet = string.ascii_lowercase\n",
    "alphabet"
   ]
  },
  {
   "cell_type": "code",
   "execution_count": null,
   "metadata": {
    "collapsed": false,
    "slideshow": {
     "slide_type": "fragment"
    }
   },
   "outputs": [],
   "source": [
    "## The `join` function is useful for composing strings\n",
    "\n",
    "\"\".join(['a', 'b', 'c'])"
   ]
  },
  {
   "cell_type": "markdown",
   "metadata": {
    "slideshow": {
     "slide_type": "subslide"
    }
   },
   "source": [
    "**Exercise**\n",
    "\n",
    "* Using a list comprehension, create a new alphabet of uppercase letters\n",
    "* Create a new list of uppercase letters with only letters that appear in the word 'conjunction'\n",
    "* Create a word by filtering the alphabet for letters that do not appear in the word 'conjunction' and joining them together with underscores.\n",
    "    * The first part should be 'a_b_d'"
   ]
  },
  {
   "cell_type": "code",
   "execution_count": null,
   "metadata": {
    "collapsed": true,
    "slideshow": {
     "slide_type": "fragment"
    }
   },
   "outputs": [],
   "source": [
    "## solutions\n",
    "\n"
   ]
  },
  {
   "cell_type": "code",
   "execution_count": null,
   "metadata": {
    "collapsed": false,
    "slideshow": {
     "slide_type": "subslide"
    }
   },
   "outputs": [],
   "source": [
    "## dict comprehension\n",
    "\n",
    "d = {\n",
    "    i: i ** 2 for i in range(5)\n",
    "}\n",
    "\n",
    "d"
   ]
  },
  {
   "cell_type": "code",
   "execution_count": null,
   "metadata": {
    "collapsed": false,
    "slideshow": {
     "slide_type": "fragment"
    }
   },
   "outputs": [],
   "source": [
    "## switch values and keys\n",
    "\n",
    "{\n",
    "    value: key for key, value in d.items()\n",
    "}"
   ]
  },
  {
   "cell_type": "code",
   "execution_count": null,
   "metadata": {
    "collapsed": false,
    "slideshow": {
     "slide_type": "subslide"
    }
   },
   "outputs": [],
   "source": [
    "## sorting a dict\n",
    "\n",
    "scores = {\n",
    "    \"alfred\": 4.7,\n",
    "    \"Charlie\": 7.8,\n",
    "    \"gijs\": 5.6,\n",
    "    \"Bettie\": 3.8,\n",
    "    \"frederik\": 6.7\n",
    "}\n",
    "\n",
    "scores_list = [(key, value) for key, value in scores.items()]\n",
    "\n",
    "scores_list"
   ]
  },
  {
   "cell_type": "code",
   "execution_count": null,
   "metadata": {
    "collapsed": false,
    "slideshow": {
     "slide_type": "subslide"
    }
   },
   "outputs": [],
   "source": [
    "## if you want the names, sorted by score, you first have to sort this list of tuples\n",
    "## then you can extract the names\n",
    "\n",
    "def score(pair):\n",
    "    return pair[1]\n",
    "\n",
    "sorted(scores_list, key=score)"
   ]
  },
  {
   "cell_type": "markdown",
   "metadata": {
    "slideshow": {
     "slide_type": "subslide"
    }
   },
   "source": [
    "## Exercise\n",
    "\n",
    "* Create a list of scores, sorted by the name\n",
    "* Get a list of the squares of all even numbers less than 1000\n",
    "* Make a dictionary with as keys the lowercase letters and values uppercases, repeated 10 times\n",
    "\n",
    "```\n",
    "answer = {\n",
    "    'a': 'AAAAAAAAAA',\n",
    "    'b': ..\n",
    "}\n",
    "```"
   ]
  },
  {
   "cell_type": "code",
   "execution_count": null,
   "metadata": {
    "collapsed": false,
    "slideshow": {
     "slide_type": "fragment"
    }
   },
   "outputs": [],
   "source": [
    "## solutions\n",
    "\n"
   ]
  }
 ],
 "metadata": {
  "anaconda-cloud": {},
  "celltoolbar": "Slideshow",
  "kernelspec": {
   "display_name": "Python [conda root]",
   "language": "python",
   "name": "conda-root-py"
  },
  "language_info": {
   "codemirror_mode": {
    "name": "ipython",
    "version": 3
   },
   "file_extension": ".py",
   "mimetype": "text/x-python",
   "name": "python",
   "nbconvert_exporter": "python",
   "pygments_lexer": "ipython3",
   "version": "3.5.2"
  }
 },
 "nbformat": 4,
 "nbformat_minor": 0
}
