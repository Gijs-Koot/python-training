{
 "cells": [
  {
   "cell_type": "markdown",
   "metadata": {
    "slideshow": {
     "slide_type": "slide"
    }
   },
   "source": [
    "## The standard library\n",
    "\n",
    "* Python comes 'batteries included', the standard library (stdlib) has many functions, datatypes and packages\n",
    "* **Builtin functions** are a number of functions (and types) that are always available\n",
    "* https://docs.python.org/3/library/functions.html"
   ]
  },
  {
   "cell_type": "code",
   "execution_count": null,
   "metadata": {
    "collapsed": false,
    "slideshow": {
     "slide_type": "fragment"
    }
   },
   "outputs": [],
   "source": [
    "help(int)"
   ]
  },
  {
   "cell_type": "code",
   "execution_count": 1,
   "metadata": {
    "collapsed": false,
    "slideshow": {
     "slide_type": "subslide"
    }
   },
   "outputs": [
    {
     "name": "stdout",
     "output_type": "stream",
     "text": [
      "banana\n"
     ]
    }
   ],
   "source": [
    "## example using enumerate: print the third item in a list\n",
    "\n",
    "items = ['apple', 'pear', 'banana', 'kiwi', 'peach', 'pineapple', 'orange']\n",
    "index = 3\n",
    "\n",
    "count = 0\n",
    "for item in items:\n",
    "    count = count + 1\n",
    "    if count == index:\n",
    "        print(item)"
   ]
  },
  {
   "cell_type": "code",
   "execution_count": 9,
   "metadata": {
    "collapsed": false,
    "slideshow": {
     "slide_type": "fragment"
    }
   },
   "outputs": [
    {
     "name": "stdout",
     "output_type": "stream",
     "text": [
      "kiwi\n"
     ]
    }
   ],
   "source": [
    "for n, item in enumerate(items):\n",
    "    if n == 3:\n",
    "        print(item)"
   ]
  },
  {
   "cell_type": "markdown",
   "metadata": {
    "slideshow": {
     "slide_type": "subslide"
    }
   },
   "source": [
    "## Lambda functions\n",
    "\n",
    "* With the `lambda` keyword you can quickly create a simple function\n",
    "* Very useful in combination with `sorted` or `map` for example"
   ]
  },
  {
   "cell_type": "code",
   "execution_count": 10,
   "metadata": {
    "collapsed": false,
    "slideshow": {
     "slide_type": "fragment"
    }
   },
   "outputs": [
    {
     "data": {
      "text/plain": [
       "9"
      ]
     },
     "execution_count": 10,
     "metadata": {},
     "output_type": "execute_result"
    }
   ],
   "source": [
    "def add_long(x, y):\n",
    "    return x + y\n",
    "\n",
    "add = lambda x, y: x + y\n",
    "\n",
    "add(4, 5)"
   ]
  },
  {
   "cell_type": "code",
   "execution_count": 13,
   "metadata": {
    "collapsed": false,
    "slideshow": {
     "slide_type": "subslide"
    }
   },
   "outputs": [
    {
     "data": {
      "text/plain": [
       "['apple', 'banana', 'kiwi', 'orange', 'peach', 'pear', 'pineapple']"
      ]
     },
     "execution_count": 13,
     "metadata": {},
     "output_type": "execute_result"
    }
   ],
   "source": [
    "sorted(items)"
   ]
  },
  {
   "cell_type": "code",
   "execution_count": 19,
   "metadata": {
    "collapsed": false,
    "slideshow": {
     "slide_type": "subslide"
    }
   },
   "outputs": [
    {
     "data": {
      "text/plain": [
       "<map at 0x7f36783c4a20>"
      ]
     },
     "execution_count": 19,
     "metadata": {},
     "output_type": "execute_result"
    }
   ],
   "source": [
    "def uppercase(word):\n",
    "    return word.upper()\n",
    "\n",
    "map(uppercase, items)"
   ]
  },
  {
   "cell_type": "code",
   "execution_count": 22,
   "metadata": {
    "collapsed": false,
    "slideshow": {
     "slide_type": "fragment"
    }
   },
   "outputs": [
    {
     "data": {
      "text/plain": [
       "<map at 0x7f36783bcbe0>"
      ]
     },
     "execution_count": 22,
     "metadata": {},
     "output_type": "execute_result"
    }
   ],
   "source": [
    "map(lambda x: x.capitalize(), items)"
   ]
  },
  {
   "cell_type": "code",
   "execution_count": 87,
   "metadata": {
    "collapsed": false,
    "slideshow": {
     "slide_type": "subslide"
    }
   },
   "outputs": [
    {
     "name": "stdout",
     "output_type": "stream",
     "text": [
      "apple 3\n",
      "pear 2\n",
      "banana 6\n",
      "kiwi 8\n"
     ]
    }
   ],
   "source": [
    "## zip `zips` two lists together\n",
    "\n",
    "items = ['apple', 'pear', 'banana', 'kiwi']\n",
    "ratings = [3, 2, 6, 8]\n",
    "\n",
    "for index in range(len(items)):\n",
    "    print(items[index], ratings[index])"
   ]
  },
  {
   "cell_type": "code",
   "execution_count": 88,
   "metadata": {
    "collapsed": true,
    "slideshow": {
     "slide_type": "subslide"
    }
   },
   "outputs": [],
   "source": [
    "# using zip\n",
    "\n"
   ]
  },
  {
   "cell_type": "markdown",
   "metadata": {
    "slideshow": {
     "slide_type": "subslide"
    }
   },
   "source": [
    "## Exercises"
   ]
  },
  {
   "cell_type": "code",
   "execution_count": 29,
   "metadata": {
    "collapsed": true,
    "slideshow": {
     "slide_type": "subslide"
    }
   },
   "outputs": [],
   "source": [
    "# write a lambda function that returns the first and last letter of a word"
   ]
  },
  {
   "cell_type": "code",
   "execution_count": 30,
   "metadata": {
    "collapsed": true,
    "slideshow": {
     "slide_type": "subslide"
    }
   },
   "outputs": [],
   "source": [
    "# use the map function to create a list of first and last letters of the fruit list"
   ]
  },
  {
   "cell_type": "code",
   "execution_count": 31,
   "metadata": {
    "collapsed": true,
    "slideshow": {
     "slide_type": "subslide"
    }
   },
   "outputs": [],
   "source": [
    "# Do the same, but now using an iterator"
   ]
  },
  {
   "cell_type": "code",
   "execution_count": 32,
   "metadata": {
    "collapsed": true,
    "slideshow": {
     "slide_type": "subslide"
    }
   },
   "outputs": [],
   "source": [
    "# Sort the fruit list by length of the word"
   ]
  },
  {
   "cell_type": "code",
   "execution_count": 33,
   "metadata": {
    "collapsed": false,
    "scrolled": true,
    "slideshow": {
     "slide_type": "subslide"
    }
   },
   "outputs": [],
   "source": [
    "# Create a dictionary of the items and the ratings using a `zip` and a dictionary comprehension\n",
    "# answer = {\n",
    "#    \"apple\": 3,\n",
    "#    \"pear\": 2,\n",
    "#    ...\n",
    "# }\n",
    "\n"
   ]
  },
  {
   "cell_type": "markdown",
   "metadata": {
    "slideshow": {
     "slide_type": "slide"
    }
   },
   "source": [
    "## Reading files\n",
    "\n",
    "* Uses the `open` function\n",
    "* Be careful with files, they should always be closed as well"
   ]
  },
  {
   "cell_type": "code",
   "execution_count": 35,
   "metadata": {
    "collapsed": false,
    "slideshow": {
     "slide_type": "fragment"
    }
   },
   "outputs": [
    {
     "name": "stdout",
     "output_type": "stream",
     "text": [
      "Python training\n",
      "\n",
      "## Doelgroep\n",
      "\n",
      "Business consultants met een bèta achtergrond en ervaring met het werken met Excel. Als voorbereiding op de training gaan we uit van een basis, die bijvoorbeeld opgedaan kan worden door het volgen van een instapcursus op Code Academy, of het lezen van de eerste vijf ho\n"
     ]
    }
   ],
   "source": [
    "file = open('../README.md')\n",
    "data = file.read()    \n",
    "\n",
    "print(data[:300])"
   ]
  },
  {
   "cell_type": "code",
   "execution_count": 40,
   "metadata": {
    "collapsed": false,
    "slideshow": {
     "slide_type": "subslide"
    }
   },
   "outputs": [
    {
     "name": "stdout",
     "output_type": "stream",
     "text": [
      "Line number  0 :\n",
      "Python training\n",
      " ************************************************************ \n",
      "\n",
      "Line number  1 :\n",
      "\n",
      " ************************************************************ \n",
      "\n",
      "Line number  2 :\n",
      "## Doelgroep\n",
      " ************************************************************ \n",
      "\n",
      "Line number  3 :\n",
      "\n",
      " ************************************************************ \n",
      "\n",
      "Line number  4 :\n",
      "Business consultants met een bèta achtergrond en ervaring met het werken met Excel. Als voorbereiding op de training gaan we uit van een basis, die bijvoorbeeld opgedaan kan worden door het volgen van een instapcursus op Code Academy, of het lezen van de eerste vijf hoofdstukken van de officiële Python Tutorial. De training wordt gevolgd met een eigen laptop, en cursisten wordt aangeraden Anaconda te gebruiken om een volledig toegeruste Python installatie te verkrijgen.\n",
      " ************************************************************ \n",
      "\n"
     ]
    }
   ],
   "source": [
    "## use **with** to automatically close the file\n",
    "## if you use a file as an iterator, you get lines\n",
    "\n",
    "with open('../README.md') as f:\n",
    "    data = f.read()    \n",
    "    \n",
    "with open('../README.md') as f:\n",
    "    for line_number, l in enumerate(f):\n",
    "        print('Line number ', line_number, \":\")\n",
    "        print(l, '*' * 60, '\\n')\n",
    "        if line_number > 3:\n",
    "            break"
   ]
  },
  {
   "cell_type": "markdown",
   "metadata": {
    "slideshow": {
     "slide_type": "subslide"
    }
   },
   "source": [
    "## Exercises\n",
    "\n",
    "* Are there more a's or more b's in the file README.md?\n",
    "* What is the index of the line with the most words? You can use `enumerate` and `str.split`. "
   ]
  },
  {
   "cell_type": "code",
   "execution_count": 42,
   "metadata": {
    "collapsed": true,
    "slideshow": {
     "slide_type": "subslide"
    }
   },
   "outputs": [],
   "source": [
    "## are there more a's or more b's in the file README.md?"
   ]
  },
  {
   "cell_type": "code",
   "execution_count": 44,
   "metadata": {
    "collapsed": false,
    "slideshow": {
     "slide_type": "subslide"
    }
   },
   "outputs": [
    {
     "data": {
      "text/plain": [
       "['word', 'word', 'word']"
      ]
     },
     "execution_count": 44,
     "metadata": {},
     "output_type": "execute_result"
    }
   ],
   "source": [
    "## what is the index of the line with the most words? You can use enumerate and str.split\n",
    "\n",
    "\"word word word\".split()"
   ]
  },
  {
   "cell_type": "markdown",
   "metadata": {
    "slideshow": {
     "slide_type": "slide"
    }
   },
   "source": [
    "## `stdlib` highlights\n",
    "\n",
    "* We have seen builtin functions, and builtin datatypes, but python also comes with a number of builtin packages for other common functions\n",
    "* You can access a package, but first you have to `import` it\n",
    "* https://docs.python.org/3/library/"
   ]
  },
  {
   "cell_type": "code",
   "execution_count": 3,
   "metadata": {
    "collapsed": false,
    "slideshow": {
     "slide_type": "subslide"
    }
   },
   "outputs": [
    {
     "data": {
      "text/plain": [
       "datetime.datetime(2013, 1, 1, 0, 0)"
      ]
     },
     "execution_count": 3,
     "metadata": {},
     "output_type": "execute_result"
    }
   ],
   "source": [
    "## datetime is for working with dates\n",
    "\n",
    "import datetime\n",
    "\n",
    "x = datetime.datetime(2013, 1, 1)\n",
    "\n",
    "# x.strftime(\"%a, %d %b %Y %H:%M:%S +0000\")\n",
    "\n",
    "x"
   ]
  },
  {
   "cell_type": "code",
   "execution_count": 104,
   "metadata": {
    "collapsed": false,
    "slideshow": {
     "slide_type": "fragment"
    }
   },
   "outputs": [
    {
     "data": {
      "text/plain": [
       "1"
      ]
     },
     "execution_count": 104,
     "metadata": {},
     "output_type": "execute_result"
    }
   ],
   "source": [
    "x.weekday()"
   ]
  },
  {
   "cell_type": "code",
   "execution_count": 105,
   "metadata": {
    "collapsed": false,
    "slideshow": {
     "slide_type": "fragment"
    }
   },
   "outputs": [
    {
     "data": {
      "text/plain": [
       "datetime.datetime(2013, 1, 11, 0, 0)"
      ]
     },
     "execution_count": 105,
     "metadata": {},
     "output_type": "execute_result"
    }
   ],
   "source": [
    "from datetime import timedelta\n",
    "\n",
    "d = timedelta(days=10)\n",
    "\n",
    "x + d"
   ]
  },
  {
   "cell_type": "code",
   "execution_count": 111,
   "metadata": {
    "collapsed": false,
    "slideshow": {
     "slide_type": "subslide"
    }
   },
   "outputs": [
    {
     "name": "stdout",
     "output_type": "stream",
     "text": [
      "Kenteken,Datum eerste toelating\r\n",
      "GH223K,2015-01-06\r\n",
      "WB35ZN,1989-06-28\r\n",
      "WG90XX,1991-01-08\r\n",
      "GH209S,2015-06-13\r\n",
      "87ZRLN,2008-05-26\r\n",
      "61LBX4,2010-03-25\r\n",
      "01SHPB,2006-09-01\r\n",
      "52DHXB,1998-08-31\r\n",
      "18JZFZ,2002-09-10\r\n"
     ]
    }
   ],
   "source": [
    "!head -10 ../data/rdw_dates.txt"
   ]
  },
  {
   "cell_type": "code",
   "execution_count": 129,
   "metadata": {
    "collapsed": false,
    "slideshow": {
     "slide_type": "fragment"
    }
   },
   "outputs": [
    {
     "data": {
      "text/plain": [
       "datetime.datetime(2015, 6, 13, 0, 0)"
      ]
     },
     "execution_count": 129,
     "metadata": {},
     "output_type": "execute_result"
    }
   ],
   "source": [
    "from dateutil import parser\n",
    "\n",
    "parser.parse('13-06-2015')"
   ]
  },
  {
   "cell_type": "markdown",
   "metadata": {
    "slideshow": {
     "slide_type": "subslide"
    }
   },
   "source": [
    "## Exercise\n",
    "\n",
    "* On what weekdays are cars mostly registered?"
   ]
  },
  {
   "cell_type": "code",
   "execution_count": 134,
   "metadata": {
    "collapsed": true,
    "slideshow": {
     "slide_type": "subslide"
    }
   },
   "outputs": [],
   "source": [
    "## solution\n",
    "\n"
   ]
  },
  {
   "cell_type": "markdown",
   "metadata": {
    "slideshow": {
     "slide_type": "subslide"
    }
   },
   "source": [
    "## Other useful `stdlib` packages\n",
    "\n",
    "* `json` and `csv` read datafiles\n",
    "* `threading` \n",
    "* `sqlite3` is a builtin file-based database\n",
    "* `difflib` can compare string\n",
    "* `itertools` has functions for permutations and combinations, among other things\n",
    "* `collections` has a couple of very useful functions\n",
    "* `sockets`, `zipfile`, `argparse` .. "
   ]
  },
  {
   "cell_type": "code",
   "execution_count": 194,
   "metadata": {
    "collapsed": false,
    "slideshow": {
     "slide_type": "subslide"
    }
   },
   "outputs": [
    {
     "name": "stdout",
     "output_type": "stream",
     "text": [
      "0 1\n",
      "0 2\n",
      "0 3\n",
      "0 4\n",
      "1 2\n",
      "1 3\n",
      "1 4\n",
      "2 3\n",
      "2 4\n",
      "3 4\n"
     ]
    }
   ],
   "source": [
    "import itertools\n",
    "\n",
    "for a, b in itertools.combinations(range(0, 5), 2):\n",
    "    print(a, b)"
   ]
  },
  {
   "cell_type": "code",
   "execution_count": 196,
   "metadata": {
    "collapsed": false,
    "slideshow": {
     "slide_type": "subslide"
    }
   },
   "outputs": [
    {
     "data": {
      "text/plain": [
       "[(' ', 531),\n",
       " ('e', 531),\n",
       " ('n', 299),\n",
       " ('a', 260),\n",
       " ('t', 233),\n",
       " ('r', 173),\n",
       " ('i', 163),\n",
       " ('o', 156),\n",
       " ('d', 129),\n",
       " ('s', 116)]"
      ]
     },
     "execution_count": 196,
     "metadata": {},
     "output_type": "execute_result"
    }
   ],
   "source": [
    "import collections\n",
    "\n",
    "with open('./README.md') as f:\n",
    "    data = f.read()\n",
    "    \n",
    "counter = collections.Counter(data)\n",
    "counter.most_common(10)"
   ]
  },
  {
   "cell_type": "markdown",
   "metadata": {},
   "source": [
    "## Further reading, exercising and watching on the basics of python\n",
    "\n",
    "* Norvig notebooks\n",
    "    * http://norvig.com/ipython/README.html\n",
    "* Documentation \n",
    "    * https://docs.python.org/3/library/\n",
    "    * https://learnxinyminutes.com/docs/python3/\n",
    "* Videolessons\n",
    "    * http://stanfordpython.com/#lecture\n",
    "    * Brian Will https://www.youtube.com/watch?v=Ajmj5itd2s8\n",
    "    * PyMC3 https://www.youtube.com/watch?v=VVbJ4jEoOfU\n",
    "* Learn Python the hard way\n",
    "    * https://learnpythonthehardway.org/book/"
   ]
  }
 ],
 "metadata": {
  "anaconda-cloud": {},
  "celltoolbar": "Slideshow",
  "kernelspec": {
   "display_name": "Python [conda root]",
   "language": "python",
   "name": "conda-root-py"
  },
  "language_info": {
   "codemirror_mode": {
    "name": "ipython",
    "version": 3
   },
   "file_extension": ".py",
   "mimetype": "text/x-python",
   "name": "python",
   "nbconvert_exporter": "python",
   "pygments_lexer": "ipython3",
   "version": "3.5.2"
  }
 },
 "nbformat": 4,
 "nbformat_minor": 0
}
