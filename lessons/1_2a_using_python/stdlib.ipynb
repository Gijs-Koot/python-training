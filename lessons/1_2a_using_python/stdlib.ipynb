{
 "cells": [
  {
   "cell_type": "markdown",
   "metadata": {
    "slideshow": {
     "slide_type": "slide"
    }
   },
   "source": [
    "## The standard library\n",
    "\n",
    "* Python comes 'batteries included', the standard library (stdlib) has many functions, datatypes and packages\n",
    "* **Builtin functions** are a number of functions (and types) that are always available\n",
    "* https://docs.python.org/3/library/functions.html"
   ]
  },
  {
   "cell_type": "code",
   "execution_count": null,
   "metadata": {
    "collapsed": false,
    "slideshow": {
     "slide_type": "fragment"
    }
   },
   "outputs": [],
   "source": [
    "help(int)"
   ]
  },
  {
   "cell_type": "code",
   "execution_count": null,
   "metadata": {
    "collapsed": false,
    "slideshow": {
     "slide_type": "subslide"
    }
   },
   "outputs": [],
   "source": [
    "## example using enumerate: print the third item in a list\n",
    "\n",
    "items = ['apple', 'pear', 'banana', 'kiwi', 'peach', 'pineapple', 'orange']\n",
    "index = 3\n",
    "\n",
    "count = 0\n",
    "for item in items:\n",
    "    count = count + 1\n",
    "    if count == index:\n",
    "        print(item)"
   ]
  },
  {
   "cell_type": "code",
   "execution_count": null,
   "metadata": {
    "collapsed": false,
    "slideshow": {
     "slide_type": "fragment"
    }
   },
   "outputs": [],
   "source": [
    "for n, item in enumerate(items):\n",
    "    if n == 3:\n",
    "        print(item)"
   ]
  },
  {
   "cell_type": "markdown",
   "metadata": {
    "slideshow": {
     "slide_type": "subslide"
    }
   },
   "source": [
    "## Lambda functions\n",
    "\n",
    "* With the `lambda` keyword you can quickly create a simple function\n",
    "* Very useful in combination with `sorted` or `map` for example"
   ]
  },
  {
   "cell_type": "code",
   "execution_count": null,
   "metadata": {
    "collapsed": false,
    "slideshow": {
     "slide_type": "fragment"
    }
   },
   "outputs": [],
   "source": [
    "def add_long(x, y):\n",
    "    return x + y\n",
    "\n",
    "add = lambda x, y: x + y\n",
    "\n",
    "add(4, 5)"
   ]
  },
  {
   "cell_type": "code",
   "execution_count": null,
   "metadata": {
    "collapsed": false,
    "slideshow": {
     "slide_type": "subslide"
    }
   },
   "outputs": [],
   "source": [
    "sorted(items)"
   ]
  },
  {
   "cell_type": "code",
   "execution_count": null,
   "metadata": {
    "collapsed": false,
    "slideshow": {
     "slide_type": "subslide"
    }
   },
   "outputs": [],
   "source": [
    "def uppercase(word):\n",
    "    return word.upper()\n",
    "\n",
    "map(uppercase, items)"
   ]
  },
  {
   "cell_type": "code",
   "execution_count": null,
   "metadata": {
    "collapsed": false,
    "slideshow": {
     "slide_type": "fragment"
    }
   },
   "outputs": [],
   "source": [
    "map(lambda x: x.capitalize(), items)"
   ]
  },
  {
   "cell_type": "code",
   "execution_count": null,
   "metadata": {
    "collapsed": false,
    "slideshow": {
     "slide_type": "subslide"
    }
   },
   "outputs": [],
   "source": [
    "## zip `zips` two lists together\n",
    "\n",
    "items = ['apple', 'pear', 'banana', 'kiwi']\n",
    "ratings = [3, 2, 6, 8]\n",
    "\n",
    "for index in range(len(items)):\n",
    "    print(items[index], ratings[index])"
   ]
  },
  {
   "cell_type": "code",
   "execution_count": null,
   "metadata": {
    "collapsed": true,
    "slideshow": {
     "slide_type": "subslide"
    }
   },
   "outputs": [],
   "source": [
    "# using zip\n",
    "\n"
   ]
  },
  {
   "cell_type": "markdown",
   "metadata": {
    "slideshow": {
     "slide_type": "subslide"
    }
   },
   "source": [
    "## Exercises"
   ]
  },
  {
   "cell_type": "code",
   "execution_count": null,
   "metadata": {
    "collapsed": true,
    "slideshow": {
     "slide_type": "subslide"
    }
   },
   "outputs": [],
   "source": [
    "# write a lambda function that returns the first and last letter of a word"
   ]
  },
  {
   "cell_type": "code",
   "execution_count": null,
   "metadata": {
    "collapsed": true,
    "slideshow": {
     "slide_type": "subslide"
    }
   },
   "outputs": [],
   "source": [
    "# use the map function to create a list of first and last letters of the fruit list"
   ]
  },
  {
   "cell_type": "code",
   "execution_count": null,
   "metadata": {
    "collapsed": true,
    "slideshow": {
     "slide_type": "subslide"
    }
   },
   "outputs": [],
   "source": [
    "# Do the same, but now using an iterator"
   ]
  },
  {
   "cell_type": "code",
   "execution_count": null,
   "metadata": {
    "collapsed": true,
    "slideshow": {
     "slide_type": "subslide"
    }
   },
   "outputs": [],
   "source": [
    "# Sort the fruit list by length of the word"
   ]
  },
  {
   "cell_type": "code",
   "execution_count": null,
   "metadata": {
    "collapsed": false,
    "scrolled": true,
    "slideshow": {
     "slide_type": "subslide"
    }
   },
   "outputs": [],
   "source": [
    "# Create a dictionary of the items and the ratings using a `zip` and a dictionary comprehension\n",
    "# answer = {\n",
    "#    \"apple\": 3,\n",
    "#    \"pear\": 2,\n",
    "#    ...\n",
    "# }\n",
    "\n"
   ]
  },
  {
   "cell_type": "markdown",
   "metadata": {
    "slideshow": {
     "slide_type": "slide"
    }
   },
   "source": [
    "## Reading files\n",
    "\n",
    "* Uses the `open` function\n",
    "* Be careful with files, they should always be closed as well"
   ]
  },
  {
   "cell_type": "code",
   "execution_count": null,
   "metadata": {
    "collapsed": false,
    "slideshow": {
     "slide_type": "fragment"
    }
   },
   "outputs": [],
   "source": [
    "file = open('../README.md')\n",
    "data = file.read()    \n",
    "\n",
    "print(data[:300])"
   ]
  },
  {
   "cell_type": "code",
   "execution_count": null,
   "metadata": {
    "collapsed": false,
    "slideshow": {
     "slide_type": "subslide"
    }
   },
   "outputs": [],
   "source": [
    "## use **with** to automatically close the file\n",
    "## if you use a file as an iterator, you get lines\n",
    "\n",
    "with open('../README.md') as f:\n",
    "    data = f.read()    \n",
    "    \n",
    "with open('../README.md') as f:\n",
    "    for line_number, l in enumerate(f):\n",
    "        print('Line number ', line_number, \":\")\n",
    "        print(l, '*' * 60, '\\n')\n",
    "        if line_number > 3:\n",
    "            break"
   ]
  },
  {
   "cell_type": "markdown",
   "metadata": {
    "slideshow": {
     "slide_type": "subslide"
    }
   },
   "source": [
    "## Exercises\n",
    "\n",
    "* Are there more a's or more b's in the file README.md?\n",
    "* What is the index of the line with the most words? You can use `enumerate` and `str.split`. "
   ]
  },
  {
   "cell_type": "code",
   "execution_count": null,
   "metadata": {
    "collapsed": true,
    "slideshow": {
     "slide_type": "subslide"
    }
   },
   "outputs": [],
   "source": [
    "## are there more a's or more b's in the file README.md?"
   ]
  },
  {
   "cell_type": "code",
   "execution_count": null,
   "metadata": {
    "collapsed": false,
    "slideshow": {
     "slide_type": "subslide"
    }
   },
   "outputs": [],
   "source": [
    "## what is the index of the line with the most words? You can use enumerate and str.split\n",
    "\n",
    "\"word word word\".split()"
   ]
  },
  {
   "cell_type": "markdown",
   "metadata": {
    "slideshow": {
     "slide_type": "slide"
    }
   },
   "source": [
    "## `stdlib` highlights\n",
    "\n",
    "* We have seen builtin functions, and builtin datatypes, but python also comes with a number of builtin packages for other common functions\n",
    "* You can access a package, but first you have to `import` it\n",
    "* https://docs.python.org/3/library/"
   ]
  },
  {
   "cell_type": "code",
   "execution_count": null,
   "metadata": {
    "collapsed": false,
    "slideshow": {
     "slide_type": "subslide"
    }
   },
   "outputs": [],
   "source": [
    "## datetime is for working with dates\n",
    "\n",
    "import datetime\n",
    "\n",
    "x = datetime.datetime(2013, 1, 1)\n",
    "\n",
    "# x.strftime(\"%a, %d %b %Y %H:%M:%S +0000\")\n",
    "\n",
    "x"
   ]
  },
  {
   "cell_type": "code",
   "execution_count": null,
   "metadata": {
    "collapsed": false,
    "slideshow": {
     "slide_type": "fragment"
    }
   },
   "outputs": [],
   "source": [
    "x.weekday()"
   ]
  },
  {
   "cell_type": "code",
   "execution_count": null,
   "metadata": {
    "collapsed": false,
    "slideshow": {
     "slide_type": "fragment"
    }
   },
   "outputs": [],
   "source": [
    "from datetime import timedelta\n",
    "\n",
    "d = timedelta(days=10)\n",
    "\n",
    "x + d"
   ]
  },
  {
   "cell_type": "code",
   "execution_count": null,
   "metadata": {
    "collapsed": false,
    "slideshow": {
     "slide_type": "subslide"
    }
   },
   "outputs": [],
   "source": [
    "!head -10 ../data/rdw_dates.txt"
   ]
  },
  {
   "cell_type": "code",
   "execution_count": null,
   "metadata": {
    "collapsed": false,
    "slideshow": {
     "slide_type": "fragment"
    }
   },
   "outputs": [],
   "source": [
    "from dateutil import parser\n",
    "\n",
    "parser.parse('13-06-2015')"
   ]
  },
  {
   "cell_type": "markdown",
   "metadata": {
    "slideshow": {
     "slide_type": "subslide"
    }
   },
   "source": [
    "## Exercise\n",
    "\n",
    "* On what weekdays are cars mostly registered?"
   ]
  },
  {
   "cell_type": "code",
   "execution_count": null,
   "metadata": {
    "collapsed": true,
    "slideshow": {
     "slide_type": "subslide"
    }
   },
   "outputs": [],
   "source": [
    "## solution\n",
    "\n"
   ]
  },
  {
   "cell_type": "markdown",
   "metadata": {
    "slideshow": {
     "slide_type": "subslide"
    }
   },
   "source": [
    "## Other useful `stdlib` packages\n",
    "\n",
    "* `json` and `csv` read datafiles\n",
    "* `threading` \n",
    "* `sqlite3` is a builtin file-based database\n",
    "* `difflib` can compare string\n",
    "* `itertools` has functions for permutations and combinations, among other things\n",
    "* `collections` has a couple of very useful functions\n",
    "* `sockets`, `zipfile`, `argparse` .. "
   ]
  },
  {
   "cell_type": "code",
   "execution_count": null,
   "metadata": {
    "collapsed": false,
    "slideshow": {
     "slide_type": "subslide"
    }
   },
   "outputs": [],
   "source": [
    "import itertools\n",
    "\n",
    "for a, b in itertools.combinations(range(0, 5), 2):\n",
    "    print(a, b)"
   ]
  },
  {
   "cell_type": "code",
   "execution_count": null,
   "metadata": {
    "collapsed": false,
    "slideshow": {
     "slide_type": "subslide"
    }
   },
   "outputs": [],
   "source": [
    "import collections\n",
    "\n",
    "with open('./README.md') as f:\n",
    "    data = f.read()\n",
    "    \n",
    "counter = collections.Counter(data)\n",
    "counter.most_common(10)"
   ]
  },
  {
   "cell_type": "markdown",
   "metadata": {},
   "source": [
    "## Further reading, exercising and watching on the basics of python\n",
    "\n",
    "* Norvig notebooks\n",
    "    * http://norvig.com/ipython/README.html\n",
    "* Documentation \n",
    "    * https://docs.python.org/3/library/\n",
    "    * https://learnxinyminutes.com/docs/python3/\n",
    "* Videolessons\n",
    "    * http://stanfordpython.com/#lecture\n",
    "    * Brian Will https://www.youtube.com/watch?v=Ajmj5itd2s8\n",
    "    * PyMC3 https://www.youtube.com/watch?v=VVbJ4jEoOfU\n",
    "* Learn Python the hard way\n",
    "    * https://learnpythonthehardway.org/book/"
   ]
  }
 ],
 "metadata": {
  "anaconda-cloud": {},
  "celltoolbar": "Slideshow",
  "kernelspec": {
   "display_name": "Python [conda root]",
   "language": "python",
   "name": "conda-root-py"
  },
  "language_info": {
   "codemirror_mode": {
    "name": "ipython",
    "version": 3
   },
   "file_extension": ".py",
   "mimetype": "text/x-python",
   "name": "python",
   "nbconvert_exporter": "python",
   "pygments_lexer": "ipython3",
   "version": "3.5.2"
  }
 },
 "nbformat": 4,
 "nbformat_minor": 0
}
