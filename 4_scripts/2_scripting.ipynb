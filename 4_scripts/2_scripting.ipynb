{
 "cells": [
  {
   "cell_type": "markdown",
   "metadata": {},
   "source": [
    "## Scripting\n",
    "\n",
    "* We will create a script for automatically creating wordclouds from multiple internet pages\n",
    "* Start with creating a new, empty folder\n",
    "* Navigate to this folder with the Anaconda Prompt\n",
    "    * You can right-click on the folder and use 'Anaconda Prompt here'\n",
    "* Create a new file in the folder called `util.py`\n",
    "* Open this file with your text editor. If you don't have one, download and install Atom from `atom.io`\n",
    "* Write in the file and save:\n",
    "\n",
    "    `print(\"Hello!\")` \n",
    "\n",
    "\n",
    "* Run `python hello.py`"
   ]
  },
  {
   "cell_type": "markdown",
   "metadata": {},
   "source": [
    "## Comparison with Jupyter\n",
    "\n",
    "* The language is the same\n",
    "* With scripting, there is no memory of the variables, you start over every time\n",
    "* Jupyter is good for interactive analysis\n",
    "* \"Real\" programs in python will always consist of many scripts working together\n",
    "\n"
   ]
  },
  {
   "cell_type": "code",
   "execution_count": 3,
   "metadata": {
    "collapsed": false
   },
   "outputs": [
    {
     "data": {
      "text/plain": [
       "[\"'Miljoenenbonus Verhagen nekte postfusie met Belgen'\",\n",
       " 'De andere grote banken gingen SNS al voor met reorganisatie',\n",
       " 'SNS wil honderden banen schrappen',\n",
       " 'KLM en piloten bereiken overeenstemming over pensioen',\n",
       " 'Minder weekendjes Londen na Brexit-referendum',\n",
       " 'Nederland deze eeuw grootste nettobetaler van de EU',\n",
       " \"'Nieuwkomers dreigen achter te blijven door gebrekkige hulp'\",\n",
       " 'Nintendo breekt met verleden: Mario nu ook op smartphones',\n",
       " 'Achmea wil 2000 banen schrappen',\n",
       " 'Amerikaanse rente omhoog, de euro omlaag',\n",
       " \"'Werk Belastingdienst niet in gevaar'\",\n",
       " 'Verbruik 4G-data in jaar tijd verdubbeld',\n",
       " 'Beroepsverbod voor bankier wegens overtreden bankiers-eed',\n",
       " 'Werkloosheid zakt onder het half miljoen']"
      ]
     },
     "execution_count": 3,
     "metadata": {},
     "output_type": "execute_result"
    }
   ],
   "source": [
    "import feedparser\n",
    "\n",
    "url = 'http://feeds.nos.nl/nosnieuwseconomie'\n",
    "feed = feedparser.parse(url)\n",
    "\n",
    "[e.title for e in feed[\"entries\"]]"
   ]
  },
  {
   "cell_type": "markdown",
   "metadata": {},
   "source": [
    "## Exercise\n",
    "\n",
    "* Copy the functions `get_lowercase_words`, `filter_letters` and `get_filtered_lowercase_words` into `util.py`\n",
    "* Add one line at the end:\n",
    "    \n",
    "    `print(get_filtered_lowercase_words(\"test.. dit is een test\"))\n",
    "    \n",
    "* Create a new file called `main.py` in the same folder as `util.py`\n",
    "* Make it print all the titles of the articles in the RSS feed"
   ]
  },
  {
   "cell_type": "markdown",
   "metadata": {},
   "source": [
    "## Combining scripts\n",
    "\n",
    "* You can use the functions in the `util.py` file in `main.py` using `import util`\n",
    "* The functions are then available as `util.get_filtered_lowercase_words` etcetera\n",
    "* If you import a file, everything is \"executed\", so the `print` statement from earlier is also called\n",
    "* You can prevent this with a special block of code\n",
    "\n",
    "```\n",
    "if __name__ == \"__main__\":\n",
    "    \n",
    "    # this is only called if this function is executed directly, not as import\n",
    "    print(\"Hello!)\n",
    "```"
   ]
  },
  {
   "cell_type": "markdown",
   "metadata": {},
   "source": [
    "## Exercise\n",
    "\n",
    "* Create a script that downloads all pages from the RSS feed, creates wordclouds from them, and saves them to disk\n",
    "    * Use the functions from `util.py` to get a list of words"
   ]
  },
  {
   "cell_type": "markdown",
   "metadata": {},
   "source": [
    "## Using GitHub\n",
    "\n",
    "* `git` is a program for keeping track of changes on code\n",
    "* Alternatives are `hg` and `svn`, but `git` is very popular\n",
    "* `git` is a simple program / command that runs on your computer, but you can collaborate with others using a central repository\n",
    "* GitHub hosts such repositories, for free if your code is public"
   ]
  },
  {
   "cell_type": "markdown",
   "metadata": {},
   "source": [
    "## Git commands\n",
    "\n",
    "* If you have installed Git Bash, you can use `git`\n",
    "* Start Git Bash, navigate to the folder you're working in\n",
    "\n",
    "```\n",
    "git status               # see status\n",
    "git clone                # copy an external repository to your disk\n",
    "git add                  # add a file to the version control\n",
    "git commit -m {message}  # commit your changes and added files to a checkpoint\n",
    "git push                 # push the changes to the external repository\n",
    "```"
   ]
  },
  {
   "cell_type": "markdown",
   "metadata": {},
   "source": [
    "## Exercises\n",
    "\n",
    "* Create an account on GitHub, use `git clone` to copy your own repository to disk\n",
    "* Copy the scripts you created to the new folder\n",
    "* Use `git add` to add the files to your repository\n",
    "* Create your first commit with\n",
    "    * `git commit -m 'My first commit!'`\n",
    "* Push your code with `git push`\n",
    "* Add a file called `README.md`, write some text in it to introduce your repository\n",
    "* Add, commit and push again"
   ]
  },
  {
   "cell_type": "code",
   "execution_count": null,
   "metadata": {
    "collapsed": true
   },
   "outputs": [],
   "source": []
  }
 ],
 "metadata": {
  "anaconda-cloud": {},
  "kernelspec": {
   "display_name": "Python [conda root]",
   "language": "python",
   "name": "conda-root-py"
  },
  "language_info": {
   "codemirror_mode": {
    "name": "ipython",
    "version": 3
   },
   "file_extension": ".py",
   "mimetype": "text/x-python",
   "name": "python",
   "nbconvert_exporter": "python",
   "pygments_lexer": "ipython3",
   "version": "3.5.2"
  }
 },
 "nbformat": 4,
 "nbformat_minor": 1
}
