{
 "cells": [
  {
   "cell_type": "markdown",
   "metadata": {},
   "source": [
    "## Today\n",
    "\n",
    "* This notebook: Exercises with text\n",
    "* Downloading data over internet\n",
    "* Part 2: Writing a script"
   ]
  },
  {
   "cell_type": "markdown",
   "metadata": {},
   "source": [
    "## Exercises\n",
    "\n",
    "* Write a function that returns a list of lowercase words, from a text. Use the `str.split` function to split the text on spaces, and 'str.lower'. "
   ]
  },
  {
   "cell_type": "code",
   "execution_count": null,
   "metadata": {
    "collapsed": false
   },
   "outputs": [],
   "source": [
    "def get_lowercase_words(text):\n",
    "    pass\n",
    "\n",
    "test = \"first Text second TEXT.\"\n",
    "result = get_lowercase_words(test)\n",
    "\n",
    "print(result)\n",
    "\n",
    "assert result == [\"first\", \"text\", \"second\", \"text.\"], \"That's not correct!\""
   ]
  },
  {
   "cell_type": "markdown",
   "metadata": {},
   "source": [
    "* Write a function that returns, given a lowercase word, only the letters. Follow this plan; \n",
    "    * Write a comprehension of the letters in the word\n",
    "    * Filter the comprehension on characters that are in `string.lowercase`\n",
    "    * Use `str.join` to put the characters back together into a word.  "
   ]
  },
  {
   "cell_type": "code",
   "execution_count": null,
   "metadata": {
    "collapsed": false
   },
   "outputs": [],
   "source": [
    "def filter_letters(word):\n",
    "    pass\n",
    "\n",
    "test = \"letters..only!\"\n",
    "result = filter_letters(test)\n",
    "\n",
    "print(result)\n",
    "\n",
    "assert result == \"lettersonly\""
   ]
  },
  {
   "cell_type": "markdown",
   "metadata": {},
   "source": [
    "## Getting data with `requests`\n",
    "\n",
    "* `requests` is a library that can download data from the internet\n",
    "* Useful for downloading many pages or files in a script\n",
    "* Often you can use a more specialized tool, such as `tweepy` for Twitter data, `feedparser` for RSS feeds and `yahoo_finance` for example"
   ]
  },
  {
   "cell_type": "code",
   "execution_count": null,
   "metadata": {
    "collapsed": true
   },
   "outputs": [],
   "source": [
    "import requests\n",
    "\n",
    "url = \"http://nos.nl/artikel/2148873-roda-en-utrecht-vermaken-zonder-te-scoren.html\"\n",
    "\n",
    "response = requests.get(url)"
   ]
  },
  {
   "cell_type": "code",
   "execution_count": null,
   "metadata": {
    "collapsed": false
   },
   "outputs": [],
   "source": [
    "response.content"
   ]
  },
  {
   "cell_type": "markdown",
   "metadata": {},
   "source": [
    "## Parsing `HTML` with beautifulsoup"
   ]
  },
  {
   "cell_type": "code",
   "execution_count": null,
   "metadata": {
    "collapsed": false
   },
   "outputs": [],
   "source": [
    "from bs4 import BeautifulSoup\n",
    "\n",
    "soup = BeautifulSoup(response.content, \"lxml\")\n",
    "\n",
    "txt = soup.select_one(\".article\").text\n",
    "print(txt)"
   ]
  },
  {
   "cell_type": "code",
   "execution_count": null,
   "metadata": {
    "collapsed": false
   },
   "outputs": [],
   "source": [
    "from wordcloud import WordCloud\n",
    "\n",
    "%pylab inline\n",
    "\n",
    "wc = WordCloud(\n",
    "    font_path='../resources/other/Chunkfive.otf',\n",
    ").generate(txt)\n",
    "\n",
    "plt.figure(figsize=(18, 14))\n",
    "plt.imshow(wc)"
   ]
  },
  {
   "cell_type": "markdown",
   "metadata": {},
   "source": [
    "## Exercise\n",
    "\n",
    "* Combine the earlier functions into a function that returns a list of all words in this text, lowercase. \n",
    "* Use `collections.Counter` to find the 25 most common words\n",
    "* Create a wordcloud of the words, omitting the 10 most common words\n",
    "* (Extra) Get the stopwordlist from http://snowball.tartarus.org/algorithms/dutch/stop.txt and use the `stopwords=` option on `wordcloud.Worldcloud` to remove the common words"
   ]
  },
  {
   "cell_type": "code",
   "execution_count": null,
   "metadata": {
    "collapsed": true
   },
   "outputs": [],
   "source": [
    "def get_filtered_lowercase_words(text):\n",
    "    pass"
   ]
  },
  {
   "cell_type": "code",
   "execution_count": null,
   "metadata": {
    "collapsed": true
   },
   "outputs": [],
   "source": [
    "## use collections.Counter to find the 10 most common words"
   ]
  },
  {
   "cell_type": "code",
   "execution_count": null,
   "metadata": {
    "collapsed": true
   },
   "outputs": [],
   "source": [
    "## create a wordcloud of the filtered list of words, but omit the 10 most common ones"
   ]
  }
 ],
 "metadata": {
  "anaconda-cloud": {},
  "kernelspec": {
   "display_name": "Python [conda root]",
   "language": "python",
   "name": "conda-root-py"
  },
  "language_info": {
   "codemirror_mode": {
    "name": "ipython",
    "version": 3
   },
   "file_extension": ".py",
   "mimetype": "text/x-python",
   "name": "python",
   "nbconvert_exporter": "python",
   "pygments_lexer": "ipython3",
   "version": "3.5.2"
  }
 },
 "nbformat": 4,
 "nbformat_minor": 1
}
