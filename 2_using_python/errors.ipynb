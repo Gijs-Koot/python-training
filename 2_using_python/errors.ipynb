{
 "cells": [
  {
   "cell_type": "markdown",
   "metadata": {
    "collapsed": true,
    "slideshow": {
     "slide_type": "slide"
    }
   },
   "source": [
    "* **Exceptions** and errors are very common, so we have a quick look at them early\n",
    "* Errors can occur while parsing the code (`SyntaxError`), or during evaluation (other errors)\n",
    "* Common errors\n",
    "    * Tabs and indentation, wrong function usage, bugs, problems with downloading from a website or reading a file\n",
    "* One of the adagiums in Python is about catching and throwing errors rather than checking everything\n",
    "\n",
    "> It's easier to ask for forgiveness than permission. \n",
    "\n",
    "* You can 'catch' errors with a `try-catch` construction"
   ]
  },
  {
   "cell_type": "code",
   "execution_count": null,
   "metadata": {
    "collapsed": false,
    "slideshow": {
     "slide_type": "subslide"
    }
   },
   "outputs": [],
   "source": [
    "def print_fourth_element(l):\n",
    "    print(l[3])\n",
    "\n",
    "l = [1, 2, 3]\n",
    "\n",
    "print_fourth_element(l)"
   ]
  },
  {
   "cell_type": "code",
   "execution_count": null,
   "metadata": {
    "collapsed": false,
    "scrolled": true,
    "slideshow": {
     "slide_type": "subslide"
    }
   },
   "outputs": [],
   "source": [
    "print \"hello\""
   ]
  },
  {
   "cell_type": "markdown",
   "metadata": {
    "slideshow": {
     "slide_type": "slide"
    }
   },
   "source": [
    "## Builtin errors\n",
    "\n",
    "* Python has many error types builtin\n",
    "* If you start catching errors, you should always be careful, some errors should lead to program halt probably\n",
    "\n",
    "https://docs.python.org/3.5/library/exceptions.html#concrete-exceptions"
   ]
  },
  {
   "cell_type": "code",
   "execution_count": null,
   "metadata": {
    "collapsed": true,
    "slideshow": {
     "slide_type": "fragment"
    }
   },
   "outputs": [],
   "source": [
    "try:\n",
    "    write_very_big_file()\n",
    "except Exception as e:\n",
    "    pass"
   ]
  },
  {
   "cell_type": "code",
   "execution_count": null,
   "metadata": {
    "collapsed": false,
    "slideshow": {
     "slide_type": "subslide"
    }
   },
   "outputs": [],
   "source": [
    "## We use the random function in some examples\n",
    "\n",
    "import random\n",
    "\n",
    "random.randint(34, 100)"
   ]
  },
  {
   "cell_type": "code",
   "execution_count": null,
   "metadata": {
    "collapsed": false,
    "slideshow": {
     "slide_type": "fragment"
    }
   },
   "outputs": [],
   "source": [
    "x = random.random()\n",
    "if x > .9:\n",
    "    print(\"Yes!\")"
   ]
  },
  {
   "cell_type": "code",
   "execution_count": null,
   "metadata": {
    "collapsed": false,
    "slideshow": {
     "slide_type": "fragment"
    }
   },
   "outputs": [],
   "source": [
    "## The `input` function is also useful, it asks the user for input\n",
    "## It always returns a string\n",
    "## Be careful, you should not name the input `input`! \n",
    "\n",
    "raw = input()"
   ]
  },
  {
   "cell_type": "code",
   "execution_count": null,
   "metadata": {
    "collapsed": false,
    "slideshow": {
     "slide_type": "subslide"
    }
   },
   "outputs": [],
   "source": [
    "x = 3\n",
    "\n",
    "# r is a random\n",
    "r = random.random()\n",
    "\n",
    "## in rare cases, x is a letter instead of a number\n",
    "if r > .7:\n",
    "    x = 'a'\n",
    "\n",
    "if x > 2:\n",
    "    print(\"X is bigger than two!\")"
   ]
  },
  {
   "cell_type": "code",
   "execution_count": null,
   "metadata": {
    "collapsed": false,
    "slideshow": {
     "slide_type": "subslide"
    }
   },
   "outputs": [],
   "source": [
    "## You can also create your own errors\n",
    "## That doesn't raise an error\n",
    "## If you want to actually create a problem yourself, you can raise an exception\n",
    "\n",
    "x = ValueError(\"This is not a good value\")\n",
    "\n",
    "x"
   ]
  },
  {
   "cell_type": "code",
   "execution_count": null,
   "metadata": {
    "collapsed": false,
    "slideshow": {
     "slide_type": "fragment"
    }
   },
   "outputs": [],
   "source": [
    "inp = input('Give me a number smaller than 5: ')\n",
    "\n",
    "parsed = int(inp)\n",
    "\n",
    "if parsed >= 5:\n",
    "    raise ValueError(\"This is too big for me!\")\n",
    "\n",
    "print('Ok thanks.')"
   ]
  },
  {
   "cell_type": "code",
   "execution_count": null,
   "metadata": {
    "collapsed": false,
    "slideshow": {
     "slide_type": "subslide"
    }
   },
   "outputs": [],
   "source": [
    "def tricky_function():\n",
    "    if random.random() > .4:\n",
    "        raise TypeError(\"Boom!\")\n",
    "        \n",
    "try:\n",
    "    print(\"Trying.. \")\n",
    "    tricky_function()\n",
    "except TypeError as e:\n",
    "    print(\"Error!\", e)\n",
    "finally:\n",
    "    print(\"Done.\")"
   ]
  },
  {
   "cell_type": "markdown",
   "metadata": {
    "slideshow": {
     "slide_type": "slide"
    }
   },
   "source": [
    "**Exercise** Using the `input` function, create a function called `get_age` that\n",
    "* Asks for your age, then throws a helpful exception \n",
    "    * If you enter something that doesn't parse as a number\n",
    "    * If you enter a number that's too big or too small \n",
    "* Returns the age as an integer"
   ]
  },
  {
   "cell_type": "code",
   "execution_count": null,
   "metadata": {
    "collapsed": true,
    "slideshow": {
     "slide_type": "fragment"
    }
   },
   "outputs": [],
   "source": [
    "def get_age():\n",
    "    \n",
    "    inp = input('')\n",
    "    return ## the age as an integer"
   ]
  },
  {
   "cell_type": "markdown",
   "metadata": {
    "slideshow": {
     "slide_type": "subslide"
    }
   },
   "source": [
    "**Exercise** Write a `try-catch-finally` that calls this function and deals with the exceptions\n",
    "\n",
    "* Always print 'Bye!'\n",
    "* If an error occurs, print the error (but don't let it pass!)\n",
    "* If everything goes well, print \n",
    "\n",
    "> In four years, you will be {age + 4}"
   ]
  },
  {
   "cell_type": "code",
   "execution_count": null,
   "metadata": {
    "collapsed": true,
    "slideshow": {
     "slide_type": "fragment"
    }
   },
   "outputs": [],
   "source": [
    "try:\n",
    "    age = get_age()\n",
    "except:\n",
    "    ## code here\n",
    "    pass"
   ]
  }
 ],
 "metadata": {
  "anaconda-cloud": {},
  "celltoolbar": "Slideshow",
  "kernelspec": {
   "display_name": "Python [conda root]",
   "language": "python",
   "name": "conda-root-py"
  },
  "language_info": {
   "codemirror_mode": {
    "name": "ipython",
    "version": 3
   },
   "file_extension": ".py",
   "mimetype": "text/x-python",
   "name": "python",
   "nbconvert_exporter": "python",
   "pygments_lexer": "ipython3",
   "version": "3.5.2"
  }
 },
 "nbformat": 4,
 "nbformat_minor": 0
}
